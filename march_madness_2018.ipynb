{
 "cells": [
  {
   "cell_type": "code",
   "execution_count": 1,
   "metadata": {
    "collapsed": true
   },
   "outputs": [],
   "source": [
    "import os\n",
    "\n",
    "mingw_path = 'C:\\\\Program Files\\\\mingw-w64\\\\x86_64-7.2.0-posix-seh-rt_v5-rev1\\\\mingw64\\\\bin'\n",
    "\n",
    "os.environ['PATH'] = mingw_path + ';' + os.environ['PATH']"
   ]
  },
  {
   "cell_type": "code",
   "execution_count": 2,
   "metadata": {
    "collapsed": true
   },
   "outputs": [],
   "source": [
    "import pandas as pd\n",
    "import numpy as np\n",
    "import matplotlib.pyplot as plt\n",
    "import seaborn as sns\n",
    "import pickle\n",
    "import warnings\n",
    "%matplotlib inline\n",
    "\n",
    "from sklearn.tree import DecisionTreeClassifier\n",
    "from sklearn.ensemble import ExtraTreesClassifier,RandomForestClassifier, GradientBoostingClassifier, VotingClassifier, AdaBoostClassifier\n",
    "from sklearn import ensemble\n",
    "from sklearn.metrics import log_loss\n",
    "from sklearn.preprocessing import StandardScaler\n",
    "from sklearn.model_selection import GridSearchCV, train_test_split, RandomizedSearchCV\n",
    "from sklearn.linear_model import LogisticRegression\n",
    "from sklearn.neighbors import KNeighborsClassifier \n",
    "from xgboost import XGBClassifier\n"
   ]
  },
  {
   "cell_type": "markdown",
   "metadata": {},
   "source": [
    "# Read in the Data"
   ]
  },
  {
   "cell_type": "code",
   "execution_count": 3,
   "metadata": {
    "collapsed": true
   },
   "outputs": [],
   "source": [
    "regular_season_detailed = pd.read_csv('RegularSeasonDetailedResults.csv')\n",
    "\n",
    "regular_compact = pd.read_csv('RegularSeasonCompactResults.csv')\n",
    "\n",
    "tourney_detailed = pd.read_csv('NCAATourneyDetailedResults.csv')\n",
    "\n",
    "tourney_compact = pd.read_csv('NCAATourneyCompactResults.csv')\n",
    "\n",
    "sample_sub_stage = pd.read_csv('SampleSubmissionStage2.csv')\n",
    "\n",
    "teams = pd.read_csv('Teams.csv')"
   ]
  },
  {
   "cell_type": "markdown",
   "metadata": {},
   "source": [
    "## Get train data "
   ]
  },
  {
   "cell_type": "markdown",
   "metadata": {},
   "source": [
    "### Function to get median or mean stats of team1 whether they lose or win for training set"
   ]
  },
  {
   "cell_type": "code",
   "execution_count": 4,
   "metadata": {
    "collapsed": true
   },
   "outputs": [],
   "source": [
    "def team1_stat(team1_copy, outcome, team_stat, central_tend):\n",
    "    if outcome == 'win':\n",
    "        team1_winning_df = team1_copy.copy()\n",
    "        features = [col for col in team1_copy.columns if (col != 'Season') & (col != 'team1') & (col != team_stat)]\n",
    "        team1_winning_df.drop(features, axis = 1, inplace = True)\n",
    "        if central_tend == 'mean':\n",
    "            team1_mean = team1_winning_df.groupby(['Season', 'team1']).mean()\n",
    "            team1_mean = team1_mean.reset_index().rename(columns = {team_stat: 'team1_'+team_stat+'_avg'})\n",
    "            return team1_mean\n",
    "        elif central_tend == 'median':\n",
    "            team1_median = team1_winning_df.groupby(['Season', 'team1']).median()\n",
    "            team1_median = team1_median.reset_index().rename(columns = {team_stat: 'team1_'+team_stat+'_med'})\n",
    "            return team1_median\n",
    "        else:\n",
    "            print('Error in central tendancy chosen')\n",
    "    elif outcome == 'lose':\n",
    "        team1_losing_df = team1_copy.copy()\n",
    "        features = [col for col in team1_copy.columns if (col!= 'Season') & (col != 'team1') & (col != team_stat)]\n",
    "        team1_losing_df.drop(features, axis =1, inplace = True)\n",
    "        if central_tend == 'mean':\n",
    "            team1_mean = team1_losing_df.groupby(['Season', 'team1']).mean()\n",
    "            team1_mean = team1_mean.reset_index().rename(columns = {team_stat: 'team1_'+team_stat+ '_avg'})\n",
    "            return team1_mean\n",
    "        elif central_tend == 'median':\n",
    "            team1_median = team1_losing_df.groupby(['Season', 'team1']).median()\n",
    "            team1_median = team1_median.reset_index().rename(columns = {team_stat: 'team1_'+team_stat+'_med'})\n",
    "            return team1_median\n",
    "        else:\n",
    "            print('Error in central tendancy chosen')\n",
    "    else:\n",
    "        print(\"It's win or lose people!\")\n",
    " "
   ]
  },
  {
   "cell_type": "markdown",
   "metadata": {},
   "source": [
    "### Function to get median or mean stats of team2 whether they lose or win for training set"
   ]
  },
  {
   "cell_type": "code",
   "execution_count": 5,
   "metadata": {
    "collapsed": true
   },
   "outputs": [],
   "source": [
    "def team2_stat(team2_copy, outcome, team_stat, central_tend):\n",
    "    if outcome == 'win':\n",
    "        team2_winning_df = team2_copy.copy()\n",
    "        features = [col for col in team2_copy.columns if (col != 'Season') & (col != 'team2') & (col != team_stat)]\n",
    "        team2_winning_df.drop(features, axis = 1, inplace = True)\n",
    "        if central_tend == 'mean':\n",
    "            team2_mean = team2_winning_df.groupby(['Season', 'team2']).mean()\n",
    "            team2_mean = team2_mean.reset_index().rename(columns = {team_stat: 'team2_'+team_stat+'_avg'})\n",
    "            return team2_mean\n",
    "        elif central_tend == 'median':\n",
    "            team2_median = team2_winning_df.groupby(['Season', 'team2']).median()\n",
    "            team2_median = team2_median.reset_index().rename(columns = {team_stat: 'team2_'+team_stat+'_med'})\n",
    "            return team2_median\n",
    "        else:\n",
    "            print('Error in central tendancy chosen')\n",
    "    elif outcome == 'lose':\n",
    "        team2_losing_df = team2_copy.copy()\n",
    "        features = [col for col in team2_copy.columns if (col!= 'Season') & (col != 'team2') & (col != team_stat)]\n",
    "        team2_losing_df.drop(features, axis =1, inplace = True)\n",
    "        if central_tend == 'mean':\n",
    "            team2_mean = team2_losing_df.groupby(['Season', 'team2']).mean()\n",
    "            team2_mean = team2_mean.reset_index().rename(columns = {team_stat: 'team2_'+team_stat+ '_avg'})\n",
    "            return team2_mean\n",
    "        elif central_tend == 'median':\n",
    "            team2_median = team2_losing_df.groupby(['Season', 'team2']).median()\n",
    "            team2_median = team2_median.reset_index().rename(columns = {team_stat: 'team2_'+team_stat+'_med'})\n",
    "            return team2_median\n",
    "        else:\n",
    "            print('Error in central tendancy chosen')\n",
    "    else:\n",
    "        print(\"It's win or lose people!\")\n",
    "            \n",
    "        "
   ]
  },
  {
   "cell_type": "markdown",
   "metadata": {},
   "source": [
    "### Getting the wins (target) columns"
   ]
  },
  {
   "cell_type": "code",
   "execution_count": 6,
   "metadata": {
    "collapsed": true
   },
   "outputs": [],
   "source": [
    "def win_columns(df): \n",
    "    games = []\n",
    "    for row in df.to_dict('records'):\n",
    "        for perspective in ['team1', 'team2']:\n",
    "            game = {}\n",
    "            game['Won'] = int(perspective == 'team1')\n",
    "            if perspective == 'team1':\n",
    "                team_letter = 'team1'\n",
    "                opp_letter = 'team2'\n",
    "            else:\n",
    "                team_letter = 'team2'\n",
    "                opp_letter = 'team1'\n",
    "            team_stats = [k for k,v in row.items() if k[:5] == team_letter]\n",
    "            opp_stats = [k for k,v in row.items() if k[:5] == opp_letter]\n",
    "\n",
    "            for stat in team_stats:\n",
    "                game_stat = 'team1' + stat[5:]\n",
    "                game[game_stat] = row[stat]\n",
    "            for stat in opp_stats:\n",
    "                opp_stat = 'team2' + stat[5:]\n",
    "                game[opp_stat] = row[stat]\n",
    "\n",
    "            for general_stat in ['DayNum', 'NumOT', 'Season', 'WLoc']:\n",
    "                game[general_stat] = row[general_stat]\n",
    "\n",
    "            games.append(game)\n",
    "\n",
    "    win_df = pd.DataFrame(games)\n",
    "    return win_df"
   ]
  },
  {
   "cell_type": "markdown",
   "metadata": {},
   "source": [
    "### Cleaning my data"
   ]
  },
  {
   "cell_type": "code",
   "execution_count": 7,
   "metadata": {
    "collapsed": true
   },
   "outputs": [],
   "source": [
    "def ncaa_train(regular_compact, regular_season_detailed):\n",
    "    \n",
    "    warnings.filterwarnings(\"ignore\")\n",
    "    #change column names to be more representative of what we're dealing with\n",
    "    df_renamed = regular_compact.rename(columns = {'WTeamID':'team1', 'LTeamID': 'team2'}).query(\"Season > 2005\")\n",
    "    regular_season_detailed = regular_season_detailed.query(\"Season > 2005\")\n",
    "    \n",
    "    # get the tournament seeds\n",
    "    tourney_seeds = pd.read_csv('NCAATourneySeeds.csv')\n",
    "    tourney_seeds_int = tourney_seeds.copy()\n",
    "    tourney_seeds_int['seed_int'] = tourney_seeds_int.Seed.apply(lambda x: int(x[1:3]))\n",
    "    tourney_seeds_int.drop('Seed', axis = 1, inplace = True)\n",
    "    tour_seed_df = pd.merge(left = df_renamed, right = tourney_seeds_int, left_on = ['Season', 'team1'], right_on = ['Season', 'TeamID']).drop('TeamID', axis = 1)\n",
    "    tour_seed_df.rename(columns = {'seed_int': 'team1seed'}, inplace = True)\n",
    "    tour_seed_df = pd.merge(left = tour_seed_df, right = tourney_seeds_int, left_on = ['Season', 'team2'], right_on = ['Season', 'TeamID']).drop('TeamID', axis = 1)\n",
    "    tour_seed_df.rename(columns = {'seed_int': 'team2seed'}, inplace = True)\n",
    "    \n",
    "    #create a win column with your dataframe\n",
    "    winning = df_renamed[['Season', 'team1']]\n",
    "    winning['wins'] = 1\n",
    "    wins_per_season = winning.groupby(['Season', 'team1']).sum().reset_index()\n",
    "    \n",
    "    #create a lose column with your dataframe\n",
    "    losing = df_renamed[['Season', 'team2']]\n",
    "    losing['losses'] = 1\n",
    "    loss_per_season = losing.groupby(['Season', 'team2']).sum().reset_index()\n",
    "    \n",
    "    #in each prediction a team can either be on team1 or team2 so have to account for all of those encounters\n",
    "    #we make copies so that we don't override the original dataframe\n",
    "    team1_wins = wins_per_season.copy()\n",
    "    team1_wins.rename(columns = {'wins':'team1wins_season'}, inplace = True)\n",
    "    team2_wins = wins_per_season.copy()\n",
    "    team2_wins.rename(columns = {'team1': 'team2', 'wins': 'team2wins_season'}, inplace = True)\n",
    "    team1_losses = loss_per_season.astype('int64').copy()\n",
    "    team1_losses.rename(columns = {'team2': 'team1','losses':'team1losses_season'}, inplace = True)\n",
    "    team2_losses = loss_per_season.astype('int64').copy()\n",
    "    team2_losses.rename(columns = {'losses': 'team2losses_season'}, inplace = True)\n",
    "    \n",
    "    #combine the wins and loses for both teams\n",
    "    combined_df = pd.merge(tour_seed_df, team1_wins, how='left', on = ['Season', 'team1'])\n",
    "    combined_df = pd.merge(combined_df, team2_wins, how = 'left', on = ['Season', 'team2'])\n",
    "    combined_df = pd.merge(combined_df, team1_losses, how = 'left', on = ['Season', 'team1'])\n",
    "    combined_df = pd.merge(combined_df, team2_losses, how = 'left', on = ['Season', 'team2'])\n",
    "    \n",
    "    #then make a copy with just the season and teams to merge with stats data\n",
    "    team1_season = combined_df[['Season', 'team1']].copy()\n",
    "    team2_season = combined_df[['Season', 'team2']].copy()\n",
    "    \n",
    "    #using the detailed season we combine the dataframes for team 1 and team 2 wins and losses\n",
    "    win_team1_detailed = pd.merge(team1_season, regular_season_detailed, how = 'left', left_on= ['Season', 'team1'], right_on= ['Season', 'WTeamID'])\n",
    "    lose_team1_detailed = pd.merge(team1_season, regular_season_detailed, how = 'left', left_on= ['Season', 'team1'], right_on= ['Season', 'LTeamID'])\n",
    "    win_team2_detailed = pd.merge(team2_season, regular_season_detailed, how = 'left', left_on= ['Season', 'team2'], right_on= ['Season', 'WTeamID'])\n",
    "    lose_team2_detailed = pd.merge(team2_season, regular_season_detailed, how = 'left', left_on= ['Season', 'team2'], right_on= ['Season', 'LTeamID'])\n",
    "    \n",
    "    \n",
    "    #Getting possesion stats\n",
    "    win_team1_detailed['WPossession'] = win_team1_detailed.WFGA + (.44 * win_team1_detailed.WFTA) + win_team1_detailed.WTO - win_team1_detailed.WOR\n",
    "    lose_team1_detailed['LPossession'] = lose_team1_detailed.LFGA + (.44 * lose_team1_detailed.LFTA) + lose_team1_detailed.LTO - lose_team1_detailed.LOR\n",
    "    win_team2_detailed['WPossession'] = win_team2_detailed.WFGA + (.44 * win_team2_detailed.WFTA) + win_team2_detailed.WTO - win_team2_detailed.WOR\n",
    "    lose_team2_detailed['LPossession'] = lose_team2_detailed.LFGA + (.44 * lose_team2_detailed.LFTA) + lose_team2_detailed.LTO - lose_team2_detailed.LOR\n",
    "    \n",
    "    #Offensive Efficiency (Offrtg) = 100 x (Points / Possessions)\n",
    "    # Defensive efficiency (DefRtg) = 100 x (Opponent points / Opponent possessions) (here we're calling LOffrtg)\n",
    "    win_team1_detailed['WEff'] = 100 * (win_team1_detailed.WFGM/win_team1_detailed.WPossession)\n",
    "    lose_team1_detailed['LEff'] = 100 * (lose_team1_detailed.LFGM/lose_team1_detailed.LPossession)\n",
    "    win_team2_detailed['WEff'] = 100 * (win_team2_detailed.WFGM/win_team2_detailed.WPossession)\n",
    "    lose_team2_detailed['LEff'] = 100 * (lose_team2_detailed.LFGM/lose_team2_detailed.LPossession)\n",
    "          \n",
    "    #EFG% = (FGM + (0.5 * 3PM)) / FGA\n",
    "    win_team1_detailed['WEFG%'] = (win_team1_detailed.WFGM + (0.5 * win_team1_detailed.WFGM3))/ win_team1_detailed.WFGA\n",
    "    lose_team1_detailed['LEFG%'] = (lose_team1_detailed.LFGM + (0.5 * lose_team1_detailed.LFGM3))/ lose_team1_detailed.LFGA\n",
    "    win_team2_detailed['WEFG%'] = (win_team2_detailed.WFGM + (0.5 * win_team2_detailed.WFGM3))/ win_team2_detailed.WFGA\n",
    "    lose_team2_detailed['LEFG%'] = (lose_team2_detailed.LFGM + (0.5 * lose_team2_detailed.LFGM3))/ lose_team2_detailed.LFGA\n",
    "          \n",
    "    #Offensive rebounding percentage (OREB%) = Offensive rebounds / (Offensive rebounds + Opponent defensive rebounds)\n",
    "    #Defensive rebounding percentage (DREB%) = Defensive rebounds / (Defensive rebounds + Opponent offensive rebounds)\n",
    "    win_team1_detailed['WREB%'] = win_team1_detailed.WOR/ (win_team1_detailed.WOR + win_team1_detailed.LDR)\n",
    "    lose_team1_detailed['LREB%'] = lose_team1_detailed.LOR/ (lose_team1_detailed.LOR + lose_team1_detailed.WDR)\n",
    "    win_team2_detailed['WREB%'] = win_team2_detailed.WOR/ (win_team2_detailed.WOR + win_team2_detailed.LDR)\n",
    "    lose_team2_detailed['LREB%'] = lose_team2_detailed.LOR/ (lose_team2_detailed.LOR + lose_team2_detailed.WDR)\n",
    "    \n",
    "    #Turnover rate (TOR) = TOV / (FGA + 0.44 * FTA + TOV)\n",
    "    win_team1_detailed['WTOR'] = win_team1_detailed.WTO / (win_team1_detailed.WFGA + 0.44*win_team1_detailed.WFTA + win_team1_detailed.WTO)\n",
    "    lose_team1_detailed['LTOR'] = lose_team1_detailed.LTO / (lose_team1_detailed.LFGA + 0.44*lose_team1_detailed.LFTA + lose_team1_detailed.LTO)\n",
    "    win_team2_detailed['WTOR'] = win_team2_detailed.WTO / (win_team2_detailed.WFGA + 0.44*win_team2_detailed.WFTA + win_team2_detailed.WTO)\n",
    "    lose_team2_detailed['LTOR'] = lose_team2_detailed.LTO / (lose_team2_detailed.LFGA + 0.44*lose_team2_detailed.LFTA + lose_team2_detailed.LTO)\n",
    "          \n",
    "    #Freethrow percentage = FTA/FGA\n",
    "    win_team1_detailed['WFT%'] = win_team1_detailed.WFTA / win_team1_detailed.WFGA\n",
    "    lose_team1_detailed['LFT%'] = lose_team1_detailed.LFTA / lose_team1_detailed.LFGA\n",
    "    win_team2_detailed['WFT%'] = win_team2_detailed.WFTA / win_team2_detailed.WFGA\n",
    "    lose_team2_detailed['LFT%'] = lose_team2_detailed.LFTA / lose_team2_detailed.LFGA\n",
    "          \n",
    "    #Fieldgoal 2 points Attempts = FGA -FGA3\n",
    "    win_team1_detailed['WFGA2'] = win_team1_detailed.WFGA - win_team1_detailed.WFGA3\n",
    "    lose_team1_detailed['LFGA2'] = lose_team1_detailed.LFGA - lose_team1_detailed.LFGA3\n",
    "    win_team2_detailed['WFGA2'] = win_team2_detailed.WFGA - win_team2_detailed.WFGA3\n",
    "    lose_team2_detailed['LFGA2'] = lose_team2_detailed.LFGA - lose_team2_detailed.LFGA3\n",
    "          \n",
    "    #Fieldgoal 2 points Made = FGM - FGM3\n",
    "    win_team1_detailed['WFGM2'] = win_team1_detailed.WFGM - win_team1_detailed.WFGM3\n",
    "    lose_team1_detailed['LFGM2'] = lose_team1_detailed.LFGM - lose_team1_detailed.LFGM3\n",
    "    win_team2_detailed['WFGM2'] = win_team2_detailed.WFGM - win_team2_detailed.WFGM3\n",
    "    lose_team2_detailed['LFGM2'] = lose_team2_detailed.LFGM - lose_team2_detailed.LFGM3\n",
    "    \n",
    "    #PIE = (PTS + FGM + FTM - FGA - FTA + DREB + (.5 * OREB) + AST + STL + (.5 * BLK) - PF - TO) / \n",
    "    # (GmPTS + GmFGM + GmFTM - GmFGA - GmFTA + GmDREB + (.5 * GmOREB) + GmAST + GmSTL + (.5 * GmBLK) - GmPF - GmTO)\n",
    "    win_team1_detailed['WPIE'] = ((win_team1_detailed.WScore + win_team1_detailed.WFGM + win_team1_detailed.WFTM - win_team1_detailed.WFGA - win_team1_detailed.WFTA + win_team1_detailed.LDR + (.5*win_team1_detailed.WOR) \\\n",
    "                                  + win_team1_detailed.WAst + win_team1_detailed.WStl + (.5 * win_team1_detailed.WBlk) - win_team1_detailed.WPF - win_team1_detailed.WTO) \\\n",
    "    / ((win_team1_detailed.WScore + win_team1_detailed.LScore) + (win_team1_detailed.WFGM + win_team1_detailed.LFGM) + (win_team1_detailed.WFTM + win_team1_detailed.LFTM) - (win_team1_detailed.WFGA + win_team1_detailed.LFGA)\\\n",
    "       - (win_team1_detailed.WFTA + win_team1_detailed.LFTA) + (win_team1_detailed.WDR + win_team1_detailed.LDR) + (.5 * (win_team1_detailed.WOR + win_team1_detailed.LOR)) + (win_team1_detailed.WAst + win_team1_detailed.LAst) +(win_team1_detailed.WStl + win_team1_detailed.LStl) + (.5 * (win_team1_detailed.WBlk + win_team1_detailed.LBlk)) - (win_team1_detailed.WPF + win_team1_detailed.LPF) - (win_team1_detailed.WTO + win_team1_detailed.LTO)))\n",
    "    \n",
    "    lose_team1_detailed['LPIE'] = ((lose_team1_detailed.LScore + lose_team1_detailed.LFGM + lose_team1_detailed.LFTM - lose_team1_detailed.LFGA - lose_team1_detailed.LFTA + lose_team1_detailed.WDR + (.5*lose_team1_detailed.LOR) + lose_team1_detailed.LAst + lose_team1_detailed.LStl + (.5 * lose_team1_detailed.LBlk) - lose_team1_detailed.LPF - lose_team1_detailed.LTO)\\\n",
    "                              / ((lose_team1_detailed.WScore + lose_team1_detailed.LScore) + (lose_team1_detailed.WFGM + lose_team1_detailed.LFGM) + (lose_team1_detailed.WFTM + lose_team1_detailed.LFTM) - (lose_team1_detailed.WFGA + lose_team1_detailed.LFGA) - (lose_team1_detailed.WFTA + lose_team1_detailed.LFTA) + (lose_team1_detailed.WDR + lose_team1_detailed.LDR)\\\n",
    "                           + (.5 * (lose_team1_detailed.WOR + lose_team1_detailed.LOR)) + (lose_team1_detailed.WAst + lose_team1_detailed.LAst) +(lose_team1_detailed.WStl + lose_team1_detailed.LStl) + (.5 * (lose_team1_detailed.WBlk + lose_team1_detailed.LBlk)) - (lose_team1_detailed.WPF + lose_team1_detailed.LPF) - (lose_team1_detailed.WTO + lose_team1_detailed.LTO)))\n",
    "    win_team2_detailed['WPIE'] = ((win_team2_detailed.WScore + win_team2_detailed.WFGM + win_team2_detailed.WFTM - win_team2_detailed.WFGA - win_team2_detailed.WFTA + win_team2_detailed.LDR + (.5*win_team2_detailed.WOR) + win_team2_detailed.WAst + win_team2_detailed.WStl + (.5 * win_team2_detailed.WBlk) - win_team2_detailed.WPF - win_team2_detailed.WTO)\\\n",
    "                              / ((win_team2_detailed.WScore + win_team2_detailed.LScore) + (win_team2_detailed.WFGM + win_team2_detailed.LFGM) + (win_team2_detailed.WFTM + win_team2_detailed.LFTM) - (win_team2_detailed.WFGA + win_team2_detailed.LFGA) - (win_team2_detailed.WFTA + win_team2_detailed.LFTA) + (win_team2_detailed.WDR + win_team2_detailed.LDR)\\\n",
    "                           + (.5 * (win_team2_detailed.WOR + win_team2_detailed.LOR)) + (win_team2_detailed.WAst + win_team2_detailed.LAst) +(win_team2_detailed.WStl + win_team2_detailed.LStl) + (.5 * (win_team2_detailed.WBlk + win_team2_detailed.LBlk)) - (win_team2_detailed.WPF + win_team2_detailed.LPF) - (win_team2_detailed.WTO + win_team2_detailed.LTO)))\n",
    "    lose_team2_detailed['LPIE'] = ((lose_team2_detailed.LScore + lose_team2_detailed.LFGM + lose_team2_detailed.LFTM - lose_team2_detailed.LFGA - lose_team2_detailed.LFTA + lose_team2_detailed.WDR + (.5*lose_team2_detailed.LOR) + lose_team2_detailed.LAst + lose_team2_detailed.LStl + (.5 * lose_team2_detailed.LBlk) - lose_team2_detailed.LPF - lose_team2_detailed.LTO)\\\n",
    "                              / ((lose_team2_detailed.WScore + lose_team2_detailed.LScore) + (lose_team2_detailed.WFGM + lose_team2_detailed.LFGM) + (lose_team2_detailed.WFTM + lose_team2_detailed.LFTM) - (lose_team2_detailed.WFGA + lose_team2_detailed.LFGA) - (lose_team2_detailed.WFTA + lose_team2_detailed.LFTA) + (lose_team2_detailed.WDR + lose_team2_detailed.LDR)\\\n",
    "                           + (.5 * (lose_team2_detailed.WOR + lose_team2_detailed.LOR)) + (lose_team2_detailed.WAst + lose_team2_detailed.LAst) +(lose_team2_detailed.WStl + lose_team2_detailed.LStl) + (.5 * (lose_team2_detailed.WBlk + lose_team2_detailed.LBlk)) - (lose_team2_detailed.WPF + lose_team2_detailed.LPF) - (lose_team2_detailed.WTO + lose_team2_detailed.LTO)))\n",
    "    \n",
    "    \n",
    "    # get the median win stats for team1\n",
    "    team1_wscore_median = team1_stat(win_team1_detailed, 'win', 'WScore', 'median')\n",
    "    team1_wfgm_median = team1_stat(win_team1_detailed, 'win', 'WFGM', 'median')\n",
    "    team1_wfga_median = team1_stat(win_team1_detailed, 'win', 'WFGA', 'median')\n",
    "    team1_wfgm3_median = team1_stat(win_team1_detailed, 'win', 'WFGM3', 'median')\n",
    "    team1_wfga3_median = team1_stat(win_team1_detailed, 'win', 'WFGA3', 'median')\n",
    "    team1_wftm_median = team1_stat(win_team1_detailed, 'win', 'WFTM', 'median')\n",
    "    team1_wfta_median = team1_stat(win_team1_detailed, 'win', 'WFTA', 'median')\n",
    "    team1_wor_median = team1_stat(win_team1_detailed, 'win', 'WOR', 'median')\n",
    "    team1_wdr_median = team1_stat(win_team1_detailed, 'win', 'WDR', 'median')\n",
    "    team1_wast_median = team1_stat(win_team1_detailed, 'win', 'WAst', 'median')\n",
    "    team1_wstl_median = team1_stat(win_team1_detailed, 'win', 'WStl', 'median')\n",
    "    team1_wblk_median = team1_stat(win_team1_detailed, 'win', 'WBlk', 'median')\n",
    "    team1_wpf_median = team1_stat(win_team1_detailed, 'win', 'WPF', 'median')\n",
    "    team1_wpos_median = team1_stat(win_team1_detailed, 'win', 'WPossession', 'median')\n",
    "    team1_weff_median = team1_stat(win_team1_detailed, 'win', 'WEff', 'median')\n",
    "    team1_wefgp_median = team1_stat(win_team1_detailed, 'win', 'WEFG%', 'median')\n",
    "    team1_wrebp_median = team1_stat(win_team1_detailed, 'win', 'WREB%', 'median')\n",
    "    team1_wtor_median = team1_stat(win_team1_detailed, 'win', 'WTOR', 'median')\n",
    "    team1_wftp_median = team1_stat(win_team1_detailed, 'win', 'WFT%', 'median')\n",
    "    team1_wfga2_median = team1_stat(win_team1_detailed, 'win', 'WFGA2', 'median')\n",
    "    team1_wfgm2_median = team1_stat(win_team1_detailed, 'win', 'WFGM2', 'median')\n",
    "    team1_wpie_median = team1_stat(win_team1_detailed, 'win', 'WPIE', 'median')\n",
    "    \n",
    "    #get the median lose stats for team1\n",
    "    team1_lscore_median = team1_stat(lose_team1_detailed, 'lose', 'LScore', 'median')\n",
    "    team1_lfgm_median = team1_stat(lose_team1_detailed, 'lose', 'LFGM', 'median')\n",
    "    team1_lfga_median = team1_stat(lose_team1_detailed, 'lose', 'LFGA', 'median')\n",
    "    team1_lfgm3_median = team1_stat(lose_team1_detailed, 'lose', 'LFGM3', 'median')\n",
    "    team1_lfga3_median = team1_stat(lose_team1_detailed, 'lose', 'LFGA3', 'median')\n",
    "    team1_lftm_median = team1_stat(lose_team1_detailed, 'lose', 'LFTM', 'median')\n",
    "    team1_lfta_median = team1_stat(lose_team1_detailed, 'lose', 'LFTA', 'median')\n",
    "    team1_lor_median = team1_stat(lose_team1_detailed, 'lose', 'LOR', 'median')\n",
    "    team1_ldr_median = team1_stat(lose_team1_detailed, 'lose', 'LDR', 'median')\n",
    "    team1_last_median = team1_stat(lose_team1_detailed, 'lose', 'LAst', 'median')\n",
    "    team1_lstl_median = team1_stat(lose_team1_detailed, 'lose', 'LStl', 'median')\n",
    "    team1_lblk_median = team1_stat(lose_team1_detailed, 'lose', 'LBlk', 'median')\n",
    "    team1_lpf_median = team1_stat(lose_team1_detailed, 'lose', 'LPF', 'median')\n",
    "    team1_lpos_median = team1_stat(lose_team1_detailed, 'lose', 'LPossession', 'median')\n",
    "    team1_leff_median = team1_stat(lose_team1_detailed, 'lose', 'LEff', 'median')\n",
    "    team1_lefgp_median = team1_stat(lose_team1_detailed, 'lose', 'LEFG%', 'median')\n",
    "    team1_lrebp_median = team1_stat(lose_team1_detailed, 'lose', 'LREB%', 'median')\n",
    "    team1_ltor_median = team1_stat(lose_team1_detailed, 'lose', 'LTOR', 'median')\n",
    "    team1_lftp_median = team1_stat(lose_team1_detailed, 'lose', 'LFT%', 'median')\n",
    "    team1_lfga2_median = team1_stat(lose_team1_detailed, 'lose', 'LFGA2', 'median')\n",
    "    team1_lfgm2_median = team1_stat(lose_team1_detailed, 'lose', 'LFGM2', 'median')\n",
    "    team1_lpie_median = team1_stat(lose_team1_detailed, 'lose', 'LPIE', 'median')\n",
    "   \n",
    "    #get the median win stats for team2\n",
    "    team2_wscore_median = team2_stat(win_team2_detailed, 'win', 'WScore', 'median')\n",
    "    team2_wfgm_median = team2_stat(win_team2_detailed, 'win', 'WFGM', 'median')\n",
    "    team2_wfga_median = team2_stat(win_team2_detailed, 'win', 'WFGA', 'median')\n",
    "    team2_wfgm3_median = team2_stat(win_team2_detailed, 'win', 'WFGM3', 'median')\n",
    "    team2_wfga3_median = team2_stat(win_team2_detailed, 'win', 'WFGA3', 'median')\n",
    "    team2_wftm_median = team2_stat(win_team2_detailed, 'win', 'WFTM', 'median')\n",
    "    team2_wfta_median = team2_stat(win_team2_detailed, 'win', 'WFTA', 'median')\n",
    "    team2_wor_median = team2_stat(win_team2_detailed, 'win', 'WOR', 'median')\n",
    "    team2_wdr_median = team2_stat(win_team2_detailed, 'win', 'WDR', 'median')\n",
    "    team2_wast_median = team2_stat(win_team2_detailed, 'win', 'WAst', 'median')\n",
    "    team2_wstl_median = team2_stat(win_team2_detailed, 'win', 'WStl', 'median')\n",
    "    team2_wblk_median = team2_stat(win_team2_detailed, 'win', 'WBlk', 'median')\n",
    "    team2_wpf_median = team2_stat(win_team2_detailed, 'win', 'WPF', 'median')\n",
    "    team2_wpos_median = team2_stat(win_team2_detailed, 'win', 'WPossession', 'median')\n",
    "    team2_weff_median = team2_stat(win_team2_detailed, 'win', 'WEff', 'median')\n",
    "    team2_wefgp_median = team2_stat(win_team2_detailed, 'win', 'WEFG%', 'median')\n",
    "    team2_wrebp_median = team2_stat(win_team2_detailed, 'win', 'WREB%', 'median')\n",
    "    team2_wtor_median = team2_stat(win_team2_detailed, 'win', 'WTOR', 'median')\n",
    "    team2_wftp_median = team2_stat(win_team2_detailed, 'win', 'WFT%', 'median')\n",
    "    team2_wfga2_median = team2_stat(win_team2_detailed, 'win', 'WFGA2', 'median')\n",
    "    team2_wfgm2_median = team2_stat(win_team2_detailed, 'win', 'WFGM2', 'median')\n",
    "    team2_wpie_median = team2_stat(win_team2_detailed, 'win', 'WPIE', 'median')\n",
    "    \n",
    "    #get the median lose stats for team2\n",
    "    team2_lscore_median = team2_stat(lose_team2_detailed, 'lose', 'LScore', 'median')\n",
    "    team2_lfgm_median = team2_stat(lose_team2_detailed, 'lose', 'LFGM', 'median')\n",
    "    team2_lfga_median = team2_stat(lose_team2_detailed, 'lose', 'LFGA', 'median')\n",
    "    team2_lfgm3_median = team2_stat(lose_team2_detailed, 'lose', 'LFGM3', 'median')\n",
    "    team2_lfga3_median = team2_stat(lose_team2_detailed, 'lose', 'LFGA3', 'median')\n",
    "    team2_lftm_median = team2_stat(lose_team2_detailed, 'lose', 'LFTM', 'median')\n",
    "    team2_lfta_median = team2_stat(lose_team2_detailed, 'lose', 'LFTA', 'median')\n",
    "    team2_lor_median = team2_stat(lose_team2_detailed, 'lose', 'LOR', 'median')\n",
    "    team2_ldr_median = team2_stat(lose_team2_detailed, 'lose', 'LDR', 'median')\n",
    "    team2_last_median = team2_stat(lose_team2_detailed, 'lose', 'LAst', 'median')\n",
    "    team2_lstl_median = team2_stat(lose_team2_detailed, 'lose', 'LStl', 'median')\n",
    "    team2_lblk_median = team2_stat(lose_team2_detailed, 'lose', 'LBlk', 'median')\n",
    "    team2_lpf_median = team2_stat(lose_team2_detailed, 'lose', 'LPF', 'median')\n",
    "    team2_lpos_median = team2_stat(lose_team2_detailed, 'lose', 'LPossession', 'median')\n",
    "    team2_leff_median = team2_stat(lose_team2_detailed, 'lose', 'LEff', 'median')\n",
    "    team2_lefgp_median = team2_stat(lose_team2_detailed, 'lose', 'LEFG%', 'median')\n",
    "    team2_lrebp_median = team2_stat(lose_team2_detailed, 'lose', 'LREB%', 'median')\n",
    "    team2_ltor_median = team2_stat(lose_team2_detailed, 'lose', 'LTOR', 'median')\n",
    "    team2_lftp_median = team2_stat(lose_team2_detailed, 'lose', 'LFT%', 'median')\n",
    "    team2_lfga2_median = team2_stat(lose_team2_detailed, 'lose', 'LFGA2', 'median')\n",
    "    team2_lfgm2_median = team2_stat(lose_team2_detailed, 'lose', 'LFGM2', 'median')\n",
    "    team2_lpie_median = team2_stat(lose_team2_detailed, 'lose', 'LPIE', 'median')\n",
    "    \n",
    "    \n",
    "    #put all the stats in a list for team1 and team2\n",
    "    data_team1 = [team1_wscore_median, team1_wfgm_median, team1_wfga_median, team1_wfgm3_median, team1_wfga3_median, team1_wftm_median, \\\n",
    "    team1_wfta_median, team1_wor_median, team1_wdr_median, team1_wast_median, team1_wstl_median, team1_wblk_median, team1_wpf_median,\\\n",
    "    team1_wpos_median, team1_weff_median, team1_wefgp_median, team1_wrebp_median, team1_wtor_median, team1_wftp_median, team1_wfga2_median,\\\n",
    "    team1_wfgm2_median, team1_wpie_median, team1_lscore_median, team1_lfgm_median, team1_lfga_median, team1_lfgm3_median, team1_lfga3_median, team1_lftm_median, \\\n",
    "    team1_lfta_median, team1_lor_median, team1_ldr_median, team1_last_median, team1_lstl_median,team1_lblk_median, team1_lpf_median, \\\n",
    "    team1_lpos_median, team1_leff_median, team1_lefgp_median, team1_lrebp_median, team1_ltor_median, team1_lftp_median, team1_lfga2_median,\\\n",
    "    team1_lfgm2_median, team1_lpie_median]\n",
    "\n",
    "    data_team2 = [team2_wscore_median, team2_wfgm_median, team2_wfga_median, team2_wfgm3_median, team2_wfga3_median, team2_wftm_median, \\\n",
    "    team2_wfta_median, team2_wor_median, team2_wdr_median, team2_wast_median, team2_wstl_median, team2_wblk_median, team2_wpf_median,\\\n",
    "    team2_wpos_median, team2_weff_median, team2_wefgp_median, team2_wrebp_median, team2_wtor_median, team2_wftp_median, team2_wfga2_median,\\\n",
    "    team2_wfgm2_median, team2_wpie_median, team2_lscore_median, team2_lfgm_median, team2_lfga_median, team2_lfgm3_median, team2_lfga3_median, team2_lftm_median, \\\n",
    "    team2_lfta_median, team2_lor_median, team2_ldr_median, team2_last_median, team2_lstl_median, team2_lblk_median, team2_lpf_median, \\\n",
    "    team2_lpos_median, team2_leff_median, team2_lefgp_median, team2_lrebp_median, team2_ltor_median, team2_lftp_median, team2_lfga2_median,\\\n",
    "    team2_lfgm2_median, team2_lpie_median]\n",
    "    \n",
    "    # merge all the stats together\n",
    "    final_combination_train = combined_df.copy()\n",
    "    for i in data_team1:\n",
    "        final_combination_train = pd.merge(left=final_combination_train, right=i, how = 'left', on = ['Season', 'team1'])\n",
    "        \n",
    "    for i in data_team2:\n",
    "        final_combination_train = pd.merge(left = final_combination_train, right = i, how = 'left', on = ['Season', 'team2'])\n",
    "   \n",
    "    \n",
    "    #take the difference of the stats between the two teams\n",
    "    t1 = ['team1_LAst_med','team1_LBlk_med', 'team1_LDR_med', 'team1_LEFG%_med', 'team1_LEff_med','team1_LFGA2_med',\\\n",
    "          'team1_LFGA3_med', 'team1_LFGA_med', 'team1_LFGM2_med',\\\n",
    "       'team1_LFGM3_med', 'team1_LFGM_med', 'team1_LFT%_med', 'team1_LFTA_med', 'team1_LFTM_med',\\\n",
    "       'team1_LOR_med', 'team1_LPF_med','team1_LPIE_med', 'team1_LPossession_med', 'team1_LREB%_med', 'team1_LScore_med', 'team1_LStl_med', 'team1_LTOR_med',\\\n",
    "       'team1_WAst_med', 'team1_WBlk_med', 'team1_WDR_med', 'team1_WEFG%_med', 'team1_WEff_med', 'team1_WFGA2_med', 'team1_WFGA3_med',\\\n",
    "       'team1_WFGA_med', 'team1_WFGM2_med', 'team1_WFGM3_med', 'team1_WFGM_med', 'team1_WFT%_med','team1_WFTA_med',\\\n",
    "       'team1_WFTM_med', 'team1_WOR_med', 'team1_WPF_med', 'team1_WPIE_med','team1_WPossession_med','team1_WREB%_med', 'team1_WScore_med',\\\n",
    "       'team1_WStl_med', 'team1_WTOR_med', 'team1seed']\n",
    "    t2 = ['team2_LAst_med', 'team2_LBlk_med', 'team2_LDR_med', 'team2_LEFG%_med', 'team2_LEff_med',\\\n",
    "       'team2_LFGA2_med', 'team2_LFGA3_med', 'team2_LFGA_med', 'team1_LFGM2_med', 'team2_LFGM3_med',\\\n",
    "       'team2_LFGM_med', 'team1_LFT%_med', 'team2_LFTA_med', 'team2_LFTM_med', 'team2_LOR_med',\\\n",
    "       'team2_LPF_med', 'team2_LPossession_med', 'team2_LREB%_med','team2_LScore_med', 'team2_LStl_med','team2_LTOR_med', 'team2_WAst_med',\\\n",
    "       'team2_WBlk_med', 'team2_WDR_med','team2_WEFG%_med', 'team2_WEff_med', 'team2_WFGA2_med', 'team2_WFGA3_med', 'team2_WFGA_med','team1_WFGM2_med',\\\n",
    "       'team2_WFGM3_med', 'team2_WFGM_med', 'team2_WFT%_med', 'team2_WFTA_med', 'team2_WFTM_med',\\\n",
    "       'team2_WOR_med', 'team2_WPF_med','team2_WPossession_med', 'team2_WREB%_med', 'team2_WScore_med', 'team2_WStl_med','team1_WTOR_med','team2seed']\n",
    "\n",
    "    t3 = ['LAst_med_diff', 'LBlk_med_diff', 'LDR_med_diff', 'LEFG%_med_diff', 'LEFF_med_diff', 'LFGA2_med_diff',\\\n",
    "          'LFGA3_med_diff', 'LFGA_med_diff', 'team1_LFGM2_med', 'LFGM3_med_diff', 'LFGM_med_diff',\\\n",
    "     'LFTA_med_diff', 'LFT%_med_diff', 'LFTM_med_diff', 'LOR_med_diff', 'LPF_med_diff','LPIE_med_diff', 'LPosession_med_diff', 'LREB%_med_diff', 'LScore_med_diff', 'LStl_med_diff', 'LTOR_med_diff', 'WAst_med_diff',\\\n",
    "     'WBLK_med_diff', 'WDR_med_diff', 'WEFG%_med_diff', 'WEff_med_diff', 'WFGA2_med_diff', 'WFGA3_med_diff', 'WFGA_med_diff', 'WFGM2_med_diff','WFGM3_med_diff', 'WFGM_med_diff', 'WTF%_med_diff','WFTA_med_diff',\\\n",
    "     'WFTM_med_diff', 'WOR_med_diff', 'WPF_med_diff', 'WPIE_med_diff', 'WPossession_med_diff', 'WREB%_med_diff','WScore_med_diff', 'WStl_med_diff', 'WTOR_med_diff', 'seed_diff']\n",
    "    \n",
    "    #get the wins columns\n",
    "    final_combination_train = win_columns(final_combination_train)\n",
    "    #fill in the null values with zeros because these are teams that don't have losses\n",
    "    final_combination_train.fillna(0, inplace = True)\n",
    "    \n",
    "    for a, b, c in list(zip(t1, t2, t3)):\n",
    "        final_combination_train[c] = final_combination_train[a]-final_combination_train[b]\n",
    "    \n",
    "    final_combination_train['WLoc'] = final_combination_train['WLoc'].map(lambda x: 1 if x == 'H' else 0)\n",
    "    \n",
    "    #bring in the coaches\n",
    "    coach = pd.read_csv(\"TeamCoaches.csv\")\n",
    "    coach_18 = coach.query(\"Season == 2018\")\n",
    "    coach_17 = coach.query(\"Season == 2017\")\n",
    "    coach_16 = coach.query(\"Season == 2016\")\n",
    "    coach_15 = coach.query(\"Season == 2015\")\n",
    "    coach_14 = coach.query(\"Season == 2014\")\n",
    "    coach_13 = coach.query(\"Season == 2013\")\n",
    "    coach_12 = coach.query(\"Season == 2012\")\n",
    "    coach_11 = coach.query(\"Season == 2011\")\n",
    "    coach_10 = coach.query(\"Season == 2010\")\n",
    "    coach_09 = coach.query(\"Season == 2009\")\n",
    "    coach_08 = coach.query(\"Season == 2008\")\n",
    "    coach_07 = coach.query(\"Season == 2007\")\n",
    "    coach_06 = coach.query(\"Season == 2006\")\n",
    "    coach_05 = coach.query(\"Season == 2005\")\n",
    "\n",
    "    #Seeing which coaches lasted throughout the year\n",
    "    coach_18_last = coach_18.query(\"LastDayNum == 77\")\n",
    "    coach_17_last = coach_17.query(\"LastDayNum==154\")\n",
    "    coach_16_last = coach_16.query(\"LastDayNum==154\")\n",
    "    coach_15_last = coach_15.query(\"LastDayNum==154\")\n",
    "    coach_14_last = coach_15.query(\"LastDayNum==154\")\n",
    "    coach_13_last = coach_14.query(\"LastDayNum==154\")\n",
    "    coach_12_last = coach_13.query(\"LastDayNum==154\")\n",
    "    coach_11_last = coach_12.query(\"LastDayNum==154\")\n",
    "    coach_12_last = coach_11.query(\"LastDayNum==154\")\n",
    "    coach_10_last = coach_10.query(\"LastDayNum==154\")\n",
    "    coach_09_last = coach_09.query(\"LastDayNum==154\")\n",
    "    coach_08_last = coach_08.query(\"LastDayNum==154\")\n",
    "    coach_07_last = coach_07.query(\"LastDayNum==154\")\n",
    "    coach_06_last = coach_06.query(\"LastDayNum==154\")\n",
    "\n",
    "    #if the coach from that season was the coach for the previous season\n",
    "    no_18coach_17 = [coach for coach in coach_18_last.CoachName.values if coach not in coach_17.CoachName.values]\n",
    "    no_17coach_16 = [coach for coach in coach_17_last.CoachName.values if coach not in coach_16.CoachName.values]\n",
    "    no_16coach_15 = [coach for coach in coach_16_last.CoachName.values if coach not in coach_15.CoachName.values]\n",
    "    no_15coach_14 = [coach for coach in coach_15_last.CoachName.values if coach not in coach_14.CoachName.values]\n",
    "    no_14coach_13 = [coach for coach in coach_14_last.CoachName.values if coach not in coach_13.CoachName.values]\n",
    "    no_13coach_12 = [coach for coach in coach_13_last.CoachName.values if coach not in coach_12.CoachName.values]\n",
    "    no_12coach_11 = [coach for coach in coach_12_last.CoachName.values if coach not in coach_11.CoachName.values]\n",
    "    no_11coach_10 = [coach for coach in coach_11_last.CoachName.values if coach not in coach_10.CoachName.values]\n",
    "    no_10coach_09 = [coach for coach in coach_10_last.CoachName.values if coach not in coach_09.CoachName.values]\n",
    "    no_09coach_08 = [coach for coach in coach_09_last.CoachName.values if coach not in coach_08.CoachName.values]\n",
    "    no_08coach_07 = [coach for coach in coach_08_last.CoachName.values if coach not in coach_07.CoachName.values]\n",
    "    no_07coach_06 = [coach for coach in coach_07_last.CoachName.values if coach not in coach_06.CoachName.values]\n",
    "    no_06coach_05 = [coach for coach in coach_06_last.CoachName.values if coach not in coach_05.CoachName.values]\n",
    "\n",
    "    #assigning value that it is positive for a coach to be consistent\n",
    "    coach_18['seasoned'] = coach_18.CoachName.apply(lambda x: 0 if x in no_18coach_17 else 1)\n",
    "    coach_17['seasoned'] = coach_17.CoachName.apply(lambda x: 0 if x in no_17coach_16 else 1)\n",
    "    coach_16['seasoned'] = coach_16.CoachName.apply(lambda x: 0 if x in no_16coach_15 else 1)\n",
    "    coach_15['seasoned'] = coach_15.CoachName.apply(lambda x: 0 if x in no_15coach_14 else 1)\n",
    "    coach_14['seasoned'] = coach_14.CoachName.apply(lambda x: 0 if x in no_14coach_13 else 1)\n",
    "    coach_13['seasoned'] = coach_13.CoachName.apply(lambda x: 0 if x in no_13coach_12 else 1)\n",
    "    coach_12['seasoned'] = coach_12.CoachName.apply(lambda x: 0 if x in no_12coach_11 else 1)\n",
    "    coach_11['seasoned'] = coach_11.CoachName.apply(lambda x: 0 if x in no_11coach_10 else 1)\n",
    "    coach_10['seasoned'] = coach_10.CoachName.apply(lambda x: 0 if x in no_10coach_09 else 1)\n",
    "    coach_09['seasoned'] = coach_09.CoachName.apply(lambda x: 0 if x in no_09coach_08 else 1)\n",
    "    coach_08['seasoned'] = coach_08.CoachName.apply(lambda x: 0 if x in no_08coach_07 else 1)\n",
    "    coach_07['seasoned'] = coach_07.CoachName.apply(lambda x: 0 if x in no_07coach_06 else 1)\n",
    "    coach_06['seasoned'] = coach_06.CoachName.apply(lambda x: 0 if x in no_06coach_05 else 1)\n",
    "\n",
    "    #combining all the coaches per season to one dataframe and dropping unncessary values\n",
    "    coach_seasoned = pd.concat([coach_06, coach_07, coach_08, coach_09, coach_10, coach_11, coach_12, coach_13, coach_14, coach_15, coach_16, coach_17, coach_18])\n",
    "    coach_seasoned.drop(['FirstDayNum', 'LastDayNum'], axis = 1, inplace = True)\n",
    "    \n",
    "    #combining everything\n",
    "    final_combination_train = pd.merge(final_combination_train, coach_seasoned.rename(columns = {'seasoned':'team1_seasoned', 'CoachName': 'team1_coach'}), how = 'left', left_on = ['Season', 'team1'], right_on = ['Season', 'TeamID'])\n",
    "    final_combination_train.drop(['TeamID'], axis = 1, inplace = True)\n",
    "    final_combination_train = pd.merge(final_combination_train, coach_seasoned.rename(columns = {'seasoned':'team2_seasoned', 'CoachName': 'team2_coach'}), how = 'left', left_on = ['Season', 'team2'], right_on = ['Season', 'TeamID'])\n",
    "    final_combination_train.drop(['TeamID'], axis = 1, inplace = True)\n",
    "    \n",
    "    return final_combination_train"
   ]
  },
  {
   "cell_type": "markdown",
   "metadata": {},
   "source": [
    "### Combining regular and tournament data to feed into my function"
   ]
  },
  {
   "cell_type": "code",
   "execution_count": 8,
   "metadata": {},
   "outputs": [
    {
     "data": {
      "text/html": [
       "<div>\n",
       "<style scoped>\n",
       "    .dataframe tbody tr th:only-of-type {\n",
       "        vertical-align: middle;\n",
       "    }\n",
       "\n",
       "    .dataframe tbody tr th {\n",
       "        vertical-align: top;\n",
       "    }\n",
       "\n",
       "    .dataframe thead th {\n",
       "        text-align: right;\n",
       "    }\n",
       "</style>\n",
       "<table border=\"1\" class=\"dataframe\">\n",
       "  <thead>\n",
       "    <tr style=\"text-align: right;\">\n",
       "      <th></th>\n",
       "      <th>Season</th>\n",
       "      <th>DayNum</th>\n",
       "      <th>WTeamID</th>\n",
       "      <th>WScore</th>\n",
       "      <th>LTeamID</th>\n",
       "      <th>LScore</th>\n",
       "      <th>WLoc</th>\n",
       "      <th>NumOT</th>\n",
       "    </tr>\n",
       "  </thead>\n",
       "  <tbody>\n",
       "    <tr>\n",
       "      <th>0</th>\n",
       "      <td>2003</td>\n",
       "      <td>10</td>\n",
       "      <td>1104</td>\n",
       "      <td>68</td>\n",
       "      <td>1328</td>\n",
       "      <td>62</td>\n",
       "      <td>N</td>\n",
       "      <td>0</td>\n",
       "    </tr>\n",
       "    <tr>\n",
       "      <th>1</th>\n",
       "      <td>2003</td>\n",
       "      <td>10</td>\n",
       "      <td>1272</td>\n",
       "      <td>70</td>\n",
       "      <td>1393</td>\n",
       "      <td>63</td>\n",
       "      <td>N</td>\n",
       "      <td>0</td>\n",
       "    </tr>\n",
       "    <tr>\n",
       "      <th>2</th>\n",
       "      <td>2003</td>\n",
       "      <td>11</td>\n",
       "      <td>1266</td>\n",
       "      <td>73</td>\n",
       "      <td>1437</td>\n",
       "      <td>61</td>\n",
       "      <td>N</td>\n",
       "      <td>0</td>\n",
       "    </tr>\n",
       "    <tr>\n",
       "      <th>3</th>\n",
       "      <td>2003</td>\n",
       "      <td>11</td>\n",
       "      <td>1296</td>\n",
       "      <td>56</td>\n",
       "      <td>1457</td>\n",
       "      <td>50</td>\n",
       "      <td>N</td>\n",
       "      <td>0</td>\n",
       "    </tr>\n",
       "    <tr>\n",
       "      <th>4</th>\n",
       "      <td>2003</td>\n",
       "      <td>11</td>\n",
       "      <td>1400</td>\n",
       "      <td>77</td>\n",
       "      <td>1208</td>\n",
       "      <td>71</td>\n",
       "      <td>N</td>\n",
       "      <td>0</td>\n",
       "    </tr>\n",
       "  </tbody>\n",
       "</table>\n",
       "</div>"
      ],
      "text/plain": [
       "   Season  DayNum  WTeamID  WScore  LTeamID  LScore WLoc  NumOT\n",
       "0    2003      10     1104      68     1328      62    N      0\n",
       "1    2003      10     1272      70     1393      63    N      0\n",
       "2    2003      11     1266      73     1437      61    N      0\n",
       "3    2003      11     1296      56     1457      50    N      0\n",
       "4    2003      11     1400      77     1208      71    N      0"
      ]
     },
     "execution_count": 8,
     "metadata": {},
     "output_type": "execute_result"
    }
   ],
   "source": [
    "reg_tour = pd.concat([regular_compact, tourney_compact])\n",
    "reg_tour = reg_tour.sort_values(['Season', 'DayNum']).query(\"Season > 2002\")\n",
    "reg_tour.reset_index(drop = True, inplace = True)\n",
    "reg_tour.head()"
   ]
  },
  {
   "cell_type": "code",
   "execution_count": 9,
   "metadata": {},
   "outputs": [
    {
     "data": {
      "text/html": [
       "<div>\n",
       "<style scoped>\n",
       "    .dataframe tbody tr th:only-of-type {\n",
       "        vertical-align: middle;\n",
       "    }\n",
       "\n",
       "    .dataframe tbody tr th {\n",
       "        vertical-align: top;\n",
       "    }\n",
       "\n",
       "    .dataframe thead th {\n",
       "        text-align: right;\n",
       "    }\n",
       "</style>\n",
       "<table border=\"1\" class=\"dataframe\">\n",
       "  <thead>\n",
       "    <tr style=\"text-align: right;\">\n",
       "      <th></th>\n",
       "      <th>Season</th>\n",
       "      <th>DayNum</th>\n",
       "      <th>WTeamID</th>\n",
       "      <th>WScore</th>\n",
       "      <th>LTeamID</th>\n",
       "      <th>LScore</th>\n",
       "      <th>WLoc</th>\n",
       "      <th>NumOT</th>\n",
       "      <th>WFGM</th>\n",
       "      <th>WFGA</th>\n",
       "      <th>...</th>\n",
       "      <th>LFGA3</th>\n",
       "      <th>LFTM</th>\n",
       "      <th>LFTA</th>\n",
       "      <th>LOR</th>\n",
       "      <th>LDR</th>\n",
       "      <th>LAst</th>\n",
       "      <th>LTO</th>\n",
       "      <th>LStl</th>\n",
       "      <th>LBlk</th>\n",
       "      <th>LPF</th>\n",
       "    </tr>\n",
       "  </thead>\n",
       "  <tbody>\n",
       "    <tr>\n",
       "      <th>0</th>\n",
       "      <td>2003</td>\n",
       "      <td>10</td>\n",
       "      <td>1104</td>\n",
       "      <td>68</td>\n",
       "      <td>1328</td>\n",
       "      <td>62</td>\n",
       "      <td>N</td>\n",
       "      <td>0</td>\n",
       "      <td>27</td>\n",
       "      <td>58</td>\n",
       "      <td>...</td>\n",
       "      <td>10</td>\n",
       "      <td>16</td>\n",
       "      <td>22</td>\n",
       "      <td>10</td>\n",
       "      <td>22</td>\n",
       "      <td>8</td>\n",
       "      <td>18</td>\n",
       "      <td>9</td>\n",
       "      <td>2</td>\n",
       "      <td>20</td>\n",
       "    </tr>\n",
       "    <tr>\n",
       "      <th>1</th>\n",
       "      <td>2003</td>\n",
       "      <td>10</td>\n",
       "      <td>1272</td>\n",
       "      <td>70</td>\n",
       "      <td>1393</td>\n",
       "      <td>63</td>\n",
       "      <td>N</td>\n",
       "      <td>0</td>\n",
       "      <td>26</td>\n",
       "      <td>62</td>\n",
       "      <td>...</td>\n",
       "      <td>24</td>\n",
       "      <td>9</td>\n",
       "      <td>20</td>\n",
       "      <td>20</td>\n",
       "      <td>25</td>\n",
       "      <td>7</td>\n",
       "      <td>12</td>\n",
       "      <td>8</td>\n",
       "      <td>6</td>\n",
       "      <td>16</td>\n",
       "    </tr>\n",
       "    <tr>\n",
       "      <th>2</th>\n",
       "      <td>2003</td>\n",
       "      <td>11</td>\n",
       "      <td>1266</td>\n",
       "      <td>73</td>\n",
       "      <td>1437</td>\n",
       "      <td>61</td>\n",
       "      <td>N</td>\n",
       "      <td>0</td>\n",
       "      <td>24</td>\n",
       "      <td>58</td>\n",
       "      <td>...</td>\n",
       "      <td>26</td>\n",
       "      <td>14</td>\n",
       "      <td>23</td>\n",
       "      <td>31</td>\n",
       "      <td>22</td>\n",
       "      <td>9</td>\n",
       "      <td>12</td>\n",
       "      <td>2</td>\n",
       "      <td>5</td>\n",
       "      <td>23</td>\n",
       "    </tr>\n",
       "    <tr>\n",
       "      <th>3</th>\n",
       "      <td>2003</td>\n",
       "      <td>11</td>\n",
       "      <td>1296</td>\n",
       "      <td>56</td>\n",
       "      <td>1457</td>\n",
       "      <td>50</td>\n",
       "      <td>N</td>\n",
       "      <td>0</td>\n",
       "      <td>18</td>\n",
       "      <td>38</td>\n",
       "      <td>...</td>\n",
       "      <td>22</td>\n",
       "      <td>8</td>\n",
       "      <td>15</td>\n",
       "      <td>17</td>\n",
       "      <td>20</td>\n",
       "      <td>9</td>\n",
       "      <td>19</td>\n",
       "      <td>4</td>\n",
       "      <td>3</td>\n",
       "      <td>23</td>\n",
       "    </tr>\n",
       "    <tr>\n",
       "      <th>4</th>\n",
       "      <td>2003</td>\n",
       "      <td>11</td>\n",
       "      <td>1400</td>\n",
       "      <td>77</td>\n",
       "      <td>1208</td>\n",
       "      <td>71</td>\n",
       "      <td>N</td>\n",
       "      <td>0</td>\n",
       "      <td>30</td>\n",
       "      <td>61</td>\n",
       "      <td>...</td>\n",
       "      <td>16</td>\n",
       "      <td>17</td>\n",
       "      <td>27</td>\n",
       "      <td>21</td>\n",
       "      <td>15</td>\n",
       "      <td>12</td>\n",
       "      <td>10</td>\n",
       "      <td>7</td>\n",
       "      <td>1</td>\n",
       "      <td>14</td>\n",
       "    </tr>\n",
       "  </tbody>\n",
       "</table>\n",
       "<p>5 rows × 34 columns</p>\n",
       "</div>"
      ],
      "text/plain": [
       "   Season  DayNum  WTeamID  WScore  LTeamID  LScore WLoc  NumOT  WFGM  WFGA  \\\n",
       "0    2003      10     1104      68     1328      62    N      0    27    58   \n",
       "1    2003      10     1272      70     1393      63    N      0    26    62   \n",
       "2    2003      11     1266      73     1437      61    N      0    24    58   \n",
       "3    2003      11     1296      56     1457      50    N      0    18    38   \n",
       "4    2003      11     1400      77     1208      71    N      0    30    61   \n",
       "\n",
       "  ...   LFGA3  LFTM  LFTA  LOR  LDR  LAst  LTO  LStl  LBlk  LPF  \n",
       "0 ...      10    16    22   10   22     8   18     9     2   20  \n",
       "1 ...      24     9    20   20   25     7   12     8     6   16  \n",
       "2 ...      26    14    23   31   22     9   12     2     5   23  \n",
       "3 ...      22     8    15   17   20     9   19     4     3   23  \n",
       "4 ...      16    17    27   21   15    12   10     7     1   14  \n",
       "\n",
       "[5 rows x 34 columns]"
      ]
     },
     "execution_count": 9,
     "metadata": {},
     "output_type": "execute_result"
    }
   ],
   "source": [
    "detailed_reg_tour = pd.concat([regular_season_detailed, tourney_detailed])\n",
    "detailed_reg_tour = detailed_reg_tour.sort_values(['Season', 'DayNum'])\n",
    "detailed_reg_tour.reset_index(drop = True, inplace = True)\n",
    "detailed_reg_tour.head()"
   ]
  },
  {
   "cell_type": "markdown",
   "metadata": {},
   "source": [
    "### Getting my train"
   ]
  },
  {
   "cell_type": "code",
   "execution_count": 10,
   "metadata": {
    "collapsed": true
   },
   "outputs": [],
   "source": [
    "train = ncaa_train(reg_tour, detailed_reg_tour)"
   ]
  },
  {
   "cell_type": "code",
   "execution_count": 11,
   "metadata": {},
   "outputs": [
    {
     "data": {
      "text/plain": [
       "9474"
      ]
     },
     "execution_count": 11,
     "metadata": {},
     "output_type": "execute_result"
    }
   ],
   "source": [
    "len(train)"
   ]
  },
  {
   "cell_type": "code",
   "execution_count": 12,
   "metadata": {},
   "outputs": [
    {
     "data": {
      "text/plain": [
       "Index(['DayNum', 'NumOT', 'Season', 'WLoc', 'Won', 'team1', 'team1_LAst_med',\n",
       "       'team1_LBlk_med', 'team1_LDR_med', 'team1_LEFG%_med', 'team1_LEff_med',\n",
       "       'team1_LFGA2_med', 'team1_LFGA3_med', 'team1_LFGA_med',\n",
       "       'team1_LFGM2_med', 'team1_LFGM3_med', 'team1_LFGM_med',\n",
       "       'team1_LFT%_med', 'team1_LFTA_med', 'team1_LFTM_med', 'team1_LOR_med',\n",
       "       'team1_LPF_med', 'team1_LPIE_med', 'team1_LPossession_med',\n",
       "       'team1_LREB%_med', 'team1_LScore_med', 'team1_LStl_med',\n",
       "       'team1_LTOR_med', 'team1_WAst_med', 'team1_WBlk_med', 'team1_WDR_med',\n",
       "       'team1_WEFG%_med', 'team1_WEff_med', 'team1_WFGA2_med',\n",
       "       'team1_WFGA3_med', 'team1_WFGA_med', 'team1_WFGM2_med',\n",
       "       'team1_WFGM3_med', 'team1_WFGM_med', 'team1_WFT%_med', 'team1_WFTA_med',\n",
       "       'team1_WFTM_med', 'team1_WOR_med', 'team1_WPF_med', 'team1_WPIE_med',\n",
       "       'team1_WPossession_med', 'team1_WREB%_med', 'team1_WScore_med',\n",
       "       'team1_WStl_med', 'team1_WTOR_med', 'team1losses_season', 'team1seed',\n",
       "       'team1wins_season', 'team2', 'team2_LAst_med', 'team2_LBlk_med',\n",
       "       'team2_LDR_med', 'team2_LEFG%_med', 'team2_LEff_med', 'team2_LFGA2_med',\n",
       "       'team2_LFGA3_med', 'team2_LFGA_med', 'team2_LFGM2_med',\n",
       "       'team2_LFGM3_med', 'team2_LFGM_med', 'team2_LFT%_med', 'team2_LFTA_med',\n",
       "       'team2_LFTM_med', 'team2_LOR_med', 'team2_LPF_med', 'team2_LPIE_med',\n",
       "       'team2_LPossession_med', 'team2_LREB%_med', 'team2_LScore_med',\n",
       "       'team2_LStl_med', 'team2_LTOR_med', 'team2_WAst_med', 'team2_WBlk_med',\n",
       "       'team2_WDR_med', 'team2_WEFG%_med', 'team2_WEff_med', 'team2_WFGA2_med',\n",
       "       'team2_WFGA3_med', 'team2_WFGA_med', 'team2_WFGM2_med',\n",
       "       'team2_WFGM3_med', 'team2_WFGM_med', 'team2_WFT%_med', 'team2_WFTA_med',\n",
       "       'team2_WFTM_med', 'team2_WOR_med', 'team2_WPF_med', 'team2_WPIE_med',\n",
       "       'team2_WPossession_med', 'team2_WREB%_med', 'team2_WScore_med',\n",
       "       'team2_WStl_med', 'team2_WTOR_med', 'team2losses_season', 'team2seed',\n",
       "       'team2wins_season', 'LAst_med_diff', 'LBlk_med_diff', 'LDR_med_diff',\n",
       "       'LEFG%_med_diff', 'LEFF_med_diff', 'LFGA2_med_diff', 'LFGA3_med_diff',\n",
       "       'LFGA_med_diff', 'LFGM3_med_diff', 'LFGM_med_diff', 'LFTA_med_diff',\n",
       "       'LFT%_med_diff', 'LFTM_med_diff', 'LOR_med_diff', 'LPF_med_diff',\n",
       "       'LPIE_med_diff', 'LPosession_med_diff', 'LREB%_med_diff',\n",
       "       'LScore_med_diff', 'LStl_med_diff', 'LTOR_med_diff', 'WAst_med_diff',\n",
       "       'WBLK_med_diff', 'WDR_med_diff', 'WEFG%_med_diff', 'WEff_med_diff',\n",
       "       'WFGA2_med_diff', 'WFGA3_med_diff', 'WFGA_med_diff', 'WFGM2_med_diff',\n",
       "       'WFGM3_med_diff', 'WFGM_med_diff', 'WTF%_med_diff', 'WFTA_med_diff',\n",
       "       'WFTM_med_diff', 'WOR_med_diff', 'WPF_med_diff', 'WPIE_med_diff',\n",
       "       'WPossession_med_diff', 'WREB%_med_diff', 'WScore_med_diff',\n",
       "       'WStl_med_diff', 'team1_coach', 'team1_seasoned', 'team2_coach',\n",
       "       'team2_seasoned'],\n",
       "      dtype='object')"
      ]
     },
     "execution_count": 12,
     "metadata": {},
     "output_type": "execute_result"
    }
   ],
   "source": [
    "pd.set_option('display.max_seq_items', None)\n",
    "train.columns"
   ]
  },
  {
   "cell_type": "markdown",
   "metadata": {},
   "source": [
    "## Get my test ready"
   ]
  },
  {
   "cell_type": "markdown",
   "metadata": {},
   "source": [
    "### Function to get median or mean stats of team1 whether they lose or win for test set"
   ]
  },
  {
   "cell_type": "code",
   "execution_count": 13,
   "metadata": {
    "collapsed": true
   },
   "outputs": [],
   "source": [
    "def team1_stat_test(outcome, team_stat, central_tend, team1_copy):\n",
    "    if outcome == 'win':\n",
    "        team1_winning_df = team1_copy.copy()\n",
    "        features = [col for col in team1_winning_df.columns if (col != 'Season') & (col != 'team1') & (col != team_stat)]\n",
    "        team1_winning_df.drop(features, axis = 1, inplace = True)\n",
    "        if central_tend == 'mean':\n",
    "            team1_mean = team1_winning_df.groupby(['Season', 'team1']).mean()\n",
    "            team1_mean = team1_mean.reset_index().rename(columns = {team_stat: 'team1_'+team_stat+'_avg'})\n",
    "            return team1_mean\n",
    "        elif central_tend == 'median':\n",
    "            team1_median = team1_winning_df.groupby(['Season', 'team1']).median()\n",
    "            team1_median = team1_median.reset_index().rename(columns = {team_stat: 'team1_'+team_stat+'_med'})\n",
    "            return team1_median\n",
    "        else:\n",
    "            print('Error in central tendancy chosen')\n",
    "    elif outcome == 'lose':\n",
    "        team1_losing_df = team1_copy.copy()\n",
    "        features = [col for col in team1_losing_df.columns if (col!= 'Season') & (col != 'team1') & (col != team_stat)]\n",
    "        team1_losing_df.drop(features, axis =1, inplace = True)\n",
    "        if central_tend == 'mean':\n",
    "            team1_mean = team1_losing_df.groupby(['Season', 'team1']).mean()\n",
    "            team1_mean = team1_mean.reset_index().rename(columns = {team_stat: 'team1_'+team_stat+ '_avg'})\n",
    "            return team1_mean\n",
    "        elif central_tend == 'median':\n",
    "            team1_median = team1_losing_df.groupby(['Season', 'team1']).median()\n",
    "            team1_median = team1_median.reset_index().rename(columns = {team_stat: 'team1_'+team_stat+'_med'})\n",
    "            return team1_median\n",
    "        else:\n",
    "            print('Error in central tendancy chosen')\n",
    "    else:\n",
    "        print(\"It's win or lose people!\")\n",
    "            \n",
    "        "
   ]
  },
  {
   "cell_type": "markdown",
   "metadata": {},
   "source": [
    "### Function to get median or mean stats of team2 whether they lose or win for test set"
   ]
  },
  {
   "cell_type": "code",
   "execution_count": 14,
   "metadata": {
    "collapsed": true
   },
   "outputs": [],
   "source": [
    "def team2_stat_test(outcome, team_stat, central_tend, team2_copy):\n",
    "    if outcome == 'win':\n",
    "        team2_winning_df = team2_copy.copy()\n",
    "        features = [col for col in team2_winning_df.columns if (col != 'Season') & (col != 'team2') & (col != team_stat)]\n",
    "        team2_winning_df.drop(features, axis = 1, inplace = True)\n",
    "        if central_tend == 'mean':\n",
    "            team2_mean = team2_winning_df.groupby(['Season', 'team2']).mean()\n",
    "            team2_mean = team2_mean.reset_index().rename(columns = {team_stat: 'team2_'+team_stat+'_avg'})\n",
    "            return team2_mean\n",
    "        elif central_tend == 'median':\n",
    "            team2_median = team2_winning_df.groupby(['Season', 'team2']).median()\n",
    "            team2_median = team2_median.reset_index().rename(columns = {team_stat: 'team2_'+team_stat+'_med'})\n",
    "            return team2_median\n",
    "        else:\n",
    "            print('Error in central tendancy chosen')\n",
    "    elif outcome == 'lose':\n",
    "        team2_losing_df = team2_copy.copy()\n",
    "        features = [col for col in team2_losing_df.columns if (col!= 'Season') & (col != 'team2') & (col != team_stat)]\n",
    "        team2_losing_df.drop(features, axis =1, inplace = True)\n",
    "        if central_tend == 'mean':\n",
    "            team2_mean = team2_losing_df.groupby(['Season', 'team2']).mean()\n",
    "            team2_mean = team2_mean.reset_index().rename(columns = {team_stat: 'team2_'+team_stat+ '_avg'})\n",
    "            return team2_mean\n",
    "        elif central_tend == 'median':\n",
    "            team2_median = team2_losing_df.groupby(['Season', 'team2']).median()\n",
    "            team2_median = team2_median.reset_index().rename(columns = {team_stat: 'team2_'+team_stat+'_med'})\n",
    "            return team2_median\n",
    "        else:\n",
    "            print('Error in central tendancy chosen')\n",
    "    else:\n",
    "        print(\"It's win or lose people!\")\n",
    "            \n",
    "        "
   ]
  },
  {
   "cell_type": "markdown",
   "metadata": {},
   "source": [
    "### Function to get my test data"
   ]
  },
  {
   "cell_type": "code",
   "execution_count": 15,
   "metadata": {
    "collapsed": true
   },
   "outputs": [],
   "source": [
    "def ncaa_test(sample_sub_stage, regular_compact, regular_season_detailed):\n",
    "    #get out test dataframe ready by using the submission csv\n",
    "    sample_sub = sample_sub_stage.ID.str.split('_', expand = True).rename(columns={0: 'Season', 1: 'team1',2: 'team2'})\n",
    "    sample = pd.concat([sample_sub_stage, sample_sub], axis = 1)\n",
    "    sample['Season'] = sample['Season'].astype('int64')\n",
    "    sample['team1'] = sample['team1'].astype('int64')\n",
    "    sample['team2'] = sample['team2'].astype('int64')\n",
    "    \n",
    "    \n",
    "    df_renamed = regular_compact.rename(columns = {'WTeamID':'team1', 'LTeamID': 'team2'})\n",
    "    \n",
    "    tourney_seeds = pd.read_csv('NCAATourneySeeds.csv')\n",
    "    tourney_seeds_int = tourney_seeds.copy()\n",
    "    tourney_seeds_int['seed_int'] = tourney_seeds_int.Seed.apply(lambda x: int(x[1:3]))\n",
    "    tourney_seeds_int.drop('Seed', axis = 1, inplace = True)\n",
    "    \n",
    "    sample_seed_df = pd.merge(left = sample, right = tourney_seeds_int, how = 'inner', left_on = ['Season', 'team1'], right_on = ['Season', 'TeamID']).drop('TeamID', axis = 1)\n",
    "    sample_seed_df.rename(columns = {'seed_int': 'team1seed'}, inplace = True)\n",
    "    sample_seed_df = pd.merge(left = sample_seed_df, right = tourney_seeds_int, left_on = ['Season', 'team2'], right_on = ['Season', 'TeamID']).drop('TeamID', axis = 1)\n",
    "    sample_seed_df.rename(columns = {'seed_int': 'team2seed'}, inplace = True)\n",
    "    \n",
    "    regular_detailed_rename = regular_season_detailed.rename(columns = {'WTeamID': 'team1', 'LTeamID':'team2'})\n",
    "    winning_test = regular_detailed_rename[['Season', 'team1']]\n",
    "    winning_test['wins'] = 1\n",
    "    wins_per_season_test = winning_test.groupby(['Season', 'team1']).sum().reset_index()\n",
    "    \n",
    "    losing_test = regular_detailed_rename[['Season', 'team2']]\n",
    "    losing_test['loss'] = 1\n",
    "    loss_per_season_test = losing_test.groupby(['Season', 'team2']).sum().reset_index()\n",
    "\n",
    "    team1_wins_test = wins_per_season_test.copy()\n",
    "    team1_wins_test.rename(columns = {'wins':'team1wins_season'}, inplace = True)\n",
    "    team2_wins_test = wins_per_season_test.copy()\n",
    "    team2_wins_test.rename(columns = {'team1': 'team2', 'wins': 'team2wins_season'}, inplace = True)\n",
    "    \n",
    "    team1_losses_test = loss_per_season_test.astype('int64').copy()\n",
    "    team1_losses_test.rename(columns = {'team2': 'team1','loss':'team1losses_season'}, inplace = True)\n",
    "    team2_losses_test = loss_per_season_test.astype('int64').copy()\n",
    "    team2_losses_test.rename(columns = {'loss': 'team2losses_season'}, inplace = True)\n",
    "    \n",
    "    sample_seed_df  = pd.merge(sample_seed_df, team1_wins_test, how='left', on = ['Season', 'team1'])\n",
    "    sample_seed_df  = pd.merge(sample_seed_df, team1_losses_test, how='left', on = ['Season', 'team1'])\n",
    "    sample_seed_df  = pd.merge(sample_seed_df, team2_wins_test, how='left', on = ['Season', 'team2'])\n",
    "    sample_seed_df  = pd.merge(sample_seed_df, team2_losses_test, how='left', on = ['Season', 'team2'])\n",
    "    \n",
    "    sample_seed_df.fillna(0, inplace = True)\n",
    "    \n",
    "    team1_test_season = sample_seed_df[['Season','team1']]\n",
    "    team2_test_season = sample_seed_df[['Season','team2']]\n",
    "    \n",
    "    win_test_team1 = pd.merge(team1_test_season, regular_season_detailed, how = 'left', left_on= ['Season', 'team1'], right_on= ['Season', 'WTeamID'])\n",
    "    lose_test_team1 = pd.merge(team1_test_season, regular_season_detailed, how = 'left', left_on =['Season', 'team1'], right_on = ['Season', 'LTeamID'])\n",
    "    win_test_team2 = pd.merge(team2_test_season, regular_season_detailed, how = 'left', left_on= ['Season', 'team2'], right_on= ['Season', 'WTeamID'])\n",
    "    lose_test_team2 = pd.merge(team2_test_season, regular_season_detailed, how = 'left', left_on =['Season', 'team2'], right_on = ['Season', 'LTeamID'])\n",
    "    \n",
    "    #Getting possesion stats\n",
    "    win_test_team1['WPossession'] = win_test_team1.WFGA + (.44 * win_test_team1.WFTA) + win_test_team1.WTO - win_test_team1.WOR\n",
    "    lose_test_team1['LPossession'] = lose_test_team1.LFGA + (.44 * lose_test_team1.LFTA) + lose_test_team1.LTO - lose_test_team1.LOR\n",
    "    win_test_team2['WPossession'] = win_test_team2.WFGA + (.44 * win_test_team2.WFTA) + win_test_team2.WTO - win_test_team2.WOR\n",
    "    lose_test_team2['LPossession'] = lose_test_team2.LFGA + (.44 * lose_test_team2.LFTA) + lose_test_team2.LTO - lose_test_team2.LOR\n",
    "    \n",
    "    #Offensive Efficiency (Offrtg) = 100 x (Points / Possessions)\n",
    "    # Defensive efficiency (DefRtg) = 100 x (Opponent points / Opponent possessions) (here we're calling LOffrtg)\n",
    "    win_test_team1['WEff'] = 100 * (win_test_team1.WFGM/win_test_team1.WPossession)\n",
    "    lose_test_team1['LEff'] = 100 * (lose_test_team1.LFGM/lose_test_team1.LPossession)\n",
    "    win_test_team2['WEff'] = 100 * (win_test_team2.WFGM/win_test_team2.WPossession)\n",
    "    lose_test_team2['LEff'] = 100 * (lose_test_team2.LFGM/lose_test_team2.LPossession)\n",
    "          \n",
    "    #EFG% = (FGM + (0.5 * 3PM)) / FGA\n",
    "    win_test_team1['WEFG%'] = (win_test_team1.WFGM + (0.5 * win_test_team1.WFGM3))/ win_test_team1.WFGA\n",
    "    lose_test_team1['LEFG%'] = (lose_test_team1.LFGM + (0.5 * lose_test_team1.LFGM3))/ lose_test_team1.LFGA\n",
    "    win_test_team2['WEFG%'] = (win_test_team2.WFGM + (0.5 * win_test_team2.WFGM3))/ win_test_team2.WFGA\n",
    "    lose_test_team2['LEFG%'] = (lose_test_team2.LFGM + (0.5 * lose_test_team2.LFGM3))/ lose_test_team2.LFGA\n",
    "          \n",
    "    #Offensive rebounding percentage (OREB%) = Offensive rebounds / (Offensive rebounds + Opponent defensive rebounds)\n",
    "    #Defensive rebounding percentage (DREB%) = Defensive rebounds / (Defensive rebounds + Opponent offensive rebounds)\n",
    "    win_test_team1['WREB%'] = win_test_team1.WOR/ (win_test_team1.WOR + win_test_team1.LDR)\n",
    "    lose_test_team1['LREB%'] = lose_test_team1.LOR/ (lose_test_team1.LOR + lose_test_team1.WDR)\n",
    "    win_test_team2['WREB%'] = win_test_team2.WOR/ (win_test_team2.WOR + win_test_team2.LDR)\n",
    "    lose_test_team2['LREB%'] = lose_test_team2.LOR/ (lose_test_team2.LOR + lose_test_team2.WDR)\n",
    "    \n",
    "    #Turnover rate (TOR) = TOV / (FGA + 0.44 * FTA + TOV)\n",
    "    win_test_team1['WTOR'] = win_test_team1.WTO / (win_test_team1.WFGA + 0.44*win_test_team1.WFTA + win_test_team1.WTO)\n",
    "    lose_test_team1['LTOR'] = lose_test_team1.LTO / (lose_test_team1.LFGA + 0.44*lose_test_team1.LFTA + lose_test_team1.LTO)\n",
    "    win_test_team2['WTOR'] = win_test_team2.WTO / (win_test_team2.WFGA + 0.44*win_test_team2.WFTA + win_test_team2.WTO)\n",
    "    lose_test_team2['LTOR'] = lose_test_team2.LTO / (lose_test_team2.LFGA + 0.44*lose_test_team2.LFTA + lose_test_team2.LTO)\n",
    "          \n",
    "    #Freethrow percentage = FTA/FGA\n",
    "    win_test_team1['WFT%'] = win_test_team1.WFTA / win_test_team1.WFGA\n",
    "    lose_test_team1['LFT%'] = lose_test_team1.LFTA / lose_test_team1.LFGA\n",
    "    win_test_team2['WFT%'] = win_test_team2.WFTA / win_test_team2.WFGA\n",
    "    lose_test_team2['LFT%'] = lose_test_team2.LFTA / lose_test_team2.LFGA\n",
    "          \n",
    "    #Fieldgoal 2 points Attempts = FGA -FGA3\n",
    "    win_test_team1['WFGA2'] = win_test_team1.WFGA - win_test_team1.WFGA3\n",
    "    lose_test_team1['LFGA2'] = lose_test_team1.LFGA - lose_test_team1.LFGA3\n",
    "    win_test_team2['WFGA2'] = win_test_team2.WFGA - win_test_team2.WFGA3\n",
    "    lose_test_team2['LFGA2'] = lose_test_team2.LFGA - lose_test_team2.LFGA3\n",
    "          \n",
    "    #Fieldgoal 2 points Made = FGM - FGM3\n",
    "    win_test_team1['WFGM2'] = win_test_team1.WFGM - win_test_team1.WFGM3\n",
    "    lose_test_team1['LFGM2'] = lose_test_team1.LFGM - lose_test_team1.LFGM3\n",
    "    win_test_team2['WFGM2'] = win_test_team2.WFGM - win_test_team2.WFGM3\n",
    "    lose_test_team2['LFGM2'] = lose_test_team2.LFGM - lose_test_team2.LFGM3\n",
    "    \n",
    "    #PIE = (PTS + FGM + FTM - FGA - FTA + DREB + (.5 * OREB) + AST + STL + (.5 * BLK) - PF - TO) / \n",
    "    # (GmPTS + GmFGM + GmFTM - GmFGA - GmFTA + GmDREB + (.5 * GmOREB) + GmAST + GmSTL + (.5 * GmBLK) - GmPF - GmTO)\n",
    "    win_test_team1['WPIE'] =  ((win_test_team1.WScore + win_test_team1.WFGM + win_test_team1.WFTM - win_test_team1.WFGA - win_test_team1.WFTA + win_test_team1.LDR + (.5*win_test_team1.WOR) + win_test_team1.WAst + win_test_team1.WStl + (.5 * win_test_team1.WBlk) - win_test_team1.WPF - win_test_team1.WTO)\\\n",
    "                              / ((win_test_team1.WScore + win_test_team1.LScore) + (win_test_team1.WFGM + win_test_team1.LFGM) + (win_test_team1.WFTM + win_test_team1.LFTM) - (win_test_team1.WFGA + win_test_team1.LFGA) - (win_test_team1.WFTA + win_test_team1.LFTA) + (win_test_team1.WDR + win_test_team1.LDR)\\\n",
    "                           + (.5 * (win_test_team1.WOR + win_test_team1.LOR)) + (win_test_team1.WAst + win_test_team1.LAst) +(win_test_team1.WStl + win_test_team1.LStl) + (.5 * (win_test_team1.WBlk + win_test_team1.LBlk)) - (win_test_team1.WPF + win_test_team1.LPF) - (win_test_team1.WTO + win_test_team1.LTO)))\n",
    "    lose_test_team1['LPIE'] = ((lose_test_team1.LScore + lose_test_team1.LFGM + lose_test_team1.LFTM - lose_test_team1.LFGA - lose_test_team1.LFTA + lose_test_team1.WDR + (.5*lose_test_team1.LOR) + lose_test_team1.LAst + lose_test_team1.LStl + (.5 * lose_test_team1.LBlk) - lose_test_team1.LPF - lose_test_team1.LTO)\\\n",
    "                              / ((lose_test_team1.WScore + lose_test_team1.LScore) + (lose_test_team1.WFGM + lose_test_team1.LFGM) + (lose_test_team1.WFTM + lose_test_team1.LFTM) - (lose_test_team1.WFGA + lose_test_team1.LFGA) - (lose_test_team1.WFTA + lose_test_team1.LFTA) + (lose_test_team1.WDR + lose_test_team1.LDR)\\\n",
    "                           + (.5 * (lose_test_team1.WOR + lose_test_team1.LOR)) + (lose_test_team1.WAst + lose_test_team1.LAst) +(lose_test_team1.WStl + lose_test_team1.LStl) + (.5 * (lose_test_team1.WBlk + lose_test_team1.LBlk)) - (lose_test_team1.WPF + lose_test_team1.LPF) - (lose_test_team1.WTO + lose_test_team1.LTO)))\n",
    "    win_test_team2['WPIE'] = ((win_test_team2.WScore + win_test_team2.WFGM + win_test_team2.WFTM - win_test_team2.WFGA - win_test_team2.WFTA + win_test_team2.LDR + (.5*win_test_team2.WOR) + win_test_team2.WAst + win_test_team2.WStl + (.5 * win_test_team2.WBlk) - win_test_team2.WPF - win_test_team2.WTO)\\\n",
    "                              / ((win_test_team2.WScore + win_test_team2.LScore) + (win_test_team2.WFGM + win_test_team2.LFGM) + (win_test_team2.WFTM + win_test_team2.LFTM) - (win_test_team2.WFGA + win_test_team2.LFGA) - (win_test_team2.WFTA + win_test_team2.LFTA) + (win_test_team2.WDR + win_test_team2.LDR)\\\n",
    "                           + (.5 * (win_test_team2.WOR + win_test_team2.LOR)) + (win_test_team2.WAst + win_test_team2.LAst) + (win_test_team2.WStl + win_test_team2.LStl) + (.5 * (win_test_team2.WBlk + win_test_team2.LBlk)) - (win_test_team2.WPF + win_test_team2.LPF) - (win_test_team2.WTO + win_test_team2.LTO)))\n",
    "    lose_test_team2['LPIE'] = ((lose_test_team2.LScore + lose_test_team2.LFGM + lose_test_team2.LFTM - lose_test_team2.LFGA - lose_test_team2.LFTA + lose_test_team2.WDR + (.5*lose_test_team2.LOR) + lose_test_team2.LAst + lose_test_team2.LStl + (.5 * lose_test_team2.LBlk) - lose_test_team2.LPF - lose_test_team2.LTO)\\\n",
    "                              / ((lose_test_team2.WScore + lose_test_team2.LScore) + (lose_test_team2.WFGM + lose_test_team2.LFGM) + (lose_test_team2.WFTM + lose_test_team2.LFTM) - (lose_test_team2.WFGA + lose_test_team2.LFGA) - (lose_test_team2.WFTA + lose_test_team2.LFTA) + (lose_test_team2.WDR + lose_test_team2.LDR)\\\n",
    "                           + (.5 * (lose_test_team2.WOR + lose_test_team2.LOR)) + (lose_test_team2.WAst + lose_test_team2.LAst) +(lose_test_team2.WStl + lose_test_team2.LStl) + (.5 * (lose_test_team2.WBlk + lose_test_team2.LBlk)) - (lose_test_team2.WPF + lose_test_team2.LPF) - (lose_test_team2.WTO + lose_test_team2.LTO)))\n",
    "    \n",
    "    \n",
    "    #get the median win stats for team1\n",
    "    team1_wscore_median = team1_stat_test('win', 'WScore', 'median', win_test_team1)\n",
    "    team1_wfgm_median = team1_stat_test('win', 'WFGM', 'median', win_test_team1)\n",
    "    team1_wfga_median = team1_stat_test('win', 'WFGA', 'median', win_test_team1)\n",
    "    team1_wfgm3_median = team1_stat_test('win', 'WFGM3', 'median', win_test_team1)\n",
    "    team1_wfga3_median = team1_stat_test('win', 'WFGA3', 'median', win_test_team1)\n",
    "    team1_wftm_median = team1_stat_test('win', 'WFTM', 'median', win_test_team1)\n",
    "    team1_wfta_median = team1_stat_test('win', 'WFTA', 'median', win_test_team1)\n",
    "    team1_wor_median = team1_stat_test('win', 'WOR', 'median', win_test_team1)\n",
    "    team1_wdr_median = team1_stat_test('win', 'WDR', 'median', win_test_team1)\n",
    "    team1_wast_median = team1_stat_test('win', 'WAst', 'median', win_test_team1)\n",
    "    team1_wstl_median = team1_stat_test('win', 'WStl', 'median', win_test_team1)\n",
    "    team1_wblk_median = team1_stat_test('win', 'WBlk', 'median', win_test_team1)\n",
    "    team1_wpf_median = team1_stat_test('win', 'WPF', 'median', win_test_team1)\n",
    "    team1_wpos_median = team1_stat_test('win', 'WPossession', 'median',win_test_team1)\n",
    "    team1_weff_median = team1_stat_test( 'win', 'WEff', 'median',win_test_team1)\n",
    "    team1_wefgp_median = team1_stat_test( 'win', 'WEFG%', 'median',win_test_team1)\n",
    "    team1_wrebp_median = team1_stat_test( 'win', 'WREB%', 'median',win_test_team1)\n",
    "    team1_wtor_median = team1_stat_test( 'win', 'WTOR', 'median',win_test_team1)\n",
    "    team1_wftp_median = team1_stat_test( 'win', 'WFT%', 'median',win_test_team1)\n",
    "    team1_wfga2_median = team1_stat_test( 'win', 'WFGA2', 'median',win_test_team1)\n",
    "    team1_wfgm2_median = team1_stat_test( 'win', 'WFGM2', 'median',win_test_team1) \n",
    "    team1_wpie_median = team1_stat_test('win', 'WPIE', 'median', win_test_team1)\n",
    "\n",
    "    #get the median lose stats for team1\n",
    "    team1_lscore_median = team1_stat_test('lose', 'LScore', 'median', lose_test_team1)\n",
    "    team1_lfgm_median = team1_stat_test('lose', 'LFGM', 'median', lose_test_team1)\n",
    "    team1_lfga_median = team1_stat_test('lose', 'LFGA', 'median', lose_test_team1)\n",
    "    team1_lfgm3_median = team1_stat_test('lose', 'LFGM3', 'median', lose_test_team1)\n",
    "    team1_lfga3_median = team1_stat_test('lose', 'LFGA3', 'median', lose_test_team1)\n",
    "    team1_lftm_median = team1_stat_test('lose', 'LFTM', 'median', lose_test_team1)\n",
    "    team1_lfta_median = team1_stat_test('lose', 'LFTA', 'median', lose_test_team1)\n",
    "    team1_lor_median = team1_stat_test('lose', 'LOR', 'median', lose_test_team1)\n",
    "    team1_ldr_median = team1_stat_test('lose', 'LDR', 'median', lose_test_team1)\n",
    "    team1_last_median = team1_stat_test('lose', 'LAst', 'median', lose_test_team1)\n",
    "    team1_lstl_median = team1_stat_test('lose', 'LStl', 'median', lose_test_team1)\n",
    "    team1_lblk_median = team1_stat_test('lose', 'LBlk', 'median', lose_test_team1)\n",
    "    team1_lpf_median = team1_stat_test('lose', 'LPF', 'median', lose_test_team1)\n",
    "    team1_lpos_median = team1_stat_test('lose', 'LPossession', 'median', lose_test_team1)\n",
    "    team1_leff_median = team1_stat_test( 'lose', 'LEff', 'median', lose_test_team1)\n",
    "    team1_lefgp_median = team1_stat_test( 'lose', 'LEFG%', 'median', lose_test_team1)\n",
    "    team1_lrebp_median = team1_stat_test( 'lose', 'LREB%', 'median', lose_test_team1)\n",
    "    team1_ltor_median = team1_stat_test( 'lose', 'LTOR', 'median', lose_test_team1)\n",
    "    team1_lftp_median = team1_stat_test( 'lose', 'LFT%', 'median', lose_test_team1)\n",
    "    team1_lfga2_median = team1_stat_test( 'lose', 'LFGA2', 'median', lose_test_team1)\n",
    "    team1_lfgm2_median = team1_stat_test( 'lose', 'LFGM2', 'median', lose_test_team1)\n",
    "    team1_lpie_median = team1_stat_test('lose', 'LPIE', 'median', lose_test_team1)\n",
    "\n",
    "    #get the median win stats for team2\n",
    "    team2_wscore_median = team2_stat_test('win', 'WScore', 'median', win_test_team2)\n",
    "    team2_wfgm_median = team2_stat_test('win', 'WFGM', 'median', win_test_team2)\n",
    "    team2_wfga_median = team2_stat_test('win', 'WFGA', 'median', win_test_team2)\n",
    "    team2_wfgm3_median = team2_stat_test('win', 'WFGM3', 'median', win_test_team2)\n",
    "    team2_wfga3_median = team2_stat_test('win', 'WFGA3', 'median', win_test_team2)\n",
    "    team2_wftm_median = team2_stat_test('win', 'WFTM', 'median', win_test_team2)\n",
    "    team2_wfta_median = team2_stat_test('win', 'WFTA', 'median', win_test_team2)\n",
    "    team2_wor_median = team2_stat_test('win', 'WOR', 'median', win_test_team2)\n",
    "    team2_wdr_median = team2_stat_test('win', 'WDR', 'median', win_test_team2)\n",
    "    team2_wast_median = team2_stat_test('win', 'WAst', 'median', win_test_team2)\n",
    "    team2_wstl_median = team2_stat_test('win', 'WStl', 'median', win_test_team2)\n",
    "    team2_wblk_median = team2_stat_test('win', 'WBlk', 'median', win_test_team2)\n",
    "    team2_wpf_median = team2_stat_test('win', 'WPF', 'median', win_test_team2)\n",
    "    team2_wpos_median = team2_stat_test( 'win', 'WPossession', 'median', win_test_team2)\n",
    "    team2_weff_median = team2_stat_test( 'win', 'WEff', 'median', win_test_team2)\n",
    "    team2_wefgp_median = team2_stat_test( 'win', 'WEFG%', 'median', win_test_team2)\n",
    "    team2_wrebp_median = team2_stat_test( 'win', 'WREB%', 'median', win_test_team2)\n",
    "    team2_wtor_median = team2_stat_test( 'win', 'WTOR', 'median', win_test_team2)\n",
    "    team2_wftp_median = team2_stat_test( 'win', 'WFT%', 'median', win_test_team2)\n",
    "    team2_wfga2_median = team2_stat_test( 'win', 'WFGA2', 'median', win_test_team2)\n",
    "    team2_wfgm2_median = team2_stat_test( 'win', 'WFGM2', 'median', win_test_team2)     \n",
    "    team2_wpie_median = team2_stat_test('win', 'WPIE', 'median', win_test_team2)\n",
    "    \n",
    "\n",
    "    #get the median lose stats for team2\n",
    "    team2_lscore_median = team2_stat_test('lose', 'LScore', 'median', lose_test_team2)\n",
    "    team2_lfgm_median = team2_stat_test('lose', 'LFGM', 'median', lose_test_team2)\n",
    "    team2_lfga_median = team2_stat_test('lose', 'LFGA', 'median', lose_test_team2)\n",
    "    team2_lfgm3_median = team2_stat_test('lose', 'LFGM3', 'median', lose_test_team2)\n",
    "    team2_lfga3_median = team2_stat_test('lose', 'LFGA3', 'median', lose_test_team2)\n",
    "    team2_lftm_median = team2_stat_test('lose', 'LFTM', 'median', lose_test_team2)\n",
    "    team2_lfta_median = team2_stat_test('lose', 'LFTA', 'median', lose_test_team2)\n",
    "    team2_lor_median = team2_stat_test('lose', 'LOR', 'median', lose_test_team2)\n",
    "    team2_ldr_median = team2_stat_test('lose', 'LDR', 'median', lose_test_team2)\n",
    "    team2_last_median = team2_stat_test('lose', 'LAst', 'median', lose_test_team2)\n",
    "    team2_lstl_median = team2_stat_test('lose', 'LStl', 'median', lose_test_team2)\n",
    "    team2_lblk_median = team2_stat_test('lose', 'LBlk', 'median', lose_test_team2)\n",
    "    team2_lpf_median = team2_stat_test('lose', 'LPF', 'median', lose_test_team2)\n",
    "    team2_lpos_median = team2_stat_test( 'lose', 'LPossession', 'median', lose_test_team2)\n",
    "    team2_leff_median = team2_stat_test( 'lose', 'LEff', 'median', lose_test_team2)\n",
    "    team2_lefgp_median = team2_stat_test( 'lose', 'LEFG%', 'median', lose_test_team2)\n",
    "    team2_lrebp_median = team2_stat_test( 'lose', 'LREB%', 'median', lose_test_team2)\n",
    "    team2_ltor_median = team2_stat_test( 'lose', 'LTOR', 'median', lose_test_team2)\n",
    "    team2_lftp_median = team2_stat_test( 'lose', 'LFT%', 'median', lose_test_team2)\n",
    "    team2_lfga2_median = team2_stat_test( 'lose', 'LFGA2', 'median', lose_test_team2)\n",
    "    team2_lfgm2_median = team2_stat_test( 'lose', 'LFGM2', 'median', lose_test_team2)\n",
    "    team2_lpie_median = team2_stat_test('lose', 'LPIE', 'median', lose_test_team2)\n",
    "    \n",
    "    data_team1 = [team1_wscore_median, team1_wfgm_median, team1_wfga_median, team1_wfgm3_median, team1_wfga3_median, team1_wftm_median, \\\n",
    "    team1_wfta_median, team1_wor_median, team1_wdr_median, team1_wast_median, team1_wstl_median, team1_wblk_median, team1_wpf_median,\\\n",
    "    team1_wpos_median, team1_weff_median, team1_wefgp_median, team1_wrebp_median, team1_wtor_median, team1_wftp_median, team1_wfga2_median,\\\n",
    "    team1_wfgm2_median, team1_wpie_median, team1_lscore_median, team1_lfgm_median, team1_lfga_median, team1_lfgm3_median, team1_lfga3_median, team1_lftm_median, \\\n",
    "    team1_lfta_median, team1_lor_median, team1_ldr_median, team1_last_median, team1_lstl_median,team1_lblk_median, team1_lpf_median, \\\n",
    "    team1_lpos_median, team1_leff_median, team1_lefgp_median, team1_lrebp_median, team1_ltor_median, team1_lftp_median, team1_lfga2_median,\\\n",
    "    team1_lfgm2_median, team1_lpie_median]\n",
    "\n",
    "    data_team2 = [team2_wscore_median, team2_wfgm_median, team2_wfga_median, team2_wfgm3_median, team2_wfga3_median, team2_wftm_median, \\\n",
    "    team2_wfta_median, team2_wor_median, team2_wdr_median, team2_wast_median, team2_wstl_median, team2_wblk_median, team2_wpf_median,\\\n",
    "    team2_wpos_median, team2_weff_median, team2_wefgp_median, team2_wrebp_median, team2_wtor_median, team2_wftp_median, team2_wfga2_median,\\\n",
    "    team2_wfgm2_median, team2_wpie_median, team2_lscore_median, team2_lfgm_median, team2_lfga_median, team2_lfgm3_median, team2_lfga3_median, team2_lftm_median, \\\n",
    "    team2_lfta_median, team2_lor_median, team2_ldr_median, team2_last_median, team2_lstl_median, team2_lblk_median, team2_lpf_median, \\\n",
    "    team2_lpos_median, team2_leff_median, team2_lefgp_median, team2_lrebp_median, team2_ltor_median, team2_lftp_median, team2_lfga2_median,\\\n",
    "    team2_lfgm2_median, team2_lpie_median]\n",
    "    \n",
    "    final_combination_test = sample_seed_df.copy()\n",
    "    \n",
    "    for i in data_team1:\n",
    "        final_combination_test = pd.merge(left=final_combination_test, right=i, how = 'left', on = ['Season', 'team1'])\n",
    "        \n",
    "    for i in data_team2:\n",
    "        final_combination_test = pd.merge(left = final_combination_test, right = i, how = 'left', on = ['Season', 'team2'])\n",
    "        \n",
    "    t1 = ['team1_LAst_med','team1_LBlk_med', 'team1_LDR_med', 'team1_LEFG%_med', 'team1_LEff_med','team1_LFGA2_med',\\\n",
    "          'team1_LFGA3_med', 'team1_LFGA_med', 'team1_LFGM2_med',\\\n",
    "       'team1_LFGM3_med', 'team1_LFGM_med', 'team1_LFT%_med', 'team1_LFTA_med', 'team1_LFTM_med',\\\n",
    "       'team1_LOR_med', 'team1_LPF_med','team1_LPIE_med', 'team1_LPossession_med', 'team1_LREB%_med', 'team1_LScore_med', 'team1_LStl_med', 'team1_LTOR_med',\\\n",
    "       'team1_WAst_med', 'team1_WBlk_med', 'team1_WDR_med', 'team1_WEFG%_med', 'team1_WEff_med', 'team1_WFGA2_med', 'team1_WFGA3_med',\\\n",
    "       'team1_WFGA_med', 'team1_WFGM2_med', 'team1_WFGM3_med', 'team1_WFGM_med', 'team1_WFT%_med','team1_WFTA_med',\\\n",
    "       'team1_WFTM_med', 'team1_WOR_med', 'team1_WPF_med', 'team1_WPIE_med','team1_WPossession_med','team1_WREB%_med', 'team1_WScore_med',\\\n",
    "       'team1_WStl_med', 'team1_WTOR_med', 'team1seed']\n",
    "    t2 = ['team2_LAst_med', 'team2_LBlk_med', 'team2_LDR_med', 'team2_LEFG%_med', 'team2_LEff_med',\\\n",
    "       'team2_LFGA2_med', 'team2_LFGA3_med', 'team2_LFGA_med', 'team1_LFGM2_med', 'team2_LFGM3_med',\\\n",
    "       'team2_LFGM_med', 'team1_LFT%_med', 'team2_LFTA_med', 'team2_LFTM_med', 'team2_LOR_med',\\\n",
    "       'team2_LPF_med', 'team2_LPossession_med', 'team2_LREB%_med','team2_LScore_med', 'team2_LStl_med','team2_LTOR_med', 'team2_WAst_med',\\\n",
    "       'team2_WBlk_med', 'team2_WDR_med','team2_WEFG%_med', 'team2_WEff_med', 'team2_WFGA2_med', 'team2_WFGA3_med', 'team2_WFGA_med','team1_WFGM2_med',\\\n",
    "       'team2_WFGM3_med', 'team2_WFGM_med', 'team2_WFT%_med', 'team2_WFTA_med', 'team2_WFTM_med',\\\n",
    "       'team2_WOR_med', 'team2_WPF_med','team2_WPossession_med', 'team2_WREB%_med', 'team2_WScore_med', 'team2_WStl_med','team1_WTOR_med','team2seed']\n",
    "\n",
    "    t3 = ['LAst_med_diff', 'LBlk_med_diff', 'LDR_med_diff', 'LEFG%_med_diff', 'LEFF_med_diff', 'LFGA2_med_diff',\\\n",
    "          'LFGA3_med_diff', 'LFGA_med_diff', 'team1_LFGM2_med', 'LFGM3_med_diff', 'LFGM_med_diff',\\\n",
    "     'LFTA_med_diff', 'LFT%_med_diff', 'LFTM_med_diff', 'LOR_med_diff', 'LPF_med_diff','LPIE_med_diff', 'LPosession_med_diff', 'LREB%_med_diff', 'LScore_med_diff', 'LStl_med_diff', 'LTOR_med_diff', 'WAst_med_diff',\\\n",
    "     'WBLK_med_diff', 'WDR_med_diff', 'WEFG%_med_diff', 'WEff_med_diff', 'WFGA2_med_diff', 'WFGA3_med_diff', 'WFGA_med_diff', 'WFGM2_med_diff','WFGM3_med_diff', 'WFGM_med_diff', 'WTF%_med_diff','WFTA_med_diff',\\\n",
    "     'WFTM_med_diff', 'WOR_med_diff', 'WPF_med_diff', 'WPIE_med_diff', 'WPossession_med_diff', 'WREB%_med_diff','WScore_med_diff', 'WStl_med_diff', 'WTOR_med_diff', 'seed_diff']\n",
    "    \n",
    "    final_combination_test.fillna(0, inplace = True)\n",
    "    for a, b, c in list(zip(t1, t2, t3)):\n",
    "        final_combination_test[c] = final_combination_test[a]-final_combination_test[b]\n",
    "    \n",
    "    coach = pd.read_csv(\"TeamCoaches.csv\")\n",
    "    coach_18 = coach.query(\"Season == 2018\")\n",
    "    coach_17 = coach.query(\"Season == 2017\")\n",
    "    coach_18_last = coach_18.query(\"LastDayNum == 77\")\n",
    "    no_18coach_17 = [coach for coach in coach_18_last.CoachName.values if coach not in coach_17.CoachName.values]\n",
    "    coach_18['seasoned'] = coach_18.CoachName.apply(lambda x: 0 if x in no_18coach_17 else 1)\n",
    "    coach_18.drop(['FirstDayNum', 'LastDayNum'], axis = 1, inplace = True)\n",
    "    \n",
    "    final_combination_test = pd.merge(final_combination_test, coach_18.rename(columns = {'seasoned':'team1_seasoned', 'CoachName': 'team1_coach'}), how = 'left', left_on = ['Season', 'team1'], right_on = ['Season', 'TeamID'])\n",
    "    final_combination_test.drop(['TeamID'], axis = 1, inplace = True)\n",
    "    final_combination_test = pd.merge(final_combination_test, coach_18.rename(columns = {'seasoned':'team2_seasoned', 'CoachName': 'team2_coach'}), how = 'left', left_on = ['Season', 'team2'], right_on = ['Season', 'TeamID'])\n",
    "    final_combination_test.drop(['TeamID'], axis = 1, inplace = True)\n",
    "    \n",
    "    final_combination_test['WLoc'] = np.zeros(len(final_combination_test))\n",
    "    \n",
    "    return final_combination_test"
   ]
  },
  {
   "cell_type": "code",
   "execution_count": 16,
   "metadata": {
    "collapsed": true
   },
   "outputs": [],
   "source": [
    "test = ncaa_test(sample_sub_stage, reg_tour, detailed_reg_tour)"
   ]
  },
  {
   "cell_type": "code",
   "execution_count": 17,
   "metadata": {},
   "outputs": [
    {
     "data": {
      "text/plain": [
       "Index(['ID', 'Pred', 'Season', 'team1', 'team2', 'team1seed', 'team2seed',\n",
       "       'team1wins_season', 'team1losses_season', 'team2wins_season',\n",
       "       'team2losses_season', 'team1_WScore_med', 'team1_WFGM_med',\n",
       "       'team1_WFGA_med', 'team1_WFGM3_med', 'team1_WFGA3_med',\n",
       "       'team1_WFTM_med', 'team1_WFTA_med', 'team1_WOR_med', 'team1_WDR_med',\n",
       "       'team1_WAst_med', 'team1_WStl_med', 'team1_WBlk_med', 'team1_WPF_med',\n",
       "       'team1_WPossession_med', 'team1_WEff_med', 'team1_WEFG%_med',\n",
       "       'team1_WREB%_med', 'team1_WTOR_med', 'team1_WFT%_med',\n",
       "       'team1_WFGA2_med', 'team1_WFGM2_med', 'team1_WPIE_med',\n",
       "       'team1_LScore_med', 'team1_LFGM_med', 'team1_LFGA_med',\n",
       "       'team1_LFGM3_med', 'team1_LFGA3_med', 'team1_LFTM_med',\n",
       "       'team1_LFTA_med', 'team1_LOR_med', 'team1_LDR_med', 'team1_LAst_med',\n",
       "       'team1_LStl_med', 'team1_LBlk_med', 'team1_LPF_med',\n",
       "       'team1_LPossession_med', 'team1_LEff_med', 'team1_LEFG%_med',\n",
       "       'team1_LREB%_med', 'team1_LTOR_med', 'team1_LFT%_med',\n",
       "       'team1_LFGA2_med', 'team1_LFGM2_med', 'team1_LPIE_med',\n",
       "       'team2_WScore_med', 'team2_WFGM_med', 'team2_WFGA_med',\n",
       "       'team2_WFGM3_med', 'team2_WFGA3_med', 'team2_WFTM_med',\n",
       "       'team2_WFTA_med', 'team2_WOR_med', 'team2_WDR_med', 'team2_WAst_med',\n",
       "       'team2_WStl_med', 'team2_WBlk_med', 'team2_WPF_med',\n",
       "       'team2_WPossession_med', 'team2_WEff_med', 'team2_WEFG%_med',\n",
       "       'team2_WREB%_med', 'team2_WTOR_med', 'team2_WFT%_med',\n",
       "       'team2_WFGA2_med', 'team2_WFGM2_med', 'team2_WPIE_med',\n",
       "       'team2_LScore_med', 'team2_LFGM_med', 'team2_LFGA_med',\n",
       "       'team2_LFGM3_med', 'team2_LFGA3_med', 'team2_LFTM_med',\n",
       "       'team2_LFTA_med', 'team2_LOR_med', 'team2_LDR_med', 'team2_LAst_med',\n",
       "       'team2_LStl_med', 'team2_LBlk_med', 'team2_LPF_med',\n",
       "       'team2_LPossession_med', 'team2_LEff_med', 'team2_LEFG%_med',\n",
       "       'team2_LREB%_med', 'team2_LTOR_med', 'team2_LFT%_med',\n",
       "       'team2_LFGA2_med', 'team2_LFGM2_med', 'team2_LPIE_med', 'LAst_med_diff',\n",
       "       'LBlk_med_diff', 'LDR_med_diff', 'LEFG%_med_diff', 'LEFF_med_diff',\n",
       "       'LFGA2_med_diff', 'LFGA3_med_diff', 'LFGA_med_diff', 'LFGM3_med_diff',\n",
       "       'LFGM_med_diff', 'LFTA_med_diff', 'LFT%_med_diff', 'LFTM_med_diff',\n",
       "       'LOR_med_diff', 'LPF_med_diff', 'LPIE_med_diff', 'LPosession_med_diff',\n",
       "       'LREB%_med_diff', 'LScore_med_diff', 'LStl_med_diff', 'LTOR_med_diff',\n",
       "       'WAst_med_diff', 'WBLK_med_diff', 'WDR_med_diff', 'WEFG%_med_diff',\n",
       "       'WEff_med_diff', 'WFGA2_med_diff', 'WFGA3_med_diff', 'WFGA_med_diff',\n",
       "       'WFGM2_med_diff', 'WFGM3_med_diff', 'WFGM_med_diff', 'WTF%_med_diff',\n",
       "       'WFTA_med_diff', 'WFTM_med_diff', 'WOR_med_diff', 'WPF_med_diff',\n",
       "       'WPIE_med_diff', 'WPossession_med_diff', 'WREB%_med_diff',\n",
       "       'WScore_med_diff', 'WStl_med_diff', 'team1_coach', 'team1_seasoned',\n",
       "       'team2_coach', 'team2_seasoned', 'WLoc'],\n",
       "      dtype='object')"
      ]
     },
     "execution_count": 17,
     "metadata": {},
     "output_type": "execute_result"
    }
   ],
   "source": [
    "test.columns"
   ]
  },
  {
   "cell_type": "markdown",
   "metadata": {},
   "source": [
    "## Need to figure out which features I'm missing"
   ]
  },
  {
   "cell_type": "code",
   "execution_count": 18,
   "metadata": {},
   "outputs": [
    {
     "name": "stdout",
     "output_type": "stream",
     "text": [
      "['ID', 'Pred']\n",
      "['DayNum', 'NumOT', 'Won']\n"
     ]
    }
   ],
   "source": [
    "#not in train\n",
    "not_train = [col for col in test.columns if col not in train.columns]\n",
    "#not in test\n",
    "not_test = [col for col in train.columns if col not in test.columns]\n",
    "\n",
    "print(not_train)\n",
    "print(not_test)"
   ]
  },
  {
   "cell_type": "code",
   "execution_count": 19,
   "metadata": {},
   "outputs": [
    {
     "data": {
      "text/plain": [
       "Index(['Season', 'team1', 'team2', 'team1seed', 'team2seed',\n",
       "       'team1wins_season', 'team1losses_season', 'team2wins_season',\n",
       "       'team2losses_season', 'team1_WScore_med', 'team1_WFGM_med',\n",
       "       'team1_WFGA_med', 'team1_WFGM3_med', 'team1_WFGA3_med',\n",
       "       'team1_WFTM_med', 'team1_WFTA_med', 'team1_WOR_med', 'team1_WDR_med',\n",
       "       'team1_WAst_med', 'team1_WStl_med', 'team1_WBlk_med', 'team1_WPF_med',\n",
       "       'team1_WPossession_med', 'team1_WEff_med', 'team1_WEFG%_med',\n",
       "       'team1_WREB%_med', 'team1_WTOR_med', 'team1_WFT%_med',\n",
       "       'team1_WFGA2_med', 'team1_WFGM2_med', 'team1_WPIE_med',\n",
       "       'team1_LScore_med', 'team1_LFGM_med', 'team1_LFGA_med',\n",
       "       'team1_LFGM3_med', 'team1_LFGA3_med', 'team1_LFTM_med',\n",
       "       'team1_LFTA_med', 'team1_LOR_med', 'team1_LDR_med', 'team1_LAst_med',\n",
       "       'team1_LStl_med', 'team1_LBlk_med', 'team1_LPF_med',\n",
       "       'team1_LPossession_med', 'team1_LEff_med', 'team1_LEFG%_med',\n",
       "       'team1_LREB%_med', 'team1_LTOR_med', 'team1_LFT%_med',\n",
       "       'team1_LFGA2_med', 'team1_LFGM2_med', 'team1_LPIE_med',\n",
       "       'team2_WScore_med', 'team2_WFGM_med', 'team2_WFGA_med',\n",
       "       'team2_WFGM3_med', 'team2_WFGA3_med', 'team2_WFTM_med',\n",
       "       'team2_WFTA_med', 'team2_WOR_med', 'team2_WDR_med', 'team2_WAst_med',\n",
       "       'team2_WStl_med', 'team2_WBlk_med', 'team2_WPF_med',\n",
       "       'team2_WPossession_med', 'team2_WEff_med', 'team2_WEFG%_med',\n",
       "       'team2_WREB%_med', 'team2_WTOR_med', 'team2_WFT%_med',\n",
       "       'team2_WFGA2_med', 'team2_WFGM2_med', 'team2_WPIE_med',\n",
       "       'team2_LScore_med', 'team2_LFGM_med', 'team2_LFGA_med',\n",
       "       'team2_LFGM3_med', 'team2_LFGA3_med', 'team2_LFTM_med',\n",
       "       'team2_LFTA_med', 'team2_LOR_med', 'team2_LDR_med', 'team2_LAst_med',\n",
       "       'team2_LStl_med', 'team2_LBlk_med', 'team2_LPF_med',\n",
       "       'team2_LPossession_med', 'team2_LEff_med', 'team2_LEFG%_med',\n",
       "       'team2_LREB%_med', 'team2_LTOR_med', 'team2_LFT%_med',\n",
       "       'team2_LFGA2_med', 'team2_LFGM2_med', 'team2_LPIE_med', 'LAst_med_diff',\n",
       "       'LBlk_med_diff', 'LDR_med_diff', 'LEFG%_med_diff', 'LEFF_med_diff',\n",
       "       'LFGA2_med_diff', 'LFGA3_med_diff', 'LFGA_med_diff', 'LFGM3_med_diff',\n",
       "       'LFGM_med_diff', 'LFTA_med_diff', 'LFT%_med_diff', 'LFTM_med_diff',\n",
       "       'LOR_med_diff', 'LPF_med_diff', 'LPIE_med_diff', 'LPosession_med_diff',\n",
       "       'LREB%_med_diff', 'LScore_med_diff', 'LStl_med_diff', 'LTOR_med_diff',\n",
       "       'WAst_med_diff', 'WBLK_med_diff', 'WDR_med_diff', 'WEFG%_med_diff',\n",
       "       'WEff_med_diff', 'WFGA2_med_diff', 'WFGA3_med_diff', 'WFGA_med_diff',\n",
       "       'WFGM2_med_diff', 'WFGM3_med_diff', 'WFGM_med_diff', 'WTF%_med_diff',\n",
       "       'WFTA_med_diff', 'WFTM_med_diff', 'WOR_med_diff', 'WPF_med_diff',\n",
       "       'WPIE_med_diff', 'WPossession_med_diff', 'WREB%_med_diff',\n",
       "       'WScore_med_diff', 'WStl_med_diff', 'team1_coach', 'team1_seasoned',\n",
       "       'team2_coach', 'team2_seasoned', 'WLoc'],\n",
       "      dtype='object')"
      ]
     },
     "execution_count": 19,
     "metadata": {},
     "output_type": "execute_result"
    }
   ],
   "source": [
    "test.drop(not_train, axis = 1, inplace = True)\n",
    "test.columns"
   ]
  },
  {
   "cell_type": "code",
   "execution_count": 20,
   "metadata": {},
   "outputs": [
    {
     "data": {
      "text/plain": [
       "Index(['Season', 'WLoc', 'Won', 'team1', 'team1_LAst_med', 'team1_LBlk_med',\n",
       "       'team1_LDR_med', 'team1_LEFG%_med', 'team1_LEff_med', 'team1_LFGA2_med',\n",
       "       'team1_LFGA3_med', 'team1_LFGA_med', 'team1_LFGM2_med',\n",
       "       'team1_LFGM3_med', 'team1_LFGM_med', 'team1_LFT%_med', 'team1_LFTA_med',\n",
       "       'team1_LFTM_med', 'team1_LOR_med', 'team1_LPF_med', 'team1_LPIE_med',\n",
       "       'team1_LPossession_med', 'team1_LREB%_med', 'team1_LScore_med',\n",
       "       'team1_LStl_med', 'team1_LTOR_med', 'team1_WAst_med', 'team1_WBlk_med',\n",
       "       'team1_WDR_med', 'team1_WEFG%_med', 'team1_WEff_med', 'team1_WFGA2_med',\n",
       "       'team1_WFGA3_med', 'team1_WFGA_med', 'team1_WFGM2_med',\n",
       "       'team1_WFGM3_med', 'team1_WFGM_med', 'team1_WFT%_med', 'team1_WFTA_med',\n",
       "       'team1_WFTM_med', 'team1_WOR_med', 'team1_WPF_med', 'team1_WPIE_med',\n",
       "       'team1_WPossession_med', 'team1_WREB%_med', 'team1_WScore_med',\n",
       "       'team1_WStl_med', 'team1_WTOR_med', 'team1losses_season', 'team1seed',\n",
       "       'team1wins_season', 'team2', 'team2_LAst_med', 'team2_LBlk_med',\n",
       "       'team2_LDR_med', 'team2_LEFG%_med', 'team2_LEff_med', 'team2_LFGA2_med',\n",
       "       'team2_LFGA3_med', 'team2_LFGA_med', 'team2_LFGM2_med',\n",
       "       'team2_LFGM3_med', 'team2_LFGM_med', 'team2_LFT%_med', 'team2_LFTA_med',\n",
       "       'team2_LFTM_med', 'team2_LOR_med', 'team2_LPF_med', 'team2_LPIE_med',\n",
       "       'team2_LPossession_med', 'team2_LREB%_med', 'team2_LScore_med',\n",
       "       'team2_LStl_med', 'team2_LTOR_med', 'team2_WAst_med', 'team2_WBlk_med',\n",
       "       'team2_WDR_med', 'team2_WEFG%_med', 'team2_WEff_med', 'team2_WFGA2_med',\n",
       "       'team2_WFGA3_med', 'team2_WFGA_med', 'team2_WFGM2_med',\n",
       "       'team2_WFGM3_med', 'team2_WFGM_med', 'team2_WFT%_med', 'team2_WFTA_med',\n",
       "       'team2_WFTM_med', 'team2_WOR_med', 'team2_WPF_med', 'team2_WPIE_med',\n",
       "       'team2_WPossession_med', 'team2_WREB%_med', 'team2_WScore_med',\n",
       "       'team2_WStl_med', 'team2_WTOR_med', 'team2losses_season', 'team2seed',\n",
       "       'team2wins_season', 'LAst_med_diff', 'LBlk_med_diff', 'LDR_med_diff',\n",
       "       'LEFG%_med_diff', 'LEFF_med_diff', 'LFGA2_med_diff', 'LFGA3_med_diff',\n",
       "       'LFGA_med_diff', 'LFGM3_med_diff', 'LFGM_med_diff', 'LFTA_med_diff',\n",
       "       'LFT%_med_diff', 'LFTM_med_diff', 'LOR_med_diff', 'LPF_med_diff',\n",
       "       'LPIE_med_diff', 'LPosession_med_diff', 'LREB%_med_diff',\n",
       "       'LScore_med_diff', 'LStl_med_diff', 'LTOR_med_diff', 'WAst_med_diff',\n",
       "       'WBLK_med_diff', 'WDR_med_diff', 'WEFG%_med_diff', 'WEff_med_diff',\n",
       "       'WFGA2_med_diff', 'WFGA3_med_diff', 'WFGA_med_diff', 'WFGM2_med_diff',\n",
       "       'WFGM3_med_diff', 'WFGM_med_diff', 'WTF%_med_diff', 'WFTA_med_diff',\n",
       "       'WFTM_med_diff', 'WOR_med_diff', 'WPF_med_diff', 'WPIE_med_diff',\n",
       "       'WPossession_med_diff', 'WREB%_med_diff', 'WScore_med_diff',\n",
       "       'WStl_med_diff', 'team1_coach', 'team1_seasoned', 'team2_coach',\n",
       "       'team2_seasoned'],\n",
       "      dtype='object')"
      ]
     },
     "execution_count": 20,
     "metadata": {},
     "output_type": "execute_result"
    }
   ],
   "source": [
    "feature_drop = [col for col in not_test if col != 'Won']\n",
    "train.drop(feature_drop, axis = 1, inplace = True)\n",
    "train.columns"
   ]
  },
  {
   "cell_type": "code",
   "execution_count": 21,
   "metadata": {},
   "outputs": [
    {
     "name": "stdout",
     "output_type": "stream",
     "text": [
      "[]\n",
      "['Won']\n"
     ]
    }
   ],
   "source": [
    "#not in train\n",
    "not_train = [col for col in test.columns if col not in train.columns]\n",
    "#not in test\n",
    "not_test = [col for col in train.columns if col not in test.columns]\n",
    "\n",
    "print(not_train)\n",
    "print(not_test)"
   ]
  },
  {
   "cell_type": "code",
   "execution_count": 22,
   "metadata": {},
   "outputs": [
    {
     "data": {
      "text/plain": [
       "Index([], dtype='object')"
      ]
     },
     "execution_count": 22,
     "metadata": {},
     "output_type": "execute_result"
    }
   ],
   "source": [
    "train.loc[:, ~train.columns.isin(test.columns)].columns\n",
    "test.loc[:, ~test.columns.isin(train.columns)].columns"
   ]
  },
  {
   "cell_type": "markdown",
   "metadata": {},
   "source": [
    "### Sort it so that they features are the same"
   ]
  },
  {
   "cell_type": "code",
   "execution_count": 23,
   "metadata": {
    "collapsed": true
   },
   "outputs": [],
   "source": [
    "train = train[sorted(train.columns)]"
   ]
  },
  {
   "cell_type": "code",
   "execution_count": 24,
   "metadata": {
    "collapsed": true
   },
   "outputs": [],
   "source": [
    "test = test[sorted(test.columns)]"
   ]
  },
  {
   "cell_type": "code",
   "execution_count": 25,
   "metadata": {},
   "outputs": [
    {
     "data": {
      "text/html": [
       "<div>\n",
       "<style scoped>\n",
       "    .dataframe tbody tr th:only-of-type {\n",
       "        vertical-align: middle;\n",
       "    }\n",
       "\n",
       "    .dataframe tbody tr th {\n",
       "        vertical-align: top;\n",
       "    }\n",
       "\n",
       "    .dataframe thead th {\n",
       "        text-align: right;\n",
       "    }\n",
       "</style>\n",
       "<table border=\"1\" class=\"dataframe\">\n",
       "  <thead>\n",
       "    <tr style=\"text-align: right;\">\n",
       "      <th></th>\n",
       "      <th>LAst_med_diff</th>\n",
       "      <th>LBlk_med_diff</th>\n",
       "      <th>LDR_med_diff</th>\n",
       "      <th>LEFF_med_diff</th>\n",
       "      <th>LEFG%_med_diff</th>\n",
       "      <th>LFGA2_med_diff</th>\n",
       "      <th>LFGA3_med_diff</th>\n",
       "      <th>LFGA_med_diff</th>\n",
       "      <th>LFGM3_med_diff</th>\n",
       "      <th>LFGM_med_diff</th>\n",
       "      <th>...</th>\n",
       "      <th>team2_WPossession_med</th>\n",
       "      <th>team2_WREB%_med</th>\n",
       "      <th>team2_WScore_med</th>\n",
       "      <th>team2_WStl_med</th>\n",
       "      <th>team2_WTOR_med</th>\n",
       "      <th>team2_coach</th>\n",
       "      <th>team2_seasoned</th>\n",
       "      <th>team2losses_season</th>\n",
       "      <th>team2seed</th>\n",
       "      <th>team2wins_season</th>\n",
       "    </tr>\n",
       "  </thead>\n",
       "  <tbody>\n",
       "    <tr>\n",
       "      <th>0</th>\n",
       "      <td>-1.0</td>\n",
       "      <td>4.0</td>\n",
       "      <td>-2.5</td>\n",
       "      <td>-0.771310</td>\n",
       "      <td>0.009883</td>\n",
       "      <td>2.0</td>\n",
       "      <td>-0.5</td>\n",
       "      <td>-2.5</td>\n",
       "      <td>0.0</td>\n",
       "      <td>-1.0</td>\n",
       "      <td>...</td>\n",
       "      <td>68.64</td>\n",
       "      <td>0.350000</td>\n",
       "      <td>80.0</td>\n",
       "      <td>4.0</td>\n",
       "      <td>0.161186</td>\n",
       "      <td>bob_mckillop</td>\n",
       "      <td>1</td>\n",
       "      <td>11</td>\n",
       "      <td>15</td>\n",
       "      <td>17</td>\n",
       "    </tr>\n",
       "    <tr>\n",
       "      <th>1</th>\n",
       "      <td>1.0</td>\n",
       "      <td>-4.0</td>\n",
       "      <td>2.5</td>\n",
       "      <td>0.771310</td>\n",
       "      <td>-0.009883</td>\n",
       "      <td>-2.0</td>\n",
       "      <td>0.5</td>\n",
       "      <td>2.5</td>\n",
       "      <td>0.0</td>\n",
       "      <td>1.0</td>\n",
       "      <td>...</td>\n",
       "      <td>69.88</td>\n",
       "      <td>0.361702</td>\n",
       "      <td>77.0</td>\n",
       "      <td>10.0</td>\n",
       "      <td>0.181869</td>\n",
       "      <td>jim_boeheim</td>\n",
       "      <td>1</td>\n",
       "      <td>12</td>\n",
       "      <td>5</td>\n",
       "      <td>23</td>\n",
       "    </tr>\n",
       "    <tr>\n",
       "      <th>2</th>\n",
       "      <td>-2.0</td>\n",
       "      <td>5.0</td>\n",
       "      <td>1.0</td>\n",
       "      <td>1.712158</td>\n",
       "      <td>0.047650</td>\n",
       "      <td>2.0</td>\n",
       "      <td>-1.0</td>\n",
       "      <td>-1.0</td>\n",
       "      <td>0.5</td>\n",
       "      <td>2.5</td>\n",
       "      <td>...</td>\n",
       "      <td>68.64</td>\n",
       "      <td>0.350000</td>\n",
       "      <td>80.0</td>\n",
       "      <td>4.0</td>\n",
       "      <td>0.161186</td>\n",
       "      <td>bob_mckillop</td>\n",
       "      <td>1</td>\n",
       "      <td>11</td>\n",
       "      <td>15</td>\n",
       "      <td>17</td>\n",
       "    </tr>\n",
       "    <tr>\n",
       "      <th>3</th>\n",
       "      <td>2.0</td>\n",
       "      <td>-5.0</td>\n",
       "      <td>-1.0</td>\n",
       "      <td>-1.712158</td>\n",
       "      <td>-0.047650</td>\n",
       "      <td>-2.0</td>\n",
       "      <td>1.0</td>\n",
       "      <td>1.0</td>\n",
       "      <td>-0.5</td>\n",
       "      <td>-2.5</td>\n",
       "      <td>...</td>\n",
       "      <td>69.30</td>\n",
       "      <td>0.311422</td>\n",
       "      <td>80.5</td>\n",
       "      <td>9.0</td>\n",
       "      <td>0.166833</td>\n",
       "      <td>mike_krzyzewski</td>\n",
       "      <td>1</td>\n",
       "      <td>4</td>\n",
       "      <td>1</td>\n",
       "      <td>32</td>\n",
       "    </tr>\n",
       "    <tr>\n",
       "      <th>4</th>\n",
       "      <td>1.0</td>\n",
       "      <td>3.0</td>\n",
       "      <td>-1.0</td>\n",
       "      <td>-0.547765</td>\n",
       "      <td>0.020713</td>\n",
       "      <td>-2.5</td>\n",
       "      <td>-1.0</td>\n",
       "      <td>-5.5</td>\n",
       "      <td>1.0</td>\n",
       "      <td>-2.5</td>\n",
       "      <td>...</td>\n",
       "      <td>68.64</td>\n",
       "      <td>0.350000</td>\n",
       "      <td>80.0</td>\n",
       "      <td>4.0</td>\n",
       "      <td>0.161186</td>\n",
       "      <td>bob_mckillop</td>\n",
       "      <td>1</td>\n",
       "      <td>11</td>\n",
       "      <td>15</td>\n",
       "      <td>17</td>\n",
       "    </tr>\n",
       "  </tbody>\n",
       "</table>\n",
       "<p>5 rows × 145 columns</p>\n",
       "</div>"
      ],
      "text/plain": [
       "   LAst_med_diff  LBlk_med_diff  LDR_med_diff  LEFF_med_diff  LEFG%_med_diff  \\\n",
       "0           -1.0            4.0          -2.5      -0.771310        0.009883   \n",
       "1            1.0           -4.0           2.5       0.771310       -0.009883   \n",
       "2           -2.0            5.0           1.0       1.712158        0.047650   \n",
       "3            2.0           -5.0          -1.0      -1.712158       -0.047650   \n",
       "4            1.0            3.0          -1.0      -0.547765        0.020713   \n",
       "\n",
       "   LFGA2_med_diff  LFGA3_med_diff  LFGA_med_diff  LFGM3_med_diff  \\\n",
       "0             2.0            -0.5           -2.5             0.0   \n",
       "1            -2.0             0.5            2.5             0.0   \n",
       "2             2.0            -1.0           -1.0             0.5   \n",
       "3            -2.0             1.0            1.0            -0.5   \n",
       "4            -2.5            -1.0           -5.5             1.0   \n",
       "\n",
       "   LFGM_med_diff        ...         team2_WPossession_med  team2_WREB%_med  \\\n",
       "0           -1.0        ...                         68.64         0.350000   \n",
       "1            1.0        ...                         69.88         0.361702   \n",
       "2            2.5        ...                         68.64         0.350000   \n",
       "3           -2.5        ...                         69.30         0.311422   \n",
       "4           -2.5        ...                         68.64         0.350000   \n",
       "\n",
       "   team2_WScore_med  team2_WStl_med  team2_WTOR_med      team2_coach  \\\n",
       "0              80.0             4.0        0.161186     bob_mckillop   \n",
       "1              77.0            10.0        0.181869      jim_boeheim   \n",
       "2              80.0             4.0        0.161186     bob_mckillop   \n",
       "3              80.5             9.0        0.166833  mike_krzyzewski   \n",
       "4              80.0             4.0        0.161186     bob_mckillop   \n",
       "\n",
       "   team2_seasoned  team2losses_season  team2seed  team2wins_season  \n",
       "0               1                  11         15                17  \n",
       "1               1                  12          5                23  \n",
       "2               1                  11         15                17  \n",
       "3               1                   4          1                32  \n",
       "4               1                  11         15                17  \n",
       "\n",
       "[5 rows x 145 columns]"
      ]
     },
     "execution_count": 25,
     "metadata": {},
     "output_type": "execute_result"
    }
   ],
   "source": [
    "train.head()"
   ]
  },
  {
   "cell_type": "code",
   "execution_count": 26,
   "metadata": {},
   "outputs": [
    {
     "data": {
      "text/html": [
       "<div>\n",
       "<style scoped>\n",
       "    .dataframe tbody tr th:only-of-type {\n",
       "        vertical-align: middle;\n",
       "    }\n",
       "\n",
       "    .dataframe tbody tr th {\n",
       "        vertical-align: top;\n",
       "    }\n",
       "\n",
       "    .dataframe thead th {\n",
       "        text-align: right;\n",
       "    }\n",
       "</style>\n",
       "<table border=\"1\" class=\"dataframe\">\n",
       "  <thead>\n",
       "    <tr style=\"text-align: right;\">\n",
       "      <th></th>\n",
       "      <th>LAst_med_diff</th>\n",
       "      <th>LBlk_med_diff</th>\n",
       "      <th>LDR_med_diff</th>\n",
       "      <th>LEFF_med_diff</th>\n",
       "      <th>LEFG%_med_diff</th>\n",
       "      <th>LFGA2_med_diff</th>\n",
       "      <th>LFGA3_med_diff</th>\n",
       "      <th>LFGA_med_diff</th>\n",
       "      <th>LFGM3_med_diff</th>\n",
       "      <th>LFGM_med_diff</th>\n",
       "      <th>...</th>\n",
       "      <th>team2_WPossession_med</th>\n",
       "      <th>team2_WREB%_med</th>\n",
       "      <th>team2_WScore_med</th>\n",
       "      <th>team2_WStl_med</th>\n",
       "      <th>team2_WTOR_med</th>\n",
       "      <th>team2_coach</th>\n",
       "      <th>team2_seasoned</th>\n",
       "      <th>team2losses_season</th>\n",
       "      <th>team2seed</th>\n",
       "      <th>team2wins_season</th>\n",
       "    </tr>\n",
       "  </thead>\n",
       "  <tbody>\n",
       "    <tr>\n",
       "      <th>0</th>\n",
       "      <td>-2.0</td>\n",
       "      <td>1.0</td>\n",
       "      <td>-3.0</td>\n",
       "      <td>-8.865596</td>\n",
       "      <td>-0.048387</td>\n",
       "      <td>-10.0</td>\n",
       "      <td>4.0</td>\n",
       "      <td>-6.0</td>\n",
       "      <td>0.0</td>\n",
       "      <td>-7.0</td>\n",
       "      <td>...</td>\n",
       "      <td>69.40</td>\n",
       "      <td>0.341463</td>\n",
       "      <td>81.0</td>\n",
       "      <td>4.0</td>\n",
       "      <td>0.160443</td>\n",
       "      <td>sean_miller</td>\n",
       "      <td>1</td>\n",
       "      <td>7</td>\n",
       "      <td>4</td>\n",
       "      <td>27</td>\n",
       "    </tr>\n",
       "    <tr>\n",
       "      <th>1</th>\n",
       "      <td>-2.0</td>\n",
       "      <td>2.0</td>\n",
       "      <td>-2.0</td>\n",
       "      <td>-3.288852</td>\n",
       "      <td>-0.039128</td>\n",
       "      <td>-3.0</td>\n",
       "      <td>-3.0</td>\n",
       "      <td>-7.0</td>\n",
       "      <td>-4.0</td>\n",
       "      <td>-4.0</td>\n",
       "      <td>...</td>\n",
       "      <td>72.58</td>\n",
       "      <td>0.280160</td>\n",
       "      <td>88.0</td>\n",
       "      <td>7.5</td>\n",
       "      <td>0.136293</td>\n",
       "      <td>bobby_hurley</td>\n",
       "      <td>1</td>\n",
       "      <td>11</td>\n",
       "      <td>11</td>\n",
       "      <td>20</td>\n",
       "    </tr>\n",
       "    <tr>\n",
       "      <th>2</th>\n",
       "      <td>0.0</td>\n",
       "      <td>1.0</td>\n",
       "      <td>1.0</td>\n",
       "      <td>5.576743</td>\n",
       "      <td>0.009259</td>\n",
       "      <td>7.0</td>\n",
       "      <td>-7.0</td>\n",
       "      <td>-1.0</td>\n",
       "      <td>-4.0</td>\n",
       "      <td>3.0</td>\n",
       "      <td>...</td>\n",
       "      <td>72.58</td>\n",
       "      <td>0.280160</td>\n",
       "      <td>88.0</td>\n",
       "      <td>7.5</td>\n",
       "      <td>0.136293</td>\n",
       "      <td>bobby_hurley</td>\n",
       "      <td>1</td>\n",
       "      <td>11</td>\n",
       "      <td>11</td>\n",
       "      <td>20</td>\n",
       "    </tr>\n",
       "    <tr>\n",
       "      <th>3</th>\n",
       "      <td>-1.0</td>\n",
       "      <td>1.0</td>\n",
       "      <td>0.0</td>\n",
       "      <td>-3.946355</td>\n",
       "      <td>-0.023797</td>\n",
       "      <td>-7.0</td>\n",
       "      <td>3.0</td>\n",
       "      <td>-5.0</td>\n",
       "      <td>-1.0</td>\n",
       "      <td>-3.0</td>\n",
       "      <td>...</td>\n",
       "      <td>72.92</td>\n",
       "      <td>0.281250</td>\n",
       "      <td>91.0</td>\n",
       "      <td>7.0</td>\n",
       "      <td>0.132212</td>\n",
       "      <td>mike_anderson</td>\n",
       "      <td>1</td>\n",
       "      <td>11</td>\n",
       "      <td>7</td>\n",
       "      <td>23</td>\n",
       "    </tr>\n",
       "    <tr>\n",
       "      <th>4</th>\n",
       "      <td>1.0</td>\n",
       "      <td>0.0</td>\n",
       "      <td>3.0</td>\n",
       "      <td>4.919241</td>\n",
       "      <td>0.024590</td>\n",
       "      <td>3.0</td>\n",
       "      <td>-1.0</td>\n",
       "      <td>1.0</td>\n",
       "      <td>-1.0</td>\n",
       "      <td>4.0</td>\n",
       "      <td>...</td>\n",
       "      <td>72.92</td>\n",
       "      <td>0.281250</td>\n",
       "      <td>91.0</td>\n",
       "      <td>7.0</td>\n",
       "      <td>0.132212</td>\n",
       "      <td>mike_anderson</td>\n",
       "      <td>1</td>\n",
       "      <td>11</td>\n",
       "      <td>7</td>\n",
       "      <td>23</td>\n",
       "    </tr>\n",
       "  </tbody>\n",
       "</table>\n",
       "<p>5 rows × 144 columns</p>\n",
       "</div>"
      ],
      "text/plain": [
       "   LAst_med_diff  LBlk_med_diff  LDR_med_diff  LEFF_med_diff  LEFG%_med_diff  \\\n",
       "0           -2.0            1.0          -3.0      -8.865596       -0.048387   \n",
       "1           -2.0            2.0          -2.0      -3.288852       -0.039128   \n",
       "2            0.0            1.0           1.0       5.576743        0.009259   \n",
       "3           -1.0            1.0           0.0      -3.946355       -0.023797   \n",
       "4            1.0            0.0           3.0       4.919241        0.024590   \n",
       "\n",
       "   LFGA2_med_diff  LFGA3_med_diff  LFGA_med_diff  LFGM3_med_diff  \\\n",
       "0           -10.0             4.0           -6.0             0.0   \n",
       "1            -3.0            -3.0           -7.0            -4.0   \n",
       "2             7.0            -7.0           -1.0            -4.0   \n",
       "3            -7.0             3.0           -5.0            -1.0   \n",
       "4             3.0            -1.0            1.0            -1.0   \n",
       "\n",
       "   LFGM_med_diff        ...         team2_WPossession_med  team2_WREB%_med  \\\n",
       "0           -7.0        ...                         69.40         0.341463   \n",
       "1           -4.0        ...                         72.58         0.280160   \n",
       "2            3.0        ...                         72.58         0.280160   \n",
       "3           -3.0        ...                         72.92         0.281250   \n",
       "4            4.0        ...                         72.92         0.281250   \n",
       "\n",
       "   team2_WScore_med  team2_WStl_med  team2_WTOR_med    team2_coach  \\\n",
       "0              81.0             4.0        0.160443    sean_miller   \n",
       "1              88.0             7.5        0.136293   bobby_hurley   \n",
       "2              88.0             7.5        0.136293   bobby_hurley   \n",
       "3              91.0             7.0        0.132212  mike_anderson   \n",
       "4              91.0             7.0        0.132212  mike_anderson   \n",
       "\n",
       "   team2_seasoned  team2losses_season  team2seed  team2wins_season  \n",
       "0               1                   7          4                27  \n",
       "1               1                  11         11                20  \n",
       "2               1                  11         11                20  \n",
       "3               1                  11          7                23  \n",
       "4               1                  11          7                23  \n",
       "\n",
       "[5 rows x 144 columns]"
      ]
     },
     "execution_count": 26,
     "metadata": {},
     "output_type": "execute_result"
    }
   ],
   "source": [
    "test.head()"
   ]
  },
  {
   "cell_type": "code",
   "execution_count": 27,
   "metadata": {},
   "outputs": [
    {
     "data": {
      "text/plain": [
       "Index(['LAst_med_diff', 'LBlk_med_diff', 'LDR_med_diff', 'LEFF_med_diff',\n",
       "       'LEFG%_med_diff', 'LFGA2_med_diff', 'LFGA3_med_diff', 'LFGA_med_diff',\n",
       "       'LFGM3_med_diff', 'LFGM_med_diff', 'LFT%_med_diff', 'LFTA_med_diff',\n",
       "       'LFTM_med_diff', 'LOR_med_diff', 'LPF_med_diff', 'LPIE_med_diff',\n",
       "       'LPosession_med_diff', 'LREB%_med_diff', 'LScore_med_diff',\n",
       "       'LStl_med_diff', 'LTOR_med_diff', 'Season', 'WAst_med_diff',\n",
       "       'WBLK_med_diff', 'WDR_med_diff', 'WEFG%_med_diff', 'WEff_med_diff',\n",
       "       'WFGA2_med_diff', 'WFGA3_med_diff', 'WFGA_med_diff', 'WFGM2_med_diff',\n",
       "       'WFGM3_med_diff', 'WFGM_med_diff', 'WFTA_med_diff', 'WFTM_med_diff',\n",
       "       'WLoc', 'WOR_med_diff', 'WPF_med_diff', 'WPIE_med_diff',\n",
       "       'WPossession_med_diff', 'WREB%_med_diff', 'WScore_med_diff',\n",
       "       'WStl_med_diff', 'WTF%_med_diff', 'Won', 'team1', 'team1_LAst_med',\n",
       "       'team1_LBlk_med', 'team1_LDR_med', 'team1_LEFG%_med', 'team1_LEff_med',\n",
       "       'team1_LFGA2_med', 'team1_LFGA3_med', 'team1_LFGA_med',\n",
       "       'team1_LFGM2_med', 'team1_LFGM3_med', 'team1_LFGM_med',\n",
       "       'team1_LFT%_med', 'team1_LFTA_med', 'team1_LFTM_med', 'team1_LOR_med',\n",
       "       'team1_LPF_med', 'team1_LPIE_med', 'team1_LPossession_med',\n",
       "       'team1_LREB%_med', 'team1_LScore_med', 'team1_LStl_med',\n",
       "       'team1_LTOR_med', 'team1_WAst_med', 'team1_WBlk_med', 'team1_WDR_med',\n",
       "       'team1_WEFG%_med', 'team1_WEff_med', 'team1_WFGA2_med',\n",
       "       'team1_WFGA3_med', 'team1_WFGA_med', 'team1_WFGM2_med',\n",
       "       'team1_WFGM3_med', 'team1_WFGM_med', 'team1_WFT%_med', 'team1_WFTA_med',\n",
       "       'team1_WFTM_med', 'team1_WOR_med', 'team1_WPF_med', 'team1_WPIE_med',\n",
       "       'team1_WPossession_med', 'team1_WREB%_med', 'team1_WScore_med',\n",
       "       'team1_WStl_med', 'team1_WTOR_med', 'team1_coach', 'team1_seasoned',\n",
       "       'team1losses_season', 'team1seed', 'team1wins_season', 'team2',\n",
       "       'team2_LAst_med', 'team2_LBlk_med', 'team2_LDR_med', 'team2_LEFG%_med',\n",
       "       'team2_LEff_med', 'team2_LFGA2_med', 'team2_LFGA3_med',\n",
       "       'team2_LFGA_med', 'team2_LFGM2_med', 'team2_LFGM3_med',\n",
       "       'team2_LFGM_med', 'team2_LFT%_med', 'team2_LFTA_med', 'team2_LFTM_med',\n",
       "       'team2_LOR_med', 'team2_LPF_med', 'team2_LPIE_med',\n",
       "       'team2_LPossession_med', 'team2_LREB%_med', 'team2_LScore_med',\n",
       "       'team2_LStl_med', 'team2_LTOR_med', 'team2_WAst_med', 'team2_WBlk_med',\n",
       "       'team2_WDR_med', 'team2_WEFG%_med', 'team2_WEff_med', 'team2_WFGA2_med',\n",
       "       'team2_WFGA3_med', 'team2_WFGA_med', 'team2_WFGM2_med',\n",
       "       'team2_WFGM3_med', 'team2_WFGM_med', 'team2_WFT%_med', 'team2_WFTA_med',\n",
       "       'team2_WFTM_med', 'team2_WOR_med', 'team2_WPF_med', 'team2_WPIE_med',\n",
       "       'team2_WPossession_med', 'team2_WREB%_med', 'team2_WScore_med',\n",
       "       'team2_WStl_med', 'team2_WTOR_med', 'team2_coach', 'team2_seasoned',\n",
       "       'team2losses_season', 'team2seed', 'team2wins_season'],\n",
       "      dtype='object')"
      ]
     },
     "execution_count": 27,
     "metadata": {},
     "output_type": "execute_result"
    }
   ],
   "source": [
    "train.columns"
   ]
  },
  {
   "cell_type": "code",
   "execution_count": 28,
   "metadata": {
    "collapsed": true
   },
   "outputs": [],
   "source": [
    "train.drop(['team1_LAst_med', 'team1_LBlk_med', 'team1_LDR_med', 'team1_LEFG%_med', 'team1_LEff_med',\\\n",
    "       'team1_LFGA2_med', 'team1_LFGA3_med', 'team1_LFGA_med',\\\n",
    "       'team1_LFGM2_med', 'team1_LFGM3_med', 'team1_LFGM_med',\\\n",
    "       'team1_LFT%_med', 'team1_LFTA_med', 'team1_LFTM_med', 'team1_LOR_med',\\\n",
    "       'team1_LPF_med', 'team1_LPIE_med', 'team1_LPossession_med',\\\n",
    "       'team1_LREB%_med', 'team1_LScore_med', 'team1_LStl_med',\\\n",
    "       'team1_LTOR_med', 'team1_WAst_med', 'team1_WBlk_med', 'team1_WDR_med',\\\n",
    "       'team1_WEFG%_med', 'team1_WEff_med', 'team1_WFGA2_med',\\\n",
    "       'team1_WFGA3_med', 'team1_WFGA_med', 'team1_WFGM2_med',\\\n",
    "       'team1_WFGM3_med', 'team1_WFGM_med', 'team1_WFT%_med', 'team1_WFTA_med',\\\n",
    "       'team1_WFTM_med', 'team1_WOR_med', 'team1_WPF_med', 'team1_WPIE_med',\\\n",
    "       'team1_WPossession_med', 'team1_WREB%_med', 'team1_WScore_med',\\\n",
    "       'team1_WStl_med', 'team1_WTOR_med','team2_LAst_med', 'team2_LBlk_med', 'team2_LDR_med', 'team2_LEFG%_med',\\\n",
    "       'team2_LEff_med', 'team2_LFGA2_med', 'team2_LFGA3_med',\\\n",
    "       'team2_LFGA_med', 'team2_LFGM2_med', 'team2_LFGM3_med',\\\n",
    "       'team2_LFGM_med', 'team2_LFT%_med', 'team2_LFTA_med', 'team2_LFTM_med',\\\n",
    "       'team2_LOR_med', 'team2_LPF_med', 'team2_LPIE_med',\\\n",
    "       'team2_LPossession_med', 'team2_LREB%_med', 'team2_LScore_med',\\\n",
    "       'team2_LStl_med', 'team2_LTOR_med', 'team2_WAst_med', 'team2_WBlk_med',\\\n",
    "       'team2_WDR_med', 'team2_WEFG%_med', 'team2_WEff_med', 'team2_WFGA2_med',\\\n",
    "       'team2_WFGA3_med', 'team2_WFGA_med', 'team2_WFGM2_med',\\\n",
    "       'team2_WFGM3_med', 'team2_WFGM_med', 'team2_WFT%_med', 'team2_WFTA_med',\\\n",
    "       'team2_WFTM_med', 'team2_WOR_med', 'team2_WPF_med', 'team2_WPIE_med',\\\n",
    "       'team2_WPossession_med', 'team2_WREB%_med', 'team2_WScore_med',\\\n",
    "       'team2_WStl_med', 'team2_WTOR_med'], axis = 1, inplace = True)"
   ]
  },
  {
   "cell_type": "code",
   "execution_count": 29,
   "metadata": {
    "collapsed": true
   },
   "outputs": [],
   "source": [
    "test.drop(['team1_LAst_med','team1_LBlk_med', 'team1_LDR_med', 'team1_LEFG%_med', 'team1_LEff_med',\\\n",
    "       'team1_LFGA2_med', 'team1_LFGA3_med', 'team1_LFGA_med',\\\n",
    "       'team1_LFGM2_med', 'team1_LFGM3_med', 'team1_LFGM_med',\\\n",
    "       'team1_LFT%_med', 'team1_LFTA_med', 'team1_LFTM_med', 'team1_LOR_med',\\\n",
    "       'team1_LPF_med', 'team1_LPIE_med', 'team1_LPossession_med',\\\n",
    "       'team1_LREB%_med', 'team1_LScore_med', 'team1_LStl_med',\\\n",
    "       'team1_LTOR_med', 'team1_WAst_med', 'team1_WBlk_med', 'team1_WDR_med',\\\n",
    "       'team1_WEFG%_med', 'team1_WEff_med', 'team1_WFGA2_med',\\\n",
    "       'team1_WFGA3_med', 'team1_WFGA_med', 'team1_WFGM2_med',\\\n",
    "       'team1_WFGM3_med', 'team1_WFGM_med', 'team1_WFT%_med', 'team1_WFTA_med',\\\n",
    "       'team1_WFTM_med', 'team1_WOR_med', 'team1_WPF_med', 'team1_WPIE_med',\\\n",
    "       'team1_WPossession_med', 'team1_WREB%_med', 'team1_WScore_med',\\\n",
    "       'team1_WStl_med', 'team1_WTOR_med','team2_LAst_med', 'team2_LBlk_med', 'team2_LDR_med', 'team2_LEFG%_med',\\\n",
    "       'team2_LEff_med', 'team2_LFGA2_med', 'team2_LFGA3_med',\\\n",
    "       'team2_LFGA_med', 'team2_LFGM2_med', 'team2_LFGM3_med',\\\n",
    "       'team2_LFGM_med', 'team2_LFT%_med', 'team2_LFTA_med', 'team2_LFTM_med',\\\n",
    "       'team2_LOR_med', 'team2_LPF_med', 'team2_LPIE_med',\\\n",
    "       'team2_LPossession_med', 'team2_LREB%_med', 'team2_LScore_med',\\\n",
    "       'team2_LStl_med', 'team2_LTOR_med', 'team2_WAst_med', 'team2_WBlk_med',\\\n",
    "       'team2_WDR_med', 'team2_WEFG%_med', 'team2_WEff_med', 'team2_WFGA2_med',\\\n",
    "       'team2_WFGA3_med', 'team2_WFGA_med', 'team2_WFGM2_med',\\\n",
    "       'team2_WFGM3_med', 'team2_WFGM_med', 'team2_WFT%_med', 'team2_WFTA_med',\\\n",
    "       'team2_WFTM_med', 'team2_WOR_med', 'team2_WPF_med', 'team2_WPIE_med',\\\n",
    "       'team2_WPossession_med', 'team2_WREB%_med', 'team2_WScore_med',\\\n",
    "       'team2_WStl_med', 'team2_WTOR_med'], axis = 1, inplace = True)"
   ]
  },
  {
   "cell_type": "markdown",
   "metadata": {},
   "source": [
    "### Drop unncessary features"
   ]
  },
  {
   "cell_type": "code",
   "execution_count": 30,
   "metadata": {
    "collapsed": true
   },
   "outputs": [],
   "source": [
    "train_drop = train.drop(['Season', 'team1', 'team2', 'team1_coach', 'team2_coach'], axis = 1)\n",
    "test_drop = test.drop(['Season', 'team1', 'team2', 'team1_coach', 'team2_coach'], axis = 1)"
   ]
  },
  {
   "cell_type": "markdown",
   "metadata": {},
   "source": [
    "## Train and test and model"
   ]
  },
  {
   "cell_type": "code",
   "execution_count": 31,
   "metadata": {
    "collapsed": true
   },
   "outputs": [],
   "source": [
    "features = [col for col in train_drop.columns if col != 'Won']\n",
    "X = train_drop[features]\n",
    "y = train_drop['Won']"
   ]
  },
  {
   "cell_type": "code",
   "execution_count": 32,
   "metadata": {
    "collapsed": true
   },
   "outputs": [],
   "source": [
    "X_train, X_holdout, y_train, y_holdout = train_test_split(X, y, random_state = 23)"
   ]
  },
  {
   "cell_type": "code",
   "execution_count": 33,
   "metadata": {
    "collapsed": true
   },
   "outputs": [],
   "source": [
    "ss = StandardScaler()\n",
    "X_sc_train = ss.fit_transform(X_train)\n",
    "X_sc_holdout = ss.transform(X_holdout)"
   ]
  },
  {
   "cell_type": "markdown",
   "metadata": {},
   "source": [
    "### KNeighbors Classifier"
   ]
  },
  {
   "cell_type": "code",
   "execution_count": 34,
   "metadata": {},
   "outputs": [
    {
     "name": "stdout",
     "output_type": "stream",
     "text": [
      "Fitting 5 folds for each of 10 candidates, totalling 50 fits\n"
     ]
    },
    {
     "name": "stderr",
     "output_type": "stream",
     "text": [
      "[Parallel(n_jobs=-1)]: Done  42 tasks      | elapsed:  2.7min\n"
     ]
    },
    {
     "name": "stdout",
     "output_type": "stream",
     "text": [
      "0.6344827586206897\n"
     ]
    },
    {
     "name": "stderr",
     "output_type": "stream",
     "text": [
      "[Parallel(n_jobs=-1)]: Done  50 out of  50 | elapsed:  3.1min finished\n"
     ]
    },
    {
     "data": {
      "text/plain": [
       "{'n_neighbors': 26, 'p': 2, 'weights': 'uniform'}"
      ]
     },
     "execution_count": 34,
     "metadata": {},
     "output_type": "execute_result"
    }
   ],
   "source": [
    "knc = KNeighborsClassifier()\n",
    "knc_params = {\n",
    "    'n_neighbors': np.arange(10, 30),\n",
    "    'weights': ['uniform', 'distance'],\n",
    "    'p': [1,2]\n",
    "}\n",
    "\n",
    "gs_knc = RandomizedSearchCV(knc, knc_params, cv = 5, n_jobs = -1, verbose = 1)\n",
    "gs_knc.fit(X_sc_train, y_train)\n",
    "print(gs_knc.best_score_)\n",
    "gs_knc.best_params_"
   ]
  },
  {
   "cell_type": "code",
   "execution_count": 67,
   "metadata": {
    "collapsed": true
   },
   "outputs": [],
   "source": [
    "with open('knc', 'wb+') as f:\n",
    "    pickle.dump(gs_knc, f)"
   ]
  },
  {
   "cell_type": "markdown",
   "metadata": {},
   "source": [
    "### Logistic Regression"
   ]
  },
  {
   "cell_type": "code",
   "execution_count": 35,
   "metadata": {},
   "outputs": [
    {
     "name": "stdout",
     "output_type": "stream",
     "text": [
      "Fitting 5 folds for each of 20 candidates, totalling 100 fits\n"
     ]
    },
    {
     "name": "stderr",
     "output_type": "stream",
     "text": [
      "[Parallel(n_jobs=-1)]: Done  42 tasks      | elapsed:    5.7s\n"
     ]
    },
    {
     "name": "stdout",
     "output_type": "stream",
     "text": [
      "0.6888106966924701\n"
     ]
    },
    {
     "name": "stderr",
     "output_type": "stream",
     "text": [
      "[Parallel(n_jobs=-1)]: Done 100 out of 100 | elapsed:    7.8s finished\n"
     ]
    },
    {
     "data": {
      "text/plain": [
       "{'C': 0.003, 'penalty': 'l1'}"
      ]
     },
     "execution_count": 35,
     "metadata": {},
     "output_type": "execute_result"
    }
   ],
   "source": [
    "lr = LogisticRegression()\n",
    "lr_params = {\n",
    "    'penalty': ['l1', 'l2'],\n",
    "    'C': np.linspace(.001, .01, 10)\n",
    "}\n",
    "\n",
    "gs_lr = GridSearchCV(lr, lr_params, cv = 5, n_jobs = -1, verbose = 1)\n",
    "gs_lr.fit(X_sc_train, y_train)\n",
    "print(gs_lr.best_score_)\n",
    "gs_lr.best_params_"
   ]
  },
  {
   "cell_type": "code",
   "execution_count": 69,
   "metadata": {
    "collapsed": true
   },
   "outputs": [],
   "source": [
    "with open('lr', 'wb+') as f:\n",
    "    pickle.dump(gs_lr, f)"
   ]
  },
  {
   "cell_type": "markdown",
   "metadata": {},
   "source": [
    "### ExtraTreesClassifier"
   ]
  },
  {
   "cell_type": "code",
   "execution_count": 36,
   "metadata": {},
   "outputs": [
    {
     "name": "stdout",
     "output_type": "stream",
     "text": [
      "Fitting 5 folds for each of 10 candidates, totalling 50 fits\n"
     ]
    },
    {
     "name": "stderr",
     "output_type": "stream",
     "text": [
      "[Parallel(n_jobs=-1)]: Done  42 tasks      | elapsed:    7.7s\n",
      "[Parallel(n_jobs=-1)]: Done  50 out of  50 | elapsed:    8.4s finished\n"
     ]
    },
    {
     "name": "stdout",
     "output_type": "stream",
     "text": [
      "0.6814919071076706\n"
     ]
    },
    {
     "data": {
      "text/plain": [
       "{'criterion': 'gini',\n",
       " 'max_depth': 6,\n",
       " 'max_features': 'auto',\n",
       " 'min_samples_leaf': 6,\n",
       " 'n_estimators': 38}"
      ]
     },
     "execution_count": 36,
     "metadata": {},
     "output_type": "execute_result"
    }
   ],
   "source": [
    "etc = ExtraTreesClassifier()\n",
    "etc_params = {\n",
    "    'n_estimators': np.arange(30, 40),\n",
    "    'criterion': ['gini', 'entropy'],\n",
    "    'max_depth': [3,4,5,6,7,8],\n",
    "    'min_samples_leaf': np.arange(3, 10),\n",
    "    'max_features': ['auto','log2']\n",
    "}\n",
    "\n",
    "gs_etc = RandomizedSearchCV(etc, etc_params, cv = 5, n_jobs = -1, verbose = 1)\n",
    "gs_etc.fit(X_sc_train, y_train)\n",
    "print(gs_etc.best_score_)\n",
    "gs_etc.best_params_"
   ]
  },
  {
   "cell_type": "code",
   "execution_count": 181,
   "metadata": {
    "collapsed": true
   },
   "outputs": [],
   "source": [
    "with open('etc.pkl', 'wb+') as f:\n",
    "    pickle.dump(gs_etc, f)"
   ]
  },
  {
   "cell_type": "markdown",
   "metadata": {},
   "source": [
    "### Gradient Boosting Classifier"
   ]
  },
  {
   "cell_type": "code",
   "execution_count": 37,
   "metadata": {},
   "outputs": [
    {
     "name": "stdout",
     "output_type": "stream",
     "text": [
      "Fitting 5 folds for each of 10 candidates, totalling 50 fits\n"
     ]
    },
    {
     "name": "stderr",
     "output_type": "stream",
     "text": [
      "[Parallel(n_jobs=-1)]: Done  42 tasks      | elapsed:   16.1s\n",
      "[Parallel(n_jobs=-1)]: Done  50 out of  50 | elapsed:   20.1s finished\n"
     ]
    },
    {
     "name": "stdout",
     "output_type": "stream",
     "text": [
      "0.6699507389162561\n"
     ]
    },
    {
     "data": {
      "text/plain": [
       "{'learning_rate': 0.09000000000000001,\n",
       " 'max_depth': 4,\n",
       " 'max_features': 'log2',\n",
       " 'min_samples_leaf': 1,\n",
       " 'n_estimators': 13}"
      ]
     },
     "execution_count": 37,
     "metadata": {},
     "output_type": "execute_result"
    }
   ],
   "source": [
    "gbc = GradientBoostingClassifier()\n",
    "gbc_params = {\n",
    "    'n_estimators': np.arange(10, 21),\n",
    "    'learning_rate': np.linspace(.01, .1, 10),\n",
    "    'max_depth': [None, 3, 4, 5],\n",
    "    'min_samples_leaf': np.arange(1, 3),\n",
    "    'max_features': ['auto','log2']\n",
    "}\n",
    "\n",
    "gs_gbc = RandomizedSearchCV(gbc, gbc_params, cv= 5, n_jobs = -1, verbose = 1)\n",
    "gs_gbc.fit(X_sc_train, y_train)\n",
    "print(gs_gbc.best_score_)\n",
    "gs_gbc.best_params_"
   ]
  },
  {
   "cell_type": "code",
   "execution_count": 75,
   "metadata": {
    "collapsed": true
   },
   "outputs": [],
   "source": [
    "with open('gbc', 'wb+') as f:\n",
    "    pickle.dump(gs_gbc, f)"
   ]
  },
  {
   "cell_type": "markdown",
   "metadata": {},
   "source": [
    "### Adaboost Classifier"
   ]
  },
  {
   "cell_type": "code",
   "execution_count": 38,
   "metadata": {},
   "outputs": [
    {
     "name": "stdout",
     "output_type": "stream",
     "text": [
      "Fitting 5 folds for each of 10 candidates, totalling 50 fits\n"
     ]
    },
    {
     "name": "stderr",
     "output_type": "stream",
     "text": [
      "[Parallel(n_jobs=-1)]: Done  42 tasks      | elapsed:  2.7min\n",
      "[Parallel(n_jobs=-1)]: Done  50 out of  50 | elapsed:  3.1min finished\n"
     ]
    },
    {
     "name": "stdout",
     "output_type": "stream",
     "text": [
      "0.6733286418015482\n"
     ]
    },
    {
     "data": {
      "text/plain": [
       "{'base_estimator__criterion': 'entropy',\n",
       " 'base_estimator__max_depth': 2,\n",
       " 'base_estimator__min_samples_leaf': 1,\n",
       " 'base_estimator__min_samples_split': 4,\n",
       " 'learning_rate': 0.23,\n",
       " 'n_estimators': 32}"
      ]
     },
     "execution_count": 38,
     "metadata": {},
     "output_type": "execute_result"
    }
   ],
   "source": [
    "ada = AdaBoostClassifier(DecisionTreeClassifier())\n",
    "ada_params = {\n",
    "    'base_estimator__criterion': ['gini', 'entropy'],\n",
    "    'base_estimator__max_depth': [None, 2, 4, 6],\n",
    "    'base_estimator__min_samples_leaf': np.arange(1,6),\n",
    "    'base_estimator__min_samples_split': np.arange(2,6),\n",
    "    'n_estimators': np.arange(30,40),\n",
    "    'learning_rate': np.linspace(.01, 1, 10)\n",
    "    \n",
    "}\n",
    "\n",
    "gs_ada = RandomizedSearchCV(ada, ada_params, cv = 5, n_jobs = -1, verbose = 1)\n",
    "gs_ada.fit(X_sc_train, y_train)\n",
    "print(gs_ada.best_score_)\n",
    "gs_ada.best_params_"
   ]
  },
  {
   "cell_type": "code",
   "execution_count": 77,
   "metadata": {
    "collapsed": true
   },
   "outputs": [],
   "source": [
    "with open('ada', 'wb+') as f:\n",
    "    pickle.dump(gs_ada, f)"
   ]
  },
  {
   "cell_type": "markdown",
   "metadata": {},
   "source": [
    "### XGBoost"
   ]
  },
  {
   "cell_type": "code",
   "execution_count": 39,
   "metadata": {},
   "outputs": [
    {
     "name": "stdout",
     "output_type": "stream",
     "text": [
      "Fitting 5 folds for each of 10 candidates, totalling 50 fits\n"
     ]
    },
    {
     "name": "stderr",
     "output_type": "stream",
     "text": [
      "[Parallel(n_jobs=-1)]: Done  42 tasks      | elapsed:   47.1s\n",
      "[Parallel(n_jobs=-1)]: Done  50 out of  50 | elapsed:   58.6s finished\n"
     ]
    },
    {
     "name": "stdout",
     "output_type": "stream",
     "text": [
      "0.6769880365939479\n"
     ]
    },
    {
     "data": {
      "text/plain": [
       "{'learning_rate': 0.008, 'max_depth': 3, 'n_estimators': 95}"
      ]
     },
     "execution_count": 39,
     "metadata": {},
     "output_type": "execute_result"
    }
   ],
   "source": [
    "xgb = XGBClassifier()\n",
    "xgb_params = {\n",
    "    'n_estimators': np.arange(95, 103),\n",
    "    'learning_rate': np.linspace(.001, .01, 10),\n",
    "    'max_depth': np.arange(3, 10)\n",
    "}\n",
    "\n",
    "gs_xgb = RandomizedSearchCV(xgb, xgb_params, cv=5, n_jobs = -1, verbose = 1)\n",
    "gs_xgb.fit(X_sc_train, y_train)\n",
    "print(gs_xgb.best_score_)\n",
    "gs_xgb.best_params_"
   ]
  },
  {
   "cell_type": "code",
   "execution_count": 79,
   "metadata": {
    "collapsed": true
   },
   "outputs": [],
   "source": [
    "with open('xgb', 'wb+') as f:\n",
    "    pickle.dump(gs_xgb, f)"
   ]
  },
  {
   "cell_type": "markdown",
   "metadata": {},
   "source": [
    "### Voting Classifier"
   ]
  },
  {
   "cell_type": "code",
   "execution_count": 40,
   "metadata": {},
   "outputs": [
    {
     "name": "stdout",
     "output_type": "stream",
     "text": [
      "Fitting 5 folds for each of 20 candidates, totalling 100 fits\n"
     ]
    },
    {
     "name": "stderr",
     "output_type": "stream",
     "text": [
      "[Parallel(n_jobs=-1)]: Done  42 tasks      | elapsed:    3.6s\n",
      "[Parallel(n_jobs=-1)]: Done 100 out of 100 | elapsed:    5.7s finished\n"
     ]
    },
    {
     "name": "stdout",
     "output_type": "stream",
     "text": [
      "Fitting 5 folds for each of 10 candidates, totalling 50 fits\n"
     ]
    },
    {
     "name": "stderr",
     "output_type": "stream",
     "text": [
      "[Parallel(n_jobs=-1)]: Done  42 tasks      | elapsed:    6.3s\n",
      "[Parallel(n_jobs=-1)]: Done  50 out of  50 | elapsed:    7.3s finished\n"
     ]
    },
    {
     "name": "stdout",
     "output_type": "stream",
     "text": [
      "Fitting 5 folds for each of 10 candidates, totalling 50 fits\n"
     ]
    },
    {
     "name": "stderr",
     "output_type": "stream",
     "text": [
      "[Parallel(n_jobs=-1)]: Done  42 tasks      | elapsed:   33.9s\n",
      "[Parallel(n_jobs=-1)]: Done  50 out of  50 | elapsed:   36.0s finished\n"
     ]
    },
    {
     "name": "stdout",
     "output_type": "stream",
     "text": [
      "Fitting 5 folds for each of 10 candidates, totalling 50 fits\n"
     ]
    },
    {
     "name": "stderr",
     "output_type": "stream",
     "text": [
      "[Parallel(n_jobs=-1)]: Done  42 tasks      | elapsed:   57.0s\n",
      "[Parallel(n_jobs=-1)]: Done  50 out of  50 | elapsed:  1.1min finished\n"
     ]
    },
    {
     "name": "stdout",
     "output_type": "stream",
     "text": [
      "Fitting 5 folds for each of 10 candidates, totalling 50 fits\n"
     ]
    },
    {
     "name": "stderr",
     "output_type": "stream",
     "text": [
      "[Parallel(n_jobs=-1)]: Done  42 tasks      | elapsed:   53.7s\n",
      "[Parallel(n_jobs=-1)]: Done  50 out of  50 | elapsed:  1.0min finished\n"
     ]
    },
    {
     "data": {
      "text/plain": [
       "VotingClassifier(estimators=[('lr', GridSearchCV(cv=5, error_score='raise',\n",
       "       estimator=LogisticRegression(C=1.0, class_weight=None, dual=False, fit_intercept=True,\n",
       "          intercept_scaling=1, max_iter=100, multi_class='ovr', n_jobs=1,\n",
       "          penalty='l2', random_state=None, solver='liblinear', tol=0.0001...obs', random_state=None, refit=True,\n",
       "          return_train_score='warn', scoring=None, verbose=1))],\n",
       "         flatten_transform=None, n_jobs=1, voting='soft', weights=None)"
      ]
     },
     "execution_count": 40,
     "metadata": {},
     "output_type": "execute_result"
    }
   ],
   "source": [
    "vc = VotingClassifier(estimators=[('lr', gs_lr), ('etc', gs_etc), ('gbc', gs_gbc), ('ada', gs_ada), ('xgb', gs_xgb)]\\\n",
    "                      , voting='soft')\n",
    "\n",
    "vc.fit(X_sc_train, y_train)"
   ]
  },
  {
   "cell_type": "code",
   "execution_count": 180,
   "metadata": {
    "collapsed": true
   },
   "outputs": [],
   "source": [
    "with open('vc.pkl', 'wb+') as f:\n",
    "    pickle.dump(vc, f)"
   ]
  },
  {
   "cell_type": "code",
   "execution_count": 34,
   "metadata": {
    "collapsed": true
   },
   "outputs": [],
   "source": [
    "with open('vc.pkl', 'rb') as f:\n",
    "    pickle_vc = pickle.load(f)"
   ]
  },
  {
   "cell_type": "code",
   "execution_count": 35,
   "metadata": {
    "collapsed": true
   },
   "outputs": [],
   "source": [
    "with open('etc.pkl', 'rb') as f:\n",
    "    pickle_etc = pickle.load(f)"
   ]
  },
  {
   "cell_type": "markdown",
   "metadata": {},
   "source": [
    "### Standardize our test"
   ]
  },
  {
   "cell_type": "code",
   "execution_count": 41,
   "metadata": {
    "collapsed": true
   },
   "outputs": [],
   "source": [
    "X_test_sc = ss.transform(test_drop)"
   ]
  },
  {
   "cell_type": "code",
   "execution_count": 42,
   "metadata": {},
   "outputs": [
    {
     "data": {
      "text/plain": [
       "0.6876319121992401"
      ]
     },
     "execution_count": 42,
     "metadata": {},
     "output_type": "execute_result"
    }
   ],
   "source": [
    "vc.score(X_sc_holdout, y_holdout)"
   ]
  },
  {
   "cell_type": "markdown",
   "metadata": {},
   "source": [
    "### Predict Probabilities"
   ]
  },
  {
   "cell_type": "code",
   "execution_count": null,
   "metadata": {
    "collapsed": true
   },
   "outputs": [],
   "source": []
  },
  {
   "cell_type": "code",
   "execution_count": 50,
   "metadata": {},
   "outputs": [
    {
     "data": {
      "text/plain": [
       "array([[ 0.64699815,  0.35300185],\n",
       "       [ 0.47234262,  0.52765738],\n",
       "       [ 0.33131995,  0.66868005],\n",
       "       ..., \n",
       "       [ 0.64532093,  0.35467907],\n",
       "       [ 0.60645398,  0.39354603],\n",
       "       [ 0.79151882,  0.20848118]])"
      ]
     },
     "execution_count": 50,
     "metadata": {},
     "output_type": "execute_result"
    }
   ],
   "source": [
    "vc.predict_proba(X_test_sc)"
   ]
  },
  {
   "cell_type": "markdown",
   "metadata": {},
   "source": [
    "## Submit"
   ]
  },
  {
   "cell_type": "code",
   "execution_count": 79,
   "metadata": {},
   "outputs": [
    {
     "name": "stdout",
     "output_type": "stream",
     "text": [
      "2278\n",
      "2278\n"
     ]
    }
   ],
   "source": [
    "ncaa_submission = sample_sub_stage.copy()\n",
    "\n",
    "ncaa_submission['Pred'] = vc.predict_proba(X_test_sc)[:,1]\n",
    "\n",
    "print(len(vc.predict_proba(X_test_sc)[:,1]))\n",
    "\n",
    "print(len(ncaa_submission))"
   ]
  },
  {
   "cell_type": "code",
   "execution_count": 87,
   "metadata": {
    "collapsed": true
   },
   "outputs": [],
   "source": [
    "ncaa_submission.to_csv('submission_for_presentation.csv', index = False)"
   ]
  },
  {
   "cell_type": "code",
   "execution_count": 43,
   "metadata": {},
   "outputs": [
    {
     "data": {
      "text/html": [
       "<div>\n",
       "<style scoped>\n",
       "    .dataframe tbody tr th:only-of-type {\n",
       "        vertical-align: middle;\n",
       "    }\n",
       "\n",
       "    .dataframe tbody tr th {\n",
       "        vertical-align: top;\n",
       "    }\n",
       "\n",
       "    .dataframe thead th {\n",
       "        text-align: right;\n",
       "    }\n",
       "</style>\n",
       "<table border=\"1\" class=\"dataframe\">\n",
       "  <thead>\n",
       "    <tr style=\"text-align: right;\">\n",
       "      <th></th>\n",
       "      <th>0</th>\n",
       "    </tr>\n",
       "  </thead>\n",
       "  <tbody>\n",
       "    <tr>\n",
       "      <th>team1seed</th>\n",
       "      <td>0.251468</td>\n",
       "    </tr>\n",
       "    <tr>\n",
       "      <th>team2seed</th>\n",
       "      <td>0.191067</td>\n",
       "    </tr>\n",
       "    <tr>\n",
       "      <th>WStl_med_diff</th>\n",
       "      <td>0.125637</td>\n",
       "    </tr>\n",
       "    <tr>\n",
       "      <th>team1wins_season</th>\n",
       "      <td>0.111678</td>\n",
       "    </tr>\n",
       "    <tr>\n",
       "      <th>team2wins_season</th>\n",
       "      <td>0.105228</td>\n",
       "    </tr>\n",
       "    <tr>\n",
       "      <th>team1losses_season</th>\n",
       "      <td>0.065181</td>\n",
       "    </tr>\n",
       "    <tr>\n",
       "      <th>team2losses_season</th>\n",
       "      <td>0.048288</td>\n",
       "    </tr>\n",
       "    <tr>\n",
       "      <th>WEFG%_med_diff</th>\n",
       "      <td>0.006270</td>\n",
       "    </tr>\n",
       "    <tr>\n",
       "      <th>WLoc</th>\n",
       "      <td>0.005335</td>\n",
       "    </tr>\n",
       "    <tr>\n",
       "      <th>LEFF_med_diff</th>\n",
       "      <td>0.005077</td>\n",
       "    </tr>\n",
       "    <tr>\n",
       "      <th>LBlk_med_diff</th>\n",
       "      <td>0.004458</td>\n",
       "    </tr>\n",
       "    <tr>\n",
       "      <th>WTF%_med_diff</th>\n",
       "      <td>0.004430</td>\n",
       "    </tr>\n",
       "    <tr>\n",
       "      <th>WFGM_med_diff</th>\n",
       "      <td>0.004129</td>\n",
       "    </tr>\n",
       "    <tr>\n",
       "      <th>WPF_med_diff</th>\n",
       "      <td>0.003796</td>\n",
       "    </tr>\n",
       "    <tr>\n",
       "      <th>WEff_med_diff</th>\n",
       "      <td>0.003389</td>\n",
       "    </tr>\n",
       "  </tbody>\n",
       "</table>\n",
       "</div>"
      ],
      "text/plain": [
       "                           0\n",
       "team1seed           0.251468\n",
       "team2seed           0.191067\n",
       "WStl_med_diff       0.125637\n",
       "team1wins_season    0.111678\n",
       "team2wins_season    0.105228\n",
       "team1losses_season  0.065181\n",
       "team2losses_season  0.048288\n",
       "WEFG%_med_diff      0.006270\n",
       "WLoc                0.005335\n",
       "LEFF_med_diff       0.005077\n",
       "LBlk_med_diff       0.004458\n",
       "WTF%_med_diff       0.004430\n",
       "WFGM_med_diff       0.004129\n",
       "WPF_med_diff        0.003796\n",
       "WEff_med_diff       0.003389"
      ]
     },
     "execution_count": 43,
     "metadata": {},
     "output_type": "execute_result"
    }
   ],
   "source": [
    "pd.DataFrame(gs_etc.best_estimator_.feature_importances_, index = test_drop.columns).sort_values(by = 0, ascending = False).head(15)"
   ]
  },
  {
   "cell_type": "code",
   "execution_count": 72,
   "metadata": {
    "collapsed": true
   },
   "outputs": [],
   "source": [
    "# with open('xgb', 'rb') as f:\n",
    "#     pickle_xgb = pickle.load(f)"
   ]
  },
  {
   "cell_type": "code",
   "execution_count": 86,
   "metadata": {
    "collapsed": true
   },
   "outputs": [],
   "source": [
    "# with open('lr', 'rb') as f:\n",
    "#     pickle_lr = pickle.load(f)"
   ]
  },
  {
   "cell_type": "code",
   "execution_count": 93,
   "metadata": {
    "collapsed": true
   },
   "outputs": [],
   "source": [
    "# pd.DataFrame(pickle_xgb.best_estimator_.feature_importances_, index = test_drop.columns).sort_values(by = 0, ascending = False).head(15)"
   ]
  },
  {
   "cell_type": "code",
   "execution_count": null,
   "metadata": {
    "collapsed": true
   },
   "outputs": [],
   "source": [
    "#Offensive rebounding percentage (OREB%) = Offensive rebounds / (Offensive rebounds + Opponent defensive rebounds)\n",
    "#Defensive rebounding percentage (DREB%) = Defensive rebounds / (Defensive rebounds + Opponent offensive rebounds)\n",
    "# win_test_team1['WTOR'] = win_test_team1.WTO / (win_test_team1.WFGA + 0.44*win_test_team1.WFTA + win_test_team1.WTO)"
   ]
  },
  {
   "cell_type": "code",
   "execution_count": 85,
   "metadata": {
    "collapsed": true
   },
   "outputs": [],
   "source": [
    "# reg_det_cut = regular_season_detailed.query(\"Season >005\")"
   ]
  },
  {
   "cell_type": "code",
   "execution_count": 107,
   "metadata": {
    "collapsed": true
   },
   "outputs": [],
   "source": [
    "# train_18 = train.query(\"Season == 2018\")\n",
    "\n",
    "# det_18 = regular_season_detailed.query(\"Season == 2018\")\n",
    "# det_18_vil = det_18.query(\"WTeamID == 1437\")\n",
    "\n",
    "# team = pd.read_csv(\"Teams.csv\")\n",
    "# team.query(\"TeamName == 'Villanova'\")\n",
    "\n",
    "# team.query(\"TeamID == 1153\")\n",
    "\n",
    "# det_18_cin = det_18.query(\"WTeamID == 1153\")\n",
    "\n",
    "# train.query(\"Season == 2018\").sort_values(by = 'team1wins_season', ascending = False)[['team1', 'team1wins_season']]"
   ]
  },
  {
   "cell_type": "code",
   "execution_count": null,
   "metadata": {
    "collapsed": true
   },
   "outputs": [],
   "source": []
  },
  {
   "cell_type": "code",
   "execution_count": 88,
   "metadata": {},
   "outputs": [
    {
     "data": {
      "image/png": "[encoded data removed]",
      "text/plain": [
       "<IPython.core.display.Image object>"
      ]
     },
     "execution_count": 88,
     "metadata": {},
     "output_type": "execute_result"
    }
   ],
   "source": [
    "from bracketeer import build_bracket\n",
    "b = build_bracket(\n",
    "        outputPath='output.png',\n",
    "        teamsPath='Teams.csv',\n",
    "        seedsPath='NCAATourneySeeds.csv',\n",
    "        submissionPath='submission_for_presentation.csv',\n",
    "        slotsPath='NCAATourneySlots.csv',\n",
    "        year=2018\n",
    ")\n",
    "\n",
    "from IPython.display import Image\n",
    "Image(\"output.png\")"
   ]
  },
  {
   "cell_type": "code",
   "execution_count": 45,
   "metadata": {
    "collapsed": true
   },
   "outputs": [],
   "source": [
    "bracket_1 = ['San Diego St', 'Houston', 'Montana', 'Michigan', 'Providence', 'Texas A&M', 'Lipscomb', 'North Carolina', 'S Dakota St', 'Ohio St',\\\n",
    "'UNC Greensboro', 'Gonzaga', 'Florida St', 'Missouri', 'NC Central', 'Xavier']"
   ]
  },
  {
   "cell_type": "code",
   "execution_count": 46,
   "metadata": {
    "collapsed": true
   },
   "outputs": [],
   "source": [
    "bracket_4 = ['UCLA', 'Florida', 'SF Austin', 'Texas Tech', 'Butler', 'Arkansas', 'CS Fullerton', 'Purdue', 'Murray St', \\\n",
    "            'West Virginia', 'Marshall', 'Wichita St', 'Alabama', 'Virginia Tech', 'Radford', 'Villanova']"
   ]
  },
  {
   "cell_type": "code",
   "execution_count": 47,
   "metadata": {
    "collapsed": true
   },
   "outputs": [],
   "source": [
    "bracket_3 = ['Syracuse', 'TCU', 'Bucknell', 'Michigan St', 'Oklahoma', 'Rhode Island', 'Iona', 'Duke', 'New Mexico St',\\\n",
    "            'Clemson', 'Col Charleston', 'Auburn', 'NC State', \"Seton Hall\", 'Penn', 'Kansas']"
   ]
  },
  {
   "cell_type": "code",
   "execution_count": 48,
   "metadata": {
    "collapsed": true
   },
   "outputs": [],
   "source": [
    "bracket_2 = ['Loyola-Chicago', 'Miami FL', 'Wright St', 'Tennessee', 'Texas', 'Nevada', 'Georgia St', 'Cincinnati', 'Davidson',\\\n",
    "            'Kentucky', 'Buffalo', 'Arizona', 'Kansas St', 'Creighton', 'UMBC', 'Virginia']"
   ]
  },
  {
   "cell_type": "code",
   "execution_count": 78,
   "metadata": {
    "scrolled": true
   },
   "outputs": [
    {
     "data": {
      "text/html": [
       "<div>\n",
       "<style scoped>\n",
       "    .dataframe tbody tr th:only-of-type {\n",
       "        vertical-align: middle;\n",
       "    }\n",
       "\n",
       "    .dataframe tbody tr th {\n",
       "        vertical-align: top;\n",
       "    }\n",
       "\n",
       "    .dataframe thead th {\n",
       "        text-align: right;\n",
       "    }\n",
       "</style>\n",
       "<table border=\"1\" class=\"dataframe\">\n",
       "  <thead>\n",
       "    <tr style=\"text-align: right;\">\n",
       "      <th></th>\n",
       "      <th>TeamID</th>\n",
       "      <th>TeamName</th>\n",
       "      <th>FirstD1Season</th>\n",
       "      <th>LastD1Season</th>\n",
       "    </tr>\n",
       "  </thead>\n",
       "  <tbody>\n",
       "    <tr>\n",
       "      <th>336</th>\n",
       "      <td>1437</td>\n",
       "      <td>Villanova</td>\n",
       "      <td>1985</td>\n",
       "      <td>2018</td>\n",
       "    </tr>\n",
       "  </tbody>\n",
       "</table>\n",
       "</div>"
      ],
      "text/plain": [
       "     TeamID   TeamName  FirstD1Season  LastD1Season\n",
       "336    1437  Villanova           1985          2018"
      ]
     },
     "execution_count": 78,
     "metadata": {},
     "output_type": "execute_result"
    }
   ],
   "source": [
    "teams[teams['TeamName'] == 'Villanova']"
   ]
  },
  {
   "cell_type": "code",
   "execution_count": 50,
   "metadata": {},
   "outputs": [
    {
     "data": {
      "text/plain": [
       "1393"
      ]
     },
     "execution_count": 50,
     "metadata": {},
     "output_type": "execute_result"
    }
   ],
   "source": [
    "teams.loc[teams['TeamName']== 'Syracuse', ['TeamID']].values[0][0]"
   ]
  },
  {
   "cell_type": "code",
   "execution_count": 51,
   "metadata": {
    "collapsed": true
   },
   "outputs": [],
   "source": [
    "id_bracket1 = []\n",
    "for i in bracket_1:\n",
    "    id_bracket1.append(teams.loc[teams['TeamName']== i, ['TeamID']].values[0][0])"
   ]
  },
  {
   "cell_type": "code",
   "execution_count": 52,
   "metadata": {
    "collapsed": true,
    "scrolled": true
   },
   "outputs": [],
   "source": [
    "id_bracket2 = []\n",
    "for i in bracket_2:\n",
    "    id_bracket2.append(teams.loc[teams['TeamName']== i, ['TeamID']].values[0][0])"
   ]
  },
  {
   "cell_type": "code",
   "execution_count": 53,
   "metadata": {
    "collapsed": true
   },
   "outputs": [],
   "source": [
    "id_bracket3 = []\n",
    "for i in bracket_3:\n",
    "    id_bracket3.append(teams.loc[teams['TeamName']== i, ['TeamID']].values[0][0])"
   ]
  },
  {
   "cell_type": "code",
   "execution_count": 54,
   "metadata": {
    "collapsed": true
   },
   "outputs": [],
   "source": [
    "id_bracket4 = []\n",
    "for i in bracket_4:\n",
    "    id_bracket4.append(teams.loc[teams['TeamName']== i, ['TeamID']].values[0][0])"
   ]
  },
  {
   "cell_type": "code",
   "execution_count": 55,
   "metadata": {
    "collapsed": true
   },
   "outputs": [],
   "source": [
    "sample_sub = sample_sub_stage.ID.str.split('_', expand = True).rename(columns={0: 'Season', 1: 'team1',2: 'team2'})\n",
    "sample = pd.concat([sample_sub_stage, sample_sub], axis = 1)\n",
    "sample['Season'] = sample['Season'].astype('int64')\n",
    "sample['team1'] = sample['team1'].astype('int64')\n",
    "sample['team2'] = sample['team2'].astype('int64')"
   ]
  },
  {
   "cell_type": "code",
   "execution_count": 57,
   "metadata": {},
   "outputs": [
    {
     "data": {
      "text/html": [
       "<div>\n",
       "<style scoped>\n",
       "    .dataframe tbody tr th:only-of-type {\n",
       "        vertical-align: middle;\n",
       "    }\n",
       "\n",
       "    .dataframe tbody tr th {\n",
       "        vertical-align: top;\n",
       "    }\n",
       "\n",
       "    .dataframe thead th {\n",
       "        text-align: right;\n",
       "    }\n",
       "</style>\n",
       "<table border=\"1\" class=\"dataframe\">\n",
       "  <thead>\n",
       "    <tr style=\"text-align: right;\">\n",
       "      <th></th>\n",
       "      <th>ID</th>\n",
       "      <th>Pred</th>\n",
       "      <th>Season</th>\n",
       "      <th>team1</th>\n",
       "      <th>team2</th>\n",
       "    </tr>\n",
       "  </thead>\n",
       "  <tbody>\n",
       "    <tr>\n",
       "      <th>1345</th>\n",
       "      <td>2018_1252_1314</td>\n",
       "      <td>0.5</td>\n",
       "      <td>2018</td>\n",
       "      <td>1252</td>\n",
       "      <td>1314</td>\n",
       "    </tr>\n",
       "  </tbody>\n",
       "</table>\n",
       "</div>"
      ],
      "text/plain": [
       "                  ID  Pred  Season  team1  team2\n",
       "1345  2018_1252_1314   0.5    2018   1252   1314"
      ]
     },
     "execution_count": 57,
     "metadata": {},
     "output_type": "execute_result"
    }
   ],
   "source": [
    "sample[sample['ID'] == '2018_1252_1314']"
   ]
  },
  {
   "cell_type": "code",
   "execution_count": 61,
   "metadata": {
    "collapsed": true
   },
   "outputs": [],
   "source": [
    "graph = ncaa_test(sample_sub_stage, reg_tour, regular_season_detailed)"
   ]
  },
  {
   "cell_type": "code",
   "execution_count": 62,
   "metadata": {
    "collapsed": true
   },
   "outputs": [],
   "source": [
    "graph['predictions'] = vc.predict(X_test_sc)"
   ]
  },
  {
   "cell_type": "code",
   "execution_count": 63,
   "metadata": {
    "collapsed": true
   },
   "outputs": [],
   "source": [
    "graph_feat = graph[['ID', 'team1', 'team2', 'team1seed', 'team2seed', 'team1_WEFG%_med', 'predictions']]"
   ]
  },
  {
   "cell_type": "code",
   "execution_count": 64,
   "metadata": {
    "collapsed": true
   },
   "outputs": [],
   "source": [
    "graph_df = pd.DataFrame(columns = ['ID', 'team1', 'team2', 'team1seed', 'team2seed', 'team1_WEFG%_med', 'predictions'])"
   ]
  },
  {
   "cell_type": "code",
   "execution_count": 65,
   "metadata": {
    "collapsed": true
   },
   "outputs": [],
   "source": [
    "ids = ['2018_1222_1361', '2018_1276_1285', '2018_1344_1401', '2018_1252_1314', '2018_1326_1355', '2018_1211_1422', '2018_1199_1281',\\\n",
    "'2018_1300_1462', '2018_1260_1274', '2018_1397_1460', '2018_1305_1400', '2018_1153_1209', '2018_1172_1246', '2018_1112_1138',\\\n",
    "'2018_1166_1243', '2018_1420_1438', '2018_1393_1395', '2018_1137_1277', '2018_1328_1348', '2018_1181_1233', '2018_1155_1308',\\\n",
    "'2018_1120_1158', '2018_1301_1371', '2018_1242_1355', '2018_1196_1417', '2018_1371_1403', '2018_1116_1139', '2018_1168_1345',\\\n",
    "'2018_1293_1452','2018_1267_1455', '2018_1104_1439', '2018_1347_1437']"
   ]
  },
  {
   "cell_type": "code",
   "execution_count": 66,
   "metadata": {
    "collapsed": true,
    "scrolled": true
   },
   "outputs": [],
   "source": [
    "for i in ids:\n",
    "    graph_df = graph_df.append(graph_feat[graph_feat['ID'] == i], ignore_index = True)"
   ]
  },
  {
   "cell_type": "code",
   "execution_count": 67,
   "metadata": {
    "collapsed": true
   },
   "outputs": [],
   "source": [
    "won = graph_df[graph_df['predictions'] == 1]"
   ]
  },
  {
   "cell_type": "code",
   "execution_count": 68,
   "metadata": {
    "collapsed": true
   },
   "outputs": [],
   "source": [
    "lost = graph_df[graph_df['predictions'] == 0]"
   ]
  },
  {
   "cell_type": "code",
   "execution_count": 69,
   "metadata": {},
   "outputs": [
    {
     "data": {
      "text/plain": [
       "array([6, 3, 5, 4, 3, 7, 2, 4, 8, 2, 5, 4, 1, 6, 7], dtype=object)"
      ]
     },
     "execution_count": 69,
     "metadata": {},
     "output_type": "execute_result"
    }
   ],
   "source": [
    "won.team1seed.values"
   ]
  },
  {
   "cell_type": "code",
   "execution_count": 70,
   "metadata": {},
   "outputs": [
    {
     "data": {
      "text/html": [
       "<div>\n",
       "<style scoped>\n",
       "    .dataframe tbody tr th:only-of-type {\n",
       "        vertical-align: middle;\n",
       "    }\n",
       "\n",
       "    .dataframe tbody tr th {\n",
       "        vertical-align: top;\n",
       "    }\n",
       "\n",
       "    .dataframe thead th {\n",
       "        text-align: right;\n",
       "    }\n",
       "</style>\n",
       "<table border=\"1\" class=\"dataframe\">\n",
       "  <thead>\n",
       "    <tr style=\"text-align: right;\">\n",
       "      <th></th>\n",
       "      <th>ID</th>\n",
       "      <th>team1</th>\n",
       "      <th>team2</th>\n",
       "      <th>team1seed</th>\n",
       "      <th>team2seed</th>\n",
       "      <th>team1_WEFG%_med</th>\n",
       "      <th>predictions</th>\n",
       "    </tr>\n",
       "  </thead>\n",
       "  <tbody>\n",
       "    <tr>\n",
       "      <th>0</th>\n",
       "      <td>2018_1222_1361</td>\n",
       "      <td>1222</td>\n",
       "      <td>1361</td>\n",
       "      <td>6</td>\n",
       "      <td>11</td>\n",
       "      <td>0.529776</td>\n",
       "      <td>1</td>\n",
       "    </tr>\n",
       "    <tr>\n",
       "      <th>1</th>\n",
       "      <td>2018_1276_1285</td>\n",
       "      <td>1276</td>\n",
       "      <td>1285</td>\n",
       "      <td>3</td>\n",
       "      <td>14</td>\n",
       "      <td>0.546875</td>\n",
       "      <td>1</td>\n",
       "    </tr>\n",
       "    <tr>\n",
       "      <th>4</th>\n",
       "      <td>2018_1326_1355</td>\n",
       "      <td>1326</td>\n",
       "      <td>1355</td>\n",
       "      <td>5</td>\n",
       "      <td>12</td>\n",
       "      <td>0.537607</td>\n",
       "      <td>1</td>\n",
       "    </tr>\n",
       "    <tr>\n",
       "      <th>5</th>\n",
       "      <td>2018_1211_1422</td>\n",
       "      <td>1211</td>\n",
       "      <td>1422</td>\n",
       "      <td>4</td>\n",
       "      <td>13</td>\n",
       "      <td>0.589478</td>\n",
       "      <td>1</td>\n",
       "    </tr>\n",
       "    <tr>\n",
       "      <th>9</th>\n",
       "      <td>2018_1397_1460</td>\n",
       "      <td>1397</td>\n",
       "      <td>1460</td>\n",
       "      <td>3</td>\n",
       "      <td>14</td>\n",
       "      <td>0.511364</td>\n",
       "      <td>1</td>\n",
       "    </tr>\n",
       "  </tbody>\n",
       "</table>\n",
       "</div>"
      ],
      "text/plain": [
       "               ID team1 team2 team1seed team2seed  team1_WEFG%_med predictions\n",
       "0  2018_1222_1361  1222  1361         6        11         0.529776           1\n",
       "1  2018_1276_1285  1276  1285         3        14         0.546875           1\n",
       "4  2018_1326_1355  1326  1355         5        12         0.537607           1\n",
       "5  2018_1211_1422  1211  1422         4        13         0.589478           1\n",
       "9  2018_1397_1460  1397  1460         3        14         0.511364           1"
      ]
     },
     "execution_count": 70,
     "metadata": {},
     "output_type": "execute_result"
    }
   ],
   "source": [
    "won.head()"
   ]
  },
  {
   "cell_type": "code",
   "execution_count": 73,
   "metadata": {
    "collapsed": true
   },
   "outputs": [],
   "source": [
    "from mpl_toolkits.mplot3d import Axes3D\n",
    "from mpl_toolkits.mplot3d import proj3d"
   ]
  },
  {
   "cell_type": "code",
   "execution_count": 74,
   "metadata": {
    "scrolled": false
   },
   "outputs": [
    {
     "data": {
      "image/png": "[encoded data removed]",
      "text/plain": [
       "<Figure size 864x504 with 1 Axes>"
      ]
     },
     "metadata": {},
     "output_type": "display_data"
    }
   ],
   "source": [
    "\n",
    "# woreb = det_18_vil['WOR'].values / (det_18_vil['WOR'].values + det_18_vil['LDR'].values) \n",
    "# wdreb = det_18_vil['WDR'].values / (det_18_vil['WDR'].values + det_18_vil['LOR'].values)\n",
    "\n",
    "# arbitraty penalty term = 0.66 - some ft attempts stem from fg attempts\n",
    "# this can obviously be changed to a different value\n",
    "\n",
    "# loreb = det_18_cin['LOR'].values / (det_18_cin['LOR'].values + det_18_cin['WDR'].values) \n",
    "# ldreb = det_18_cin['LDR'].values / (det_18_cin['LDR'].values + det_18_cin['WOR'].values)\n",
    "\n",
    "fig = plt.figure(figsize=(12, 7))\n",
    "ax = fig.add_subplot(111, projection='3d')\n",
    "\n",
    "ax.set_title('Feature Importance for the first 32 games of the tournament', fontsize = 18)\n",
    "ax.scatter(won.team1seed.values, won.team2seed.values, won['team1_WEFG%_med'].values, c='blue', s = 60, edgecolor = 'black')\n",
    "ax.scatter(lost.team1seed.values, lost.team2seed, lost['team1_WEFG%_med'], c='red', s = 60, edgecolor = 'black')\n",
    "ax.set_xlabel('Team 1 seed', fontsize = 15, labelpad = 10)\n",
    "ax.set_ylabel('Team 2 seed', fontsize = 15, labelpad = 15)\n",
    "ax.set_zlabel(\"EFG Percentage 2018 Regular Season\", labelpad = 10)\n",
    "ax.view_init(elev = 15, azim=10)"
   ]
  },
  {
   "cell_type": "code",
   "execution_count": 75,
   "metadata": {
    "collapsed": true
   },
   "outputs": [],
   "source": [
    "teams = pd.read_csv(\"Teams.csv\")"
   ]
  },
  {
   "cell_type": "code",
   "execution_count": 77,
   "metadata": {},
   "outputs": [
    {
     "data": {
      "text/html": [
       "<div>\n",
       "<style scoped>\n",
       "    .dataframe tbody tr th:only-of-type {\n",
       "        vertical-align: middle;\n",
       "    }\n",
       "\n",
       "    .dataframe tbody tr th {\n",
       "        vertical-align: top;\n",
       "    }\n",
       "\n",
       "    .dataframe thead th {\n",
       "        text-align: right;\n",
       "    }\n",
       "</style>\n",
       "<table border=\"1\" class=\"dataframe\">\n",
       "  <thead>\n",
       "    <tr style=\"text-align: right;\">\n",
       "      <th></th>\n",
       "      <th>TeamID</th>\n",
       "      <th>TeamName</th>\n",
       "      <th>FirstD1Season</th>\n",
       "      <th>LastD1Season</th>\n",
       "    </tr>\n",
       "  </thead>\n",
       "  <tbody>\n",
       "    <tr>\n",
       "      <th>71</th>\n",
       "      <td>1172</td>\n",
       "      <td>Davidson</td>\n",
       "      <td>1985</td>\n",
       "      <td>2018</td>\n",
       "    </tr>\n",
       "  </tbody>\n",
       "</table>\n",
       "</div>"
      ],
      "text/plain": [
       "    TeamID  TeamName  FirstD1Season  LastD1Season\n",
       "71    1172  Davidson           1985          2018"
      ]
     },
     "execution_count": 77,
     "metadata": {},
     "output_type": "execute_result"
    }
   ],
   "source": [
    "teams[teams['TeamID'] == 1172]"
   ]
  },
  {
   "cell_type": "code",
   "execution_count": null,
   "metadata": {
    "collapsed": true
   },
   "outputs": [],
   "source": [
    "teams[teams[]]"
   ]
  },
  {
   "cell_type": "code",
   "execution_count": 89,
   "metadata": {},
   "outputs": [
    {
     "data": {
      "text/html": [
       "<div>\n",
       "<style scoped>\n",
       "    .dataframe tbody tr th:only-of-type {\n",
       "        vertical-align: middle;\n",
       "    }\n",
       "\n",
       "    .dataframe tbody tr th {\n",
       "        vertical-align: top;\n",
       "    }\n",
       "\n",
       "    .dataframe thead th {\n",
       "        text-align: right;\n",
       "    }\n",
       "</style>\n",
       "<table border=\"1\" class=\"dataframe\">\n",
       "  <thead>\n",
       "    <tr style=\"text-align: right;\">\n",
       "      <th></th>\n",
       "      <th>ID</th>\n",
       "      <th>team1</th>\n",
       "      <th>team2</th>\n",
       "      <th>team1seed</th>\n",
       "      <th>team2seed</th>\n",
       "      <th>team1_WEFG%_med</th>\n",
       "      <th>predictions</th>\n",
       "    </tr>\n",
       "  </thead>\n",
       "  <tbody>\n",
       "    <tr>\n",
       "      <th>2</th>\n",
       "      <td>2018_1344_1401</td>\n",
       "      <td>1344</td>\n",
       "      <td>1401</td>\n",
       "      <td>10</td>\n",
       "      <td>7</td>\n",
       "      <td>0.523810</td>\n",
       "      <td>0</td>\n",
       "    </tr>\n",
       "    <tr>\n",
       "      <th>3</th>\n",
       "      <td>2018_1252_1314</td>\n",
       "      <td>1252</td>\n",
       "      <td>1314</td>\n",
       "      <td>15</td>\n",
       "      <td>2</td>\n",
       "      <td>0.563109</td>\n",
       "      <td>0</td>\n",
       "    </tr>\n",
       "    <tr>\n",
       "      <th>6</th>\n",
       "      <td>2018_1199_1281</td>\n",
       "      <td>1199</td>\n",
       "      <td>1281</td>\n",
       "      <td>9</td>\n",
       "      <td>8</td>\n",
       "      <td>0.588214</td>\n",
       "      <td>0</td>\n",
       "    </tr>\n",
       "    <tr>\n",
       "      <th>7</th>\n",
       "      <td>2018_1300_1462</td>\n",
       "      <td>1300</td>\n",
       "      <td>1462</td>\n",
       "      <td>16</td>\n",
       "      <td>1</td>\n",
       "      <td>0.530277</td>\n",
       "      <td>0</td>\n",
       "    </tr>\n",
       "    <tr>\n",
       "      <th>8</th>\n",
       "      <td>2018_1260_1274</td>\n",
       "      <td>1260</td>\n",
       "      <td>1274</td>\n",
       "      <td>11</td>\n",
       "      <td>6</td>\n",
       "      <td>0.590909</td>\n",
       "      <td>0</td>\n",
       "    </tr>\n",
       "    <tr>\n",
       "      <th>12</th>\n",
       "      <td>2018_1172_1246</td>\n",
       "      <td>1172</td>\n",
       "      <td>1246</td>\n",
       "      <td>12</td>\n",
       "      <td>5</td>\n",
       "      <td>0.632653</td>\n",
       "      <td>0</td>\n",
       "    </tr>\n",
       "    <tr>\n",
       "      <th>15</th>\n",
       "      <td>2018_1420_1438</td>\n",
       "      <td>1420</td>\n",
       "      <td>1438</td>\n",
       "      <td>16</td>\n",
       "      <td>1</td>\n",
       "      <td>0.561224</td>\n",
       "      <td>0</td>\n",
       "    </tr>\n",
       "    <tr>\n",
       "      <th>16</th>\n",
       "      <td>2018_1393_1395</td>\n",
       "      <td>1393</td>\n",
       "      <td>1395</td>\n",
       "      <td>11</td>\n",
       "      <td>6</td>\n",
       "      <td>0.513906</td>\n",
       "      <td>0</td>\n",
       "    </tr>\n",
       "    <tr>\n",
       "      <th>17</th>\n",
       "      <td>2018_1137_1277</td>\n",
       "      <td>1137</td>\n",
       "      <td>1277</td>\n",
       "      <td>14</td>\n",
       "      <td>3</td>\n",
       "      <td>0.560000</td>\n",
       "      <td>0</td>\n",
       "    </tr>\n",
       "    <tr>\n",
       "      <th>18</th>\n",
       "      <td>2018_1328_1348</td>\n",
       "      <td>1328</td>\n",
       "      <td>1348</td>\n",
       "      <td>10</td>\n",
       "      <td>7</td>\n",
       "      <td>0.602597</td>\n",
       "      <td>0</td>\n",
       "    </tr>\n",
       "    <tr>\n",
       "      <th>22</th>\n",
       "      <td>2018_1301_1371</td>\n",
       "      <td>1301</td>\n",
       "      <td>1371</td>\n",
       "      <td>9</td>\n",
       "      <td>8</td>\n",
       "      <td>0.547945</td>\n",
       "      <td>0</td>\n",
       "    </tr>\n",
       "    <tr>\n",
       "      <th>25</th>\n",
       "      <td>2018_1371_1403</td>\n",
       "      <td>1371</td>\n",
       "      <td>1403</td>\n",
       "      <td>8</td>\n",
       "      <td>3</td>\n",
       "      <td>0.549180</td>\n",
       "      <td>0</td>\n",
       "    </tr>\n",
       "    <tr>\n",
       "      <th>27</th>\n",
       "      <td>2018_1168_1345</td>\n",
       "      <td>1168</td>\n",
       "      <td>1345</td>\n",
       "      <td>15</td>\n",
       "      <td>2</td>\n",
       "      <td>0.575188</td>\n",
       "      <td>0</td>\n",
       "    </tr>\n",
       "    <tr>\n",
       "      <th>28</th>\n",
       "      <td>2018_1293_1452</td>\n",
       "      <td>1293</td>\n",
       "      <td>1452</td>\n",
       "      <td>12</td>\n",
       "      <td>5</td>\n",
       "      <td>0.569805</td>\n",
       "      <td>0</td>\n",
       "    </tr>\n",
       "    <tr>\n",
       "      <th>29</th>\n",
       "      <td>2018_1267_1455</td>\n",
       "      <td>1267</td>\n",
       "      <td>1455</td>\n",
       "      <td>13</td>\n",
       "      <td>4</td>\n",
       "      <td>0.546875</td>\n",
       "      <td>0</td>\n",
       "    </tr>\n",
       "    <tr>\n",
       "      <th>30</th>\n",
       "      <td>2018_1104_1439</td>\n",
       "      <td>1104</td>\n",
       "      <td>1439</td>\n",
       "      <td>9</td>\n",
       "      <td>8</td>\n",
       "      <td>0.576923</td>\n",
       "      <td>0</td>\n",
       "    </tr>\n",
       "    <tr>\n",
       "      <th>31</th>\n",
       "      <td>2018_1347_1437</td>\n",
       "      <td>1347</td>\n",
       "      <td>1437</td>\n",
       "      <td>16</td>\n",
       "      <td>1</td>\n",
       "      <td>0.513570</td>\n",
       "      <td>0</td>\n",
       "    </tr>\n",
       "  </tbody>\n",
       "</table>\n",
       "</div>"
      ],
      "text/plain": [
       "                ID team1 team2 team1seed team2seed  team1_WEFG%_med  \\\n",
       "2   2018_1344_1401  1344  1401        10         7         0.523810   \n",
       "3   2018_1252_1314  1252  1314        15         2         0.563109   \n",
       "6   2018_1199_1281  1199  1281         9         8         0.588214   \n",
       "7   2018_1300_1462  1300  1462        16         1         0.530277   \n",
       "8   2018_1260_1274  1260  1274        11         6         0.590909   \n",
       "12  2018_1172_1246  1172  1246        12         5         0.632653   \n",
       "15  2018_1420_1438  1420  1438        16         1         0.561224   \n",
       "16  2018_1393_1395  1393  1395        11         6         0.513906   \n",
       "17  2018_1137_1277  1137  1277        14         3         0.560000   \n",
       "18  2018_1328_1348  1328  1348        10         7         0.602597   \n",
       "22  2018_1301_1371  1301  1371         9         8         0.547945   \n",
       "25  2018_1371_1403  1371  1403         8         3         0.549180   \n",
       "27  2018_1168_1345  1168  1345        15         2         0.575188   \n",
       "28  2018_1293_1452  1293  1452        12         5         0.569805   \n",
       "29  2018_1267_1455  1267  1455        13         4         0.546875   \n",
       "30  2018_1104_1439  1104  1439         9         8         0.576923   \n",
       "31  2018_1347_1437  1347  1437        16         1         0.513570   \n",
       "\n",
       "   predictions  \n",
       "2            0  \n",
       "3            0  \n",
       "6            0  \n",
       "7            0  \n",
       "8            0  \n",
       "12           0  \n",
       "15           0  \n",
       "16           0  \n",
       "17           0  \n",
       "18           0  \n",
       "22           0  \n",
       "25           0  \n",
       "27           0  \n",
       "28           0  \n",
       "29           0  \n",
       "30           0  \n",
       "31           0  "
      ]
     },
     "execution_count": 89,
     "metadata": {},
     "output_type": "execute_result"
    }
   ],
   "source": [
    "lost"
   ]
  },
  {
   "cell_type": "code",
   "execution_count": null,
   "metadata": {
    "collapsed": true
   },
   "outputs": [],
   "source": []
  }
 ],
 "metadata": {
  "kernelspec": {
   "display_name": "Python 3",
   "language": "python",
   "name": "python3"
  },
  "language_info": {
   "codemirror_mode": {
    "name": "ipython",
    "version": 3
   },
   "file_extension": ".py",
   "mimetype": "text/x-python",
   "name": "python",
   "nbconvert_exporter": "python",
   "pygments_lexer": "ipython3",
   "version": "3.6.3"
  }
 },
 "nbformat": 4,
 "nbformat_minor": 2
}
